{
 "cells": [
  {
   "cell_type": "markdown",
   "id": "426b7d6b",
   "metadata": {},
   "source": [
    "# Sentiment Analysis\n",
    "\n",
    "This stage of the project is dedicated to Sentiment Analysis, or popularly called 'opinion mining'. The aim is to determine the overall contextual polarity of a review. In this sense, a review is a reaction of a person to their experience in an establishment. \n",
    "\n",
    "This analysis does not determines if a sentence is objective or subjective, fact or opinion. Results of the text analysis will be shown as *positive*, *negative* or *neutral* opinion.\n",
    "\n",
    "I will use NLTK Sentiment Analyser VADER for the analysis, and the target labels will be the variable 'stars' which indicates the rate of positive, negative or neutral opinion a user had in the review.\n",
    "\n",
    "<ul>\n",
    "    <li>1. Imports</li>\n",
    "    <li>2. Data</li>\n",
    "    <li>3. Sentiment Analysis</li>\n",
    "        <ul>\n",
    "            <li>3.1 Testing VADER with a random review</li>\n",
    "            <li>3.2 Computing polarity scores</li>\n",
    "            <li>3.3 Comparison Analysis of the compound score and the original label</li> \n",
    "            <ul>\n",
    "            <li>4.1 Testing TextBlob with a random review</li>\n",
    "            <li>4.2 Computing polarity scores</li>\n",
    "            <li>4.3 Comparison Analysis of the compound score and the original label</li>\n",
    "            \n",
    "       \n",
    "</ul>"
   ]
  },
  {
   "cell_type": "markdown",
   "id": "8a5b18c6",
   "metadata": {},
   "source": [
    "# 1. Imports"
   ]
  },
  {
   "cell_type": "code",
   "execution_count": 21,
   "id": "fb68637d",
   "metadata": {},
   "outputs": [],
   "source": [
    "#basic libraries for linear algebra and data procesing\n",
    "import numpy as np\n",
    "import pandas as pd\n",
    "\n",
    "#visualization\n",
    "import matplotlib.pyplot as plt\n",
    "import seaborn as sns\n",
    "\n",
    "#sentiment analysis\n",
    "from nltk.sentiment.vader import SentimentIntensityAnalyzer\n",
    "\n",
    "#comparison analysis metrics\n",
    "from sklearn.metrics import accuracy_score,classification_report,confusion_matrix,ConfusionMatrixDisplay\n",
    "\n",
    "#time and warnings\n",
    "import time\n",
    "import warnings\n",
    "\n",
    "#settings\n",
    "warnings.filterwarnings(\"ignore\")\n",
    "%matplotlib inline\n",
    "sns.set_context('poster', font_scale=0.5)"
   ]
  },
  {
   "cell_type": "markdown",
   "id": "8cc91654",
   "metadata": {},
   "source": [
    "# 2. Data"
   ]
  },
  {
   "cell_type": "code",
   "execution_count": 22,
   "id": "aefe7d6a",
   "metadata": {},
   "outputs": [],
   "source": [
    "#loading the review dataset\n",
    "review = pd.read_csv('data/review_prepared.csv')"
   ]
  },
  {
   "cell_type": "code",
   "execution_count": 23,
   "id": "69b61278-5b3d-4685-80f0-05e4b417228a",
   "metadata": {},
   "outputs": [
    {
     "data": {
      "text/plain": [
       "Index(['Unnamed: 0', 'business_categories', 'business_city',\n",
       "       'business_full_address', 'business_id', 'business_latitude',\n",
       "       'business_longitude', 'business_name', 'business_open',\n",
       "       'business_review_count', 'business_stars', 'business_state', 'cool',\n",
       "       'date', 'funny', 'review_id', 'reviewer_average_stars',\n",
       "       'reviewer_blank', 'reviewer_cool', 'reviewer_funny', 'reviewer_name',\n",
       "       'reviewer_review_count', 'reviewer_useful', 'stars', 'text', 'useful',\n",
       "       'user_id', 'review_length'],\n",
       "      dtype='object')"
      ]
     },
     "execution_count": 23,
     "metadata": {},
     "output_type": "execute_result"
    }
   ],
   "source": [
    "review.columns"
   ]
  },
  {
   "cell_type": "code",
   "execution_count": 24,
   "id": "783fe49f",
   "metadata": {},
   "outputs": [],
   "source": [
    "#filtering out the stars and text columns\n",
    "reviews = review[['text', 'stars']].reset_index().drop(columns='index')"
   ]
  },
  {
   "cell_type": "code",
   "execution_count": 25,
   "id": "0b629ad6",
   "metadata": {},
   "outputs": [
    {
     "name": "stdout",
     "output_type": "stream",
     "text": [
      "(229130, 2)\n"
     ]
    },
    {
     "data": {
      "text/html": [
       "<div>\n",
       "<style scoped>\n",
       "    .dataframe tbody tr th:only-of-type {\n",
       "        vertical-align: middle;\n",
       "    }\n",
       "\n",
       "    .dataframe tbody tr th {\n",
       "        vertical-align: top;\n",
       "    }\n",
       "\n",
       "    .dataframe thead th {\n",
       "        text-align: right;\n",
       "    }\n",
       "</style>\n",
       "<table border=\"1\" class=\"dataframe\">\n",
       "  <thead>\n",
       "    <tr style=\"text-align: right;\">\n",
       "      <th></th>\n",
       "      <th>text</th>\n",
       "      <th>stars</th>\n",
       "    </tr>\n",
       "  </thead>\n",
       "  <tbody>\n",
       "    <tr>\n",
       "      <th>0</th>\n",
       "      <td>My wife took me here on my birthday for breakf...</td>\n",
       "      <td>5</td>\n",
       "    </tr>\n",
       "    <tr>\n",
       "      <th>1</th>\n",
       "      <td>I have no idea why some people give bad review...</td>\n",
       "      <td>5</td>\n",
       "    </tr>\n",
       "    <tr>\n",
       "      <th>2</th>\n",
       "      <td>love the gyro plate. Rice is so good and I als...</td>\n",
       "      <td>4</td>\n",
       "    </tr>\n",
       "    <tr>\n",
       "      <th>3</th>\n",
       "      <td>Rosie, Dakota, and I LOVE Chaparral Dog Park!!...</td>\n",
       "      <td>5</td>\n",
       "    </tr>\n",
       "    <tr>\n",
       "      <th>4</th>\n",
       "      <td>General Manager Scott Petello is a good egg!!!...</td>\n",
       "      <td>5</td>\n",
       "    </tr>\n",
       "  </tbody>\n",
       "</table>\n",
       "</div>"
      ],
      "text/plain": [
       "                                                text  stars\n",
       "0  My wife took me here on my birthday for breakf...      5\n",
       "1  I have no idea why some people give bad review...      5\n",
       "2  love the gyro plate. Rice is so good and I als...      4\n",
       "3  Rosie, Dakota, and I LOVE Chaparral Dog Park!!...      5\n",
       "4  General Manager Scott Petello is a good egg!!!...      5"
      ]
     },
     "execution_count": 25,
     "metadata": {},
     "output_type": "execute_result"
    }
   ],
   "source": [
    "print(reviews.shape)\n",
    "reviews.head()"
   ]
  },
  {
   "cell_type": "markdown",
   "id": "84841dc7",
   "metadata": {},
   "source": [
    "# 3. Sentiment Analysis"
   ]
  },
  {
   "cell_type": "code",
   "execution_count": 26,
   "id": "1f44756a",
   "metadata": {},
   "outputs": [
    {
     "data": {
      "image/png": "[encoded data removed]",
      "text/plain": [
       "<Figure size 1000x600 with 1 Axes>"
      ]
     },
     "metadata": {},
     "output_type": "display_data"
    }
   ],
   "source": [
    "#number of values per star rating\n",
    "reviews['stars'].value_counts().plot.barh(color = '#8e77ec', figsize = (10,6), title = 'Number of values per rating');"
   ]
  },
  {
   "cell_type": "markdown",
   "id": "f648aa27",
   "metadata": {},
   "source": [
    "## 3.1 Testing VADER with a random review"
   ]
  },
  {
   "cell_type": "code",
   "execution_count": 27,
   "id": "c46f6193",
   "metadata": {},
   "outputs": [
    {
     "name": "stderr",
     "output_type": "stream",
     "text": [
      "[nltk_data] Downloading package vader_lexicon to\n",
      "[nltk_data]     C:\\Users\\besid\\AppData\\Roaming\\nltk_data...\n",
      "[nltk_data]   Package vader_lexicon is already up-to-date!\n"
     ]
    }
   ],
   "source": [
    "#creating a sid object from the VADER\n",
    "import nltk\n",
    "nltk.download('vader_lexicon')\n",
    "sid = SentimentIntensityAnalyzer()"
   ]
  },
  {
   "cell_type": "markdown",
   "id": "e5b1bda2",
   "metadata": {},
   "source": [
    "**Test 1**"
   ]
  },
  {
   "cell_type": "code",
   "execution_count": 28,
   "id": "8aa4adf8",
   "metadata": {},
   "outputs": [
    {
     "name": "stdout",
     "output_type": "stream",
     "text": [
      "VADER polarity score:  {'neg': 0.058, 'neu': 0.829, 'pos': 0.114, 'compound': 0.8602}\n",
      "Actual target star:  2\n",
      "Actual review text: I have been here a couple of times as it is about a block from where I live. It is your typical neighborhood bar. That is, not a lot of people, average prices, okay happy hour.\n",
      "\n",
      "Their menu is bar food. Burgers, Wings, Fries, and so on. The have the standard domestics on tap (Bud, Coors, Miller etc).\n",
      "\n",
      "A lot of times they have live music at 9 or 10. If this is for you then you have the chance to see an exclusive performance since not a lot of patrons are there. However, it gets pretty loud. So if this does not sound like your thing, be aware what time it is. \n",
      "\n",
      "Service is pretty bad if you are in the \"restaurant\" part. The only time I have eaten at a table the bartender was also our server. Needless to say slow is an understatement. \n",
      "\n",
      "The only reason I go here is so I don't have to drive anywhere. 2 stars because I have experienced better, much better. My experiences tells e that the Waterfront is just a corner bar. Nothing Special.\n"
     ]
    }
   ],
   "source": [
    "examplerow = 6666\n",
    "test_sid_scores = sid.polarity_scores(reviews.loc[examplerow]['text'])\n",
    "test_target_star = reviews.loc[examplerow]['stars']\n",
    "\n",
    "print('VADER polarity score: ', test_sid_scores)\n",
    "print('Actual target star: ', test_target_star)\n",
    "print('Actual review text:', reviews.text[examplerow])"
   ]
  },
  {
   "cell_type": "markdown",
   "id": "6b5b2002",
   "metadata": {},
   "source": [
    "**Test 2**"
   ]
  },
  {
   "cell_type": "code",
   "execution_count": 29,
   "id": "cdde35c0",
   "metadata": {},
   "outputs": [
    {
     "name": "stdout",
     "output_type": "stream",
     "text": [
      "VADER polarity score:  {'neg': 0.0, 'neu': 1.0, 'pos': 0.0, 'compound': 0.0}\n",
      "Actual target star:  5\n",
      "Actual review text: Fan-friggin-tastic!\n"
     ]
    }
   ],
   "source": [
    "test2_sid_scores = sid.polarity_scores(reviews.loc[183761]['text'])\n",
    "test2_target_star = reviews.loc[183761]['stars']\n",
    "\n",
    "print('VADER polarity score: ', test2_sid_scores)\n",
    "print('Actual target star: ', test2_target_star)\n",
    "print('Actual review text:', reviews.text[183761])"
   ]
  },
  {
   "cell_type": "markdown",
   "id": "cb1b2798",
   "metadata": {},
   "source": [
    "**Test 3**"
   ]
  },
  {
   "cell_type": "code",
   "execution_count": 30,
   "id": "3b2948c1",
   "metadata": {},
   "outputs": [
    {
     "name": "stdout",
     "output_type": "stream",
     "text": [
      "VADER polarity score:  {'neg': 0.279, 'neu': 0.543, 'pos': 0.178, 'compound': -0.3182}\n",
      "Actual target star:  3\n",
      "Actual review text: Was cool, then last summer the music got shitty.\n"
     ]
    }
   ],
   "source": [
    "test3_sid_scores = sid.polarity_scores(reviews.loc[92701]['text'])\n",
    "test3_target_star = reviews.loc[92701]['stars']\n",
    "\n",
    "print('VADER polarity score: ', test3_sid_scores)\n",
    "print('Actual target star: ', test3_target_star)\n",
    "print('Actual review text:', reviews.text[92701])"
   ]
  },
  {
   "cell_type": "markdown",
   "id": "a12b7c81",
   "metadata": {},
   "source": [
    "## 3.2 Computing polarity scores using compound scores"
   ]
  },
  {
   "cell_type": "code",
   "execution_count": 31,
   "id": "121499dc",
   "metadata": {},
   "outputs": [],
   "source": [
    "#creating labels from stars\n",
    "reviews['label'] = reviews['stars'].apply(lambda s: 'positive' if s >= 4 else ('negative' if s <= 2 else 'neutral'))"
   ]
  },
  {
   "cell_type": "code",
   "execution_count": 38,
   "id": "b1935bd7",
   "metadata": {},
   "outputs": [
    {
     "name": "stdout",
     "output_type": "stream",
     "text": [
      "CPU times: total: 3min 50s\n",
      "Wall time: 6min 18s\n"
     ]
    },
    {
     "data": {
      "text/html": [
       "<div>\n",
       "<style scoped>\n",
       "    .dataframe tbody tr th:only-of-type {\n",
       "        vertical-align: middle;\n",
       "    }\n",
       "\n",
       "    .dataframe tbody tr th {\n",
       "        vertical-align: top;\n",
       "    }\n",
       "\n",
       "    .dataframe thead th {\n",
       "        text-align: right;\n",
       "    }\n",
       "</style>\n",
       "<table border=\"1\" class=\"dataframe\">\n",
       "  <thead>\n",
       "    <tr style=\"text-align: right;\">\n",
       "      <th></th>\n",
       "      <th>text</th>\n",
       "      <th>stars</th>\n",
       "      <th>label</th>\n",
       "      <th>polarity_scores</th>\n",
       "      <th>compound_score</th>\n",
       "      <th>compound_label</th>\n",
       "    </tr>\n",
       "  </thead>\n",
       "  <tbody>\n",
       "    <tr>\n",
       "      <th>0</th>\n",
       "      <td>My wife took me here on my birthday for breakf...</td>\n",
       "      <td>5</td>\n",
       "      <td>positive</td>\n",
       "      <td>{'neg': 0.015, 'neu': 0.687, 'pos': 0.298, 'co...</td>\n",
       "      <td>0.9950</td>\n",
       "      <td>positive</td>\n",
       "    </tr>\n",
       "    <tr>\n",
       "      <th>1</th>\n",
       "      <td>I have no idea why some people give bad review...</td>\n",
       "      <td>5</td>\n",
       "      <td>positive</td>\n",
       "      <td>{'neg': 0.049, 'neu': 0.741, 'pos': 0.21, 'com...</td>\n",
       "      <td>0.9943</td>\n",
       "      <td>positive</td>\n",
       "    </tr>\n",
       "    <tr>\n",
       "      <th>2</th>\n",
       "      <td>love the gyro plate. Rice is so good and I als...</td>\n",
       "      <td>4</td>\n",
       "      <td>positive</td>\n",
       "      <td>{'neg': 0.0, 'neu': 0.523, 'pos': 0.477, 'comp...</td>\n",
       "      <td>0.8988</td>\n",
       "      <td>positive</td>\n",
       "    </tr>\n",
       "    <tr>\n",
       "      <th>3</th>\n",
       "      <td>Rosie, Dakota, and I LOVE Chaparral Dog Park!!...</td>\n",
       "      <td>5</td>\n",
       "      <td>positive</td>\n",
       "      <td>{'neg': 0.0, 'neu': 0.793, 'pos': 0.207, 'comp...</td>\n",
       "      <td>0.9531</td>\n",
       "      <td>positive</td>\n",
       "    </tr>\n",
       "    <tr>\n",
       "      <th>4</th>\n",
       "      <td>General Manager Scott Petello is a good egg!!!...</td>\n",
       "      <td>5</td>\n",
       "      <td>positive</td>\n",
       "      <td>{'neg': 0.029, 'neu': 0.636, 'pos': 0.334, 'co...</td>\n",
       "      <td>0.9883</td>\n",
       "      <td>positive</td>\n",
       "    </tr>\n",
       "  </tbody>\n",
       "</table>\n",
       "</div>"
      ],
      "text/plain": [
       "                                                text  stars     label  \\\n",
       "0  My wife took me here on my birthday for breakf...      5  positive   \n",
       "1  I have no idea why some people give bad review...      5  positive   \n",
       "2  love the gyro plate. Rice is so good and I als...      4  positive   \n",
       "3  Rosie, Dakota, and I LOVE Chaparral Dog Park!!...      5  positive   \n",
       "4  General Manager Scott Petello is a good egg!!!...      5  positive   \n",
       "\n",
       "                                     polarity_scores  compound_score  \\\n",
       "0  {'neg': 0.015, 'neu': 0.687, 'pos': 0.298, 'co...          0.9950   \n",
       "1  {'neg': 0.049, 'neu': 0.741, 'pos': 0.21, 'com...          0.9943   \n",
       "2  {'neg': 0.0, 'neu': 0.523, 'pos': 0.477, 'comp...          0.8988   \n",
       "3  {'neg': 0.0, 'neu': 0.793, 'pos': 0.207, 'comp...          0.9531   \n",
       "4  {'neg': 0.029, 'neu': 0.636, 'pos': 0.334, 'co...          0.9883   \n",
       "\n",
       "  compound_label  \n",
       "0       positive  \n",
       "1       positive  \n",
       "2       positive  \n",
       "3       positive  \n",
       "4       positive  "
      ]
     },
     "execution_count": 38,
     "metadata": {},
     "output_type": "execute_result"
    }
   ],
   "source": [
    "%%time\n",
    "\n",
    "#creating columns in the dataframe that contain relevant data from the polarity scores\n",
    "reviews['polarity_scores'] = reviews['text'].apply(lambda text: sid.polarity_scores(str(text)))\n",
    "reviews['compound_score']  = reviews['polarity_scores'].apply(lambda score_dict: score_dict['compound'])\n",
    "reviews['compound_label'] = reviews['compound_score'].apply(lambda s: 'negative' if s < 0 else ('neutral' if s < 0.5 else 'positive'))\n",
    "reviews.head()"
   ]
  },
  {
   "cell_type": "markdown",
   "id": "cd4a87b3",
   "metadata": {},
   "source": [
    "## 3.3 Comparison Analysis of compound score and original label"
   ]
  },
  {
   "cell_type": "code",
   "execution_count": 39,
   "id": "fcde878c",
   "metadata": {},
   "outputs": [
    {
     "name": "stdout",
     "output_type": "stream",
     "text": [
      "Accuracy score:  0.7144895910618426\n"
     ]
    }
   ],
   "source": [
    "print('Accuracy score: ', accuracy_score(reviews.label, reviews.compound_label))"
   ]
  },
  {
   "cell_type": "code",
   "execution_count": null,
   "id": "73c491c2",
   "metadata": {
    "scrolled": true
   },
   "outputs": [],
   "source": [
    "print('Classification Report:\\n', classification_report(reviews.label, reviews.compound_label))"
   ]
  },
  {
   "cell_type": "code",
   "execution_count": 40,
   "id": "cf822803",
   "metadata": {},
   "outputs": [
    {
     "name": "stdout",
     "output_type": "stream",
     "text": [
      "[[ 14802   5341  18102]\n",
      " [  3332   3487  28449]\n",
      " [  3728   6467 145422]]\n"
     ]
    }
   ],
   "source": [
    "print(confusion_matrix(reviews.label, reviews.compound_label))"
   ]
  },
  {
   "cell_type": "code",
   "execution_count": null,
   "id": "9f07d00e",
   "metadata": {},
   "outputs": [],
   "source": [
    "disp = ConfusionMatrixDisplay(confusion_matrix(reviews.label, reviews.compound_label), \n",
    "                              display_labels=['negative', 'neutral', 'positive'])\n",
    "\n",
    "disp.plot()\n",
    "plt.show;"
   ]
  },
  {
   "cell_type": "markdown",
   "id": "9af518e8",
   "metadata": {},
   "source": [
    "### F1 Score \n",
    "\n",
    "The F1 score is a measure used to evaluate the performance of a classification model. It considers both precision and recall to provide a single metric that balances both concerns.\n",
    "\n",
    "- **Precision** is the ratio of correctly predicted positive observations to the total predicted positives. It answers the question: *How many selected items are relevant?*\n",
    "  \n",
    "  \\[\n",
    "  \\text{Precision} = \\frac{\\text{True Positives}}{\\text{True Positives} + \\text{False Positives}}\n",
    "  \\]\n",
    "\n",
    "- **Recall** is the ratio of correctly predicted positive observations to all observations in the actual class. It answers the question: *How many relevant items are selected?*\n",
    "  \n",
    "  \\[\n",
    "  \\text{Recall} = \\frac{\\text{True Positives}}{\\text{True Positives} + \\text{False Negatives}}\n",
    "  \\]\n",
    "\n",
    "- **F1 Score** is the harmonic mean of precision and recall, giving equal weight to both metrics. It ranges between 0 and 1, where 1 is the best score.\n",
    "\n",
    "  \\[\n",
    "  \\text{F1 Score} = 2 \\times \\frac{\\text{Precision} \\times \\text{Recall}}{\\text{Precision} + \\text{Recall}}\n",
    "  \\]\n",
    "\n",
    "### Simple Example\n",
    "\n",
    "Imagine you have a spam filter for emails. Out of 100 emails, 40 are actually spam and 60 are not. Your filter identified 50 emails as spam, out of which 30 are correctly identified (True Positives) and 20 are wrongly identified as spam (False Positives). The filter also missed 10 spam emails (False Negatives).\n",
    "\n",
    "- **Precision**: Out of 50 emails marked as spam, 30 were actually spam.\n",
    "  \n",
    "  \\[\n",
    "  \\text{Precision} = \\frac{30}{50} = 0.60\n",
    "  \\]\n",
    "\n",
    "- **Recall**: Out of 40 actual spam emails, 30 were correctly identified.\n",
    "  \n",
    "  \\[\n",
    "  \\text{Recall} = \\frac{30}{40} = 0.75\n",
    "  \\]\n",
    "\n",
    "- **F1 Score**: Combining precision and recall to get a single score.\n",
    "  \n",
    "  \\[\n",
    "  \\text{F1 Score} = 2 \\times \\frac{0.60 \\times 0.75}{0.60 + 0.75} = 0.67\n",
    "  \\]\n",
    "\n",
    "### Confusion Matrix Explained\n",
    "\n",
    "A confusion matrix is a table used to describe the performance of a classification model by comparing the actual labels with the predicted labels. It shows the number of correct and incorrect predictions broken down by each class.\n",
    "\n",
    "#### Simple Example\n",
    "\n",
    "For a binary classification problem (spam vs. not spam), the confusion matrix looks like this:\n",
    "\n",
    "\\[\n",
    "\\begin{array}{|c|c|c|}\n",
    "\\hline\n",
    "& \\text{Predicted: Not Spam} & \\text{Predicted: Spam} \\\\\n",
    "\\hline\n",
    "\\text{Actual: Not Spam} & \\text{TN} & \\text{FP} \\\\\n",
    "\\hline\n",
    "\\text{Actual: Spam} & \\text{FN} & \\text{TP} \\\\\n",
    "\\hline\n",
    "\\end{array}\n",
    "\\]\n",
    "\n",
    "Where:\n",
    "- **TN (True Negatives)**: Correctly identified negative instances.\n",
    "- **FP (False Positives)**: Incorrectly identified positive instances.\n",
    "- **FN (False Negatives)**: Incorrectly identified negative instances.\n",
    "- **TP (True Positives)**: Correctly identified positive instances.\n",
    "\n",
    "#### Given Confusion Matrix\n",
    "\n",
    "For a multi-class classification problem like yours:\n",
    "\n",
    "\\[\n",
    "\\begin{array}{|c|c|c|c|}\n",
    "\\hline\n",
    "& \\text{Predicted: Negative} & \\text{Predicted: Neutral} & \\text{Predicted: Positive} \\\\\n",
    "\\hline\n",
    "\\text{Actual: Negative} & 14802 & 5341 & 18102 \\\\\n",
    "\\hline\n",
    "\\text{Actual: Neutral} & 3332 & 3487 & 28449 \\\\\n",
    "\\hline\n",
    "\\text{Actual: Positive} & 3728 & 6467 & 145422 \\\\\n",
    "\\hline\n",
    "\\end{array}\n",
    "\\]\n",
    "\n",
    "- **14802**: Negative reviews correctly identified as negative (True Negatives).\n",
    "- **5341**: Negative reviews incorrectly identified as neutral (False Positives for neutral).\n",
    "- **18102**: Negative reviews incorrectly identified as positive (False Positives for positive).\n",
    "- **3332**: Neutral reviews incorrectly identified as negative (False Negatives for neutral).\n",
    "- **3487**: Neutral reviews correctly identified as neutral (True Neutrals).\n",
    "- **28449**: Neutral reviews incorrectly identified as positive (False Positives for positive).\n",
    "- **3728**: Positive reviews incorrectly identified as negative (False Negatives for positive).\n",
    "- **6467**: Positive reviews incorrectly identified as neutral (False Negatives for neutral).\n",
    "- **145422**: Positive reviews correctly identified as positive (True Positives).\n",
    "\n",
    "This matrix helps in understanding where the model is making mistakes and where it is performing well.\n"
   ]
  },
  {
   "cell_type": "code",
   "execution_count": 42,
   "id": "be3accdb",
   "metadata": {},
   "outputs": [],
   "source": []
  },
  {
   "cell_type": "code",
   "execution_count": 43,
   "id": "892be4e2",
   "metadata": {},
   "outputs": [],
   "source": [
    "# \"siebert/sentiment-roberta-large-english\" model for your sentiment analysis task. \n",
    "# This model is a fine-tuned version of RoBERTa-large and has been trained on 15 diverse datasets,\n",
    "# making it more robust and generalizable across different types of English text"
   ]
  },
  {
   "cell_type": "code",
   "execution_count": 44,
   "id": "06095b77",
   "metadata": {},
   "outputs": [
    {
     "name": "stdout",
     "output_type": "stream",
     "text": [
      "Requirement already satisfied: transformers in c:\\users\\besid\\anaconda3\\lib\\site-packages (4.32.1)\n",
      "Requirement already satisfied: filelock in c:\\users\\besid\\anaconda3\\lib\\site-packages (from transformers) (3.9.0)\n",
      "Requirement already satisfied: huggingface-hub<1.0,>=0.15.1 in c:\\users\\besid\\anaconda3\\lib\\site-packages (from transformers) (0.15.1)\n",
      "Requirement already satisfied: numpy>=1.17 in c:\\users\\besid\\anaconda3\\lib\\site-packages (from transformers) (1.24.3)\n",
      "Requirement already satisfied: packaging>=20.0 in c:\\users\\besid\\anaconda3\\lib\\site-packages (from transformers) (23.1)\n",
      "Requirement already satisfied: pyyaml>=5.1 in c:\\users\\besid\\anaconda3\\lib\\site-packages (from transformers) (6.0)\n",
      "Requirement already satisfied: regex!=2019.12.17 in c:\\users\\besid\\anaconda3\\lib\\site-packages (from transformers) (2022.7.9)\n",
      "Requirement already satisfied: requests in c:\\users\\besid\\anaconda3\\lib\\site-packages (from transformers) (2.31.0)\n",
      "Requirement already satisfied: tokenizers!=0.11.3,<0.14,>=0.11.1 in c:\\users\\besid\\anaconda3\\lib\\site-packages (from transformers) (0.13.2)\n",
      "Requirement already satisfied: safetensors>=0.3.1 in c:\\users\\besid\\anaconda3\\lib\\site-packages (from transformers) (0.3.2)\n",
      "Requirement already satisfied: tqdm>=4.27 in c:\\users\\besid\\anaconda3\\lib\\site-packages (from transformers) (4.65.0)\n",
      "Requirement already satisfied: fsspec in c:\\users\\besid\\anaconda3\\lib\\site-packages (from huggingface-hub<1.0,>=0.15.1->transformers) (2023.4.0)\n",
      "Requirement already satisfied: typing-extensions>=3.7.4.3 in c:\\users\\besid\\anaconda3\\lib\\site-packages (from huggingface-hub<1.0,>=0.15.1->transformers) (4.7.1)\n",
      "Requirement already satisfied: colorama in c:\\users\\besid\\anaconda3\\lib\\site-packages (from tqdm>=4.27->transformers) (0.4.6)\n",
      "Requirement already satisfied: charset-normalizer<4,>=2 in c:\\users\\besid\\anaconda3\\lib\\site-packages (from requests->transformers) (2.0.4)\n",
      "Requirement already satisfied: idna<4,>=2.5 in c:\\users\\besid\\anaconda3\\lib\\site-packages (from requests->transformers) (3.4)\n",
      "Requirement already satisfied: urllib3<3,>=1.21.1 in c:\\users\\besid\\anaconda3\\lib\\site-packages (from requests->transformers) (1.26.16)\n",
      "Requirement already satisfied: certifi>=2017.4.17 in c:\\users\\besid\\anaconda3\\lib\\site-packages (from requests->transformers) (2023.7.22)\n"
     ]
    }
   ],
   "source": [
    "!pip install transformers"
   ]
  },
  {
   "cell_type": "code",
   "execution_count": 45,
   "id": "11d7cc31",
   "metadata": {},
   "outputs": [],
   "source": [
    "from transformers import pipeline"
   ]
  },
  {
   "cell_type": "code",
   "execution_count": 54,
   "id": "6bd0d637",
   "metadata": {},
   "outputs": [],
   "source": [
    "# Importing necessary libraries.\n",
    "# Loads the dataset (make sure the file path is correct).\n",
    "# Applies TextBlob sentiment analysis with a progress bar.\n",
    "# Calculates and prints the accuracy score.\n",
    "# Creates and displays a confusion matrix.\n",
    "# Shows a sample of the results.\n",
    "# Analyzes and displays a sample of disagreements between original and TextBlob sentiments.\n",
    "# Prints the distribution of original and TextBlob sentiments.\n",
    "# Visualizes the distribution of polarity scores.\n",
    "# Analyzes the percentage of reviews where TextBlob disagrees with the original sentiment.\n",
    "# Calculates the average TextBlob polarity for each original sentiment category."
   ]
  },
  {
   "cell_type": "code",
   "execution_count": 52,
   "id": "d36b4f19",
   "metadata": {},
   "outputs": [
    {
     "name": "stdout",
     "output_type": "stream",
     "text": [
      "Requirement already satisfied: textblob in c:\\users\\besid\\anaconda3\\lib\\site-packages (0.18.0.post0)\n",
      "Requirement already satisfied: nltk>=3.8 in c:\\users\\besid\\anaconda3\\lib\\site-packages (from textblob) (3.8.1)\n",
      "Requirement already satisfied: click in c:\\users\\besid\\anaconda3\\lib\\site-packages (from nltk>=3.8->textblob) (8.0.4)\n",
      "Requirement already satisfied: joblib in c:\\users\\besid\\anaconda3\\lib\\site-packages (from nltk>=3.8->textblob) (1.2.0)\n",
      "Requirement already satisfied: regex>=2021.8.3 in c:\\users\\besid\\anaconda3\\lib\\site-packages (from nltk>=3.8->textblob) (2022.7.9)\n",
      "Requirement already satisfied: tqdm in c:\\users\\besid\\anaconda3\\lib\\site-packages (from nltk>=3.8->textblob) (4.65.0)\n",
      "Requirement already satisfied: colorama in c:\\users\\besid\\anaconda3\\lib\\site-packages (from click->nltk>=3.8->textblob) (0.4.6)\n",
      "Applying TextBlob sentiment analysis...\n"
     ]
    },
    {
     "name": "stderr",
     "output_type": "stream",
     "text": [
      "100%|█████████████████████████████████████████████████████████████████████████| 229130/229130 [04:05<00:00, 934.35it/s]\n",
      "100%|█████████████████████████████████████████████████████████████████████████| 229130/229130 [04:25<00:00, 862.63it/s]\n"
     ]
    }
   ],
   "source": [
    "# Installing TextBlob as not already installed\n",
    "!pip install textblob\n",
    "\n",
    "from textblob import TextBlob\n",
    "from sklearn.metrics import accuracy_score, confusion_matrix, ConfusionMatrixDisplay\n",
    "from tqdm import tqdm\n",
    "\n",
    "# Assuming 'reviews' is your DataFrame and it has 'text' and 'label' columns\n",
    "\n",
    "print(\"Applying TextBlob sentiment analysis...\")\n",
    "\n",
    "def get_textblob_sentiment(text):\n",
    "    analysis = TextBlob(str(text))\n",
    "    polarity = analysis.sentiment.polarity\n",
    "    if polarity > 0.1:\n",
    "        return 'positive'\n",
    "    elif polarity < -0.1:\n",
    "        return 'negative'\n",
    "    else:\n",
    "        return 'neutral'\n",
    "\n",
    "    \n",
    "    # Apply sentiment analysis with progress bar\n",
    "tqdm.pandas()\n",
    "reviews['textblob_sentiment'] = reviews['text'].progress_apply(get_textblob_sentiment)\n",
    "reviews['textblob_polarity'] = reviews['text'].progress_apply(lambda x: TextBlob(str(x)).sentiment.polarity)"
   ]
  },
  {
   "cell_type": "code",
   "execution_count": 53,
   "id": "95f0b18f",
   "metadata": {},
   "outputs": [
    {
     "name": "stdout",
     "output_type": "stream",
     "text": [
      "Accuracy score:  0.6773840178064854\n"
     ]
    }
   ],
   "source": [
    "# Calculate and print accuracy\n",
    "print('Accuracy score: ', accuracy_score(reviews.label, reviews.textblob_sentiment))"
   ]
  },
  {
   "cell_type": "code",
   "execution_count": 55,
   "id": "5413063d",
   "metadata": {},
   "outputs": [
    {
     "name": "stdout",
     "output_type": "stream",
     "text": [
      "Confusion Matrix:\n",
      "[[  6220  17930  14095]\n",
      " [   754   7977  26537]\n",
      " [  1184  13421 141012]]\n"
     ]
    }
   ],
   "source": [
    "# Create and display confusion matrix\n",
    "cm = confusion_matrix(reviews.label, reviews.textblob_sentiment)\n",
    "print(\"Confusion Matrix:\")\n",
    "print(cm)\n"
   ]
  },
  {
   "cell_type": "code",
   "execution_count": 56,
   "id": "b645ef36",
   "metadata": {},
   "outputs": [
    {
     "data": {
      "text/plain": [
       "<Figure size 1000x800 with 0 Axes>"
      ]
     },
     "metadata": {},
     "output_type": "display_data"
    },
    {
     "data": {
      "image/png": "[encoded data removed]",
      "text/plain": [
       "<Figure size 640x480 with 2 Axes>"
      ]
     },
     "metadata": {},
     "output_type": "display_data"
    }
   ],
   "source": [
    "plt.figure(figsize=(10, 8))\n",
    "disp = ConfusionMatrixDisplay(cm, display_labels=['negative', 'neutral', 'positive'])\n",
    "disp.plot()\n",
    "plt.title('TextBlob Sentiment Analysis Confusion Matrix')\n",
    "plt.show()"
   ]
  },
  {
   "cell_type": "code",
   "execution_count": 57,
   "id": "e3c270fc",
   "metadata": {},
   "outputs": [
    {
     "name": "stdout",
     "output_type": "stream",
     "text": [
      "\n",
      "Sample of results:\n",
      "                                                text     label  \\\n",
      "0  My wife took me here on my birthday for breakf...  positive   \n",
      "1  I have no idea why some people give bad review...  positive   \n",
      "2  love the gyro plate. Rice is so good and I als...  positive   \n",
      "3  Rosie, Dakota, and I LOVE Chaparral Dog Park!!...  positive   \n",
      "4  General Manager Scott Petello is a good egg!!!...  positive   \n",
      "\n",
      "  textblob_sentiment  textblob_polarity  \n",
      "0           positive           0.402469  \n",
      "1           positive           0.229773  \n",
      "2           positive           0.566667  \n",
      "3           positive           0.608646  \n",
      "4           positive           0.468125  \n"
     ]
    }
   ],
   "source": [
    "# Display the head of the dataframe with new columns\n",
    "print(\"\\nSample of results:\")\n",
    "print(reviews[['text', 'label', 'textblob_sentiment', 'textblob_polarity']].head())\n"
   ]
  },
  {
   "cell_type": "code",
   "execution_count": 58,
   "id": "d6fcc6b3",
   "metadata": {},
   "outputs": [
    {
     "name": "stdout",
     "output_type": "stream",
     "text": [
      "\n",
      "Analyzing discrepancies...\n",
      "Sample of disagreements:\n",
      "                                                     text     label  \\\n",
      "156752  Moving from San Diego with one of the best pho...  negative   \n",
      "127710  I've been to plenty of dumps in my day, but th...  positive   \n",
      "213284  Dr's here are terrific if you ever can get an ...  negative   \n",
      "212646  This is close to my house when I need to pick ...  negative   \n",
      "228721  You know, we get a lot of crap living way out ...  positive   \n",
      "\n",
      "       textblob_sentiment  textblob_polarity  \n",
      "156752            neutral           0.068739  \n",
      "127710            neutral          -0.007143  \n",
      "213284           positive           0.178795  \n",
      "212646           positive           0.196491  \n",
      "228721            neutral           0.046539  \n"
     ]
    }
   ],
   "source": [
    "\n",
    "# Analyze discrepancies\n",
    "print(\"\\nAnalyzing discrepancies...\")\n",
    "disagreements = reviews[reviews.label != reviews.textblob_sentiment]\n",
    "print(\"Sample of disagreements:\")\n",
    "print(disagreements[['text', 'label', 'textblob_sentiment', 'textblob_polarity']].sample(5))\n"
   ]
  },
  {
   "cell_type": "code",
   "execution_count": null,
   "id": "08025b37",
   "metadata": {},
   "outputs": [],
   "source": [
    "\n",
    "# Distribution of sentiments\n",
    "print(\"\\nDistribution of original sentiments:\")\n",
    "print(reviews['label'].value_counts(normalize=True))\n",
    "\n",
    "print(\"\\nDistribution of TextBlob sentiments:\")\n",
    "print(reviews['textblob_sentiment'].value_counts(normalize=True))\n"
   ]
  },
  {
   "cell_type": "code",
   "execution_count": 59,
   "id": "e0174dd4",
   "metadata": {},
   "outputs": [
    {
     "data": {
      "image/png": "[encoded data removed]",
      "text/plain": [
       "<Figure size 1000x600 with 1 Axes>"
      ]
     },
     "metadata": {},
     "output_type": "display_data"
    }
   ],
   "source": [
    "# Visualize polarity distribution\n",
    "plt.figure(figsize=(10, 6))\n",
    "plt.hist(reviews['textblob_polarity'], bins=50)\n",
    "plt.title('Distribution of TextBlob Polarity Scores')\n",
    "plt.xlabel('Polarity')\n",
    "plt.ylabel('Frequency')\n",
    "plt.show()"
   ]
  },
  {
   "cell_type": "code",
   "execution_count": 60,
   "id": "91e3d762",
   "metadata": {},
   "outputs": [
    {
     "name": "stdout",
     "output_type": "stream",
     "text": [
      "\n",
      "Percentage of reviews where TextBlob disagrees with original sentiment:\n",
      "32.26%\n"
     ]
    }
   ],
   "source": [
    "# Analyze reviews where TextBlob and original sentiment disagree\n",
    "disagreements = reviews[reviews.label != reviews.textblob_sentiment]\n",
    "print(\"\\nPercentage of reviews where TextBlob disagrees with original sentiment:\")\n",
    "print(f\"{len(disagreements) / len(reviews) * 100:.2f}%\")"
   ]
  },
  {
   "cell_type": "code",
   "execution_count": 61,
   "id": "0ad1f467",
   "metadata": {},
   "outputs": [
    {
     "name": "stdout",
     "output_type": "stream",
     "text": [
      "\n",
      "Average TextBlob polarity for each original sentiment category:\n",
      "label\n",
      "negative    0.041788\n",
      "neutral     0.192821\n",
      "positive    0.304194\n",
      "Name: textblob_polarity, dtype: float64\n"
     ]
    }
   ],
   "source": [
    "# Average polarity for each original sentiment category\n",
    "print(\"\\nAverage TextBlob polarity for each original sentiment category:\")\n",
    "print(reviews.groupby('label')['textblob_polarity'].mean())"
   ]
  },
  {
   "cell_type": "code",
   "execution_count": null,
   "id": "35128fc7",
   "metadata": {},
   "outputs": [],
   "source": []
  }
 ],
 "metadata": {
  "kernelspec": {
   "display_name": "Python 3 (ipykernel)",
   "language": "python",
   "name": "python3"
  },
  "language_info": {
   "codemirror_mode": {
    "name": "ipython",
    "version": 3
   },
   "file_extension": ".py",
   "mimetype": "text/x-python",
   "name": "python",
   "nbconvert_exporter": "python",
   "pygments_lexer": "ipython3",
   "version": "3.11.5"
  },
  "varInspector": {
   "cols": {
    "lenName": 16,
    "lenType": 16,
    "lenVar": 40
   },
   "kernels_config": {
    "python": {
     "delete_cmd_postfix": "",
     "delete_cmd_prefix": "del ",
     "library": "var_list.py",
     "varRefreshCmd": "print(var_dic_list())"
    },
    "r": {
     "delete_cmd_postfix": ") ",
     "delete_cmd_prefix": "rm(",
     "library": "var_list.r",
     "varRefreshCmd": "cat(var_dic_list()) "
    }
   },
   "types_to_exclude": [
    "module",
    "function",
    "builtin_function_or_method",
    "instance",
    "_Feature"
   ],
   "window_display": false
  }
 },
 "nbformat": 4,
 "nbformat_minor": 5
}
