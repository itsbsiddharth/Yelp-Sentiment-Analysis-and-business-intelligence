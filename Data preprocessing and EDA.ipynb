{
 "cells": [
  {
   "cell_type": "code",
   "execution_count": 121,
   "id": "2bbd3400",
   "metadata": {},
   "outputs": [
    {
     "name": "stdout",
     "output_type": "stream",
     "text": [
      "only ws from now on\n"
     ]
    }
   ],
   "source": [
    "print('only ws from now on')"
   ]
  },
  {
   "cell_type": "code",
   "execution_count": 2,
   "id": "b71776f2",
   "metadata": {},
   "outputs": [
    {
     "name": "stdout",
     "output_type": "stream",
     "text": [
      "Requirement already satisfied: pandas in c:\\users\\besid\\anaconda3\\lib\\site-packages (2.0.3)\n",
      "Requirement already satisfied: numpy in c:\\users\\besid\\anaconda3\\lib\\site-packages (1.24.3)\n",
      "Requirement already satisfied: matplotlib in c:\\users\\besid\\anaconda3\\lib\\site-packages (3.7.2)\n",
      "Requirement already satisfied: seaborn in c:\\users\\besid\\anaconda3\\lib\\site-packages (0.12.2)\n",
      "Requirement already satisfied: scikit-learn in c:\\users\\besid\\anaconda3\\lib\\site-packages (1.3.0)\n",
      "Requirement already satisfied: nltk in c:\\users\\besid\\anaconda3\\lib\\site-packages (3.8.1)\n",
      "Collecting vaderSentiment\n",
      "  Obtaining dependency information for vaderSentiment from https://files.pythonhosted.org/packages/76/fc/310e16254683c1ed35eeb97386986d6c00bc29df17ce280aed64d55537e9/vaderSentiment-3.3.2-py2.py3-none-any.whl.metadata\n",
      "  Downloading vaderSentiment-3.3.2-py2.py3-none-any.whl.metadata (572 bytes)\n",
      "Requirement already satisfied: python-dateutil>=2.8.2 in c:\\users\\besid\\anaconda3\\lib\\site-packages (from pandas) (2.8.2)\n",
      "Requirement already satisfied: pytz>=2020.1 in c:\\users\\besid\\anaconda3\\lib\\site-packages (from pandas) (2023.3.post1)\n",
      "Requirement already satisfied: tzdata>=2022.1 in c:\\users\\besid\\anaconda3\\lib\\site-packages (from pandas) (2023.3)\n",
      "Requirement already satisfied: contourpy>=1.0.1 in c:\\users\\besid\\anaconda3\\lib\\site-packages (from matplotlib) (1.0.5)\n",
      "Requirement already satisfied: cycler>=0.10 in c:\\users\\besid\\anaconda3\\lib\\site-packages (from matplotlib) (0.11.0)\n",
      "Requirement already satisfied: fonttools>=4.22.0 in c:\\users\\besid\\anaconda3\\lib\\site-packages (from matplotlib) (4.25.0)\n",
      "Requirement already satisfied: kiwisolver>=1.0.1 in c:\\users\\besid\\anaconda3\\lib\\site-packages (from matplotlib) (1.4.4)\n",
      "Requirement already satisfied: packaging>=20.0 in c:\\users\\besid\\anaconda3\\lib\\site-packages (from matplotlib) (23.1)\n",
      "Requirement already satisfied: pillow>=6.2.0 in c:\\users\\besid\\anaconda3\\lib\\site-packages (from matplotlib) (9.4.0)\n",
      "Requirement already satisfied: pyparsing<3.1,>=2.3.1 in c:\\users\\besid\\anaconda3\\lib\\site-packages (from matplotlib) (3.0.9)\n",
      "Requirement already satisfied: scipy>=1.5.0 in c:\\users\\besid\\anaconda3\\lib\\site-packages (from scikit-learn) (1.11.1)\n",
      "Requirement already satisfied: joblib>=1.1.1 in c:\\users\\besid\\anaconda3\\lib\\site-packages (from scikit-learn) (1.2.0)\n",
      "Requirement already satisfied: threadpoolctl>=2.0.0 in c:\\users\\besid\\anaconda3\\lib\\site-packages (from scikit-learn) (2.2.0)\n",
      "Requirement already satisfied: click in c:\\users\\besid\\anaconda3\\lib\\site-packages (from nltk) (8.0.4)\n",
      "Requirement already satisfied: regex>=2021.8.3 in c:\\users\\besid\\anaconda3\\lib\\site-packages (from nltk) (2022.7.9)\n",
      "Requirement already satisfied: tqdm in c:\\users\\besid\\anaconda3\\lib\\site-packages (from nltk) (4.65.0)\n",
      "Requirement already satisfied: requests in c:\\users\\besid\\anaconda3\\lib\\site-packages (from vaderSentiment) (2.31.0)\n",
      "Requirement already satisfied: six>=1.5 in c:\\users\\besid\\anaconda3\\lib\\site-packages (from python-dateutil>=2.8.2->pandas) (1.16.0)\n",
      "Requirement already satisfied: colorama in c:\\users\\besid\\anaconda3\\lib\\site-packages (from click->nltk) (0.4.6)\n",
      "Requirement already satisfied: charset-normalizer<4,>=2 in c:\\users\\besid\\anaconda3\\lib\\site-packages (from requests->vaderSentiment) (2.0.4)\n",
      "Requirement already satisfied: idna<4,>=2.5 in c:\\users\\besid\\anaconda3\\lib\\site-packages (from requests->vaderSentiment) (3.4)\n",
      "Requirement already satisfied: urllib3<3,>=1.21.1 in c:\\users\\besid\\anaconda3\\lib\\site-packages (from requests->vaderSentiment) (1.26.16)\n",
      "Requirement already satisfied: certifi>=2017.4.17 in c:\\users\\besid\\anaconda3\\lib\\site-packages (from requests->vaderSentiment) (2023.7.22)\n",
      "Downloading vaderSentiment-3.3.2-py2.py3-none-any.whl (125 kB)\n",
      "   ---------------------------------------- 0.0/126.0 kB ? eta -:--:--\n",
      "   ------ -------------------------------- 20.5/126.0 kB 330.3 kB/s eta 0:00:01\n",
      "   ---------------------- ---------------- 71.7/126.0 kB 787.7 kB/s eta 0:00:01\n",
      "   -------------------------------------- 126.0/126.0 kB 925.7 kB/s eta 0:00:00\n",
      "Installing collected packages: vaderSentiment\n",
      "Successfully installed vaderSentiment-3.3.2\n"
     ]
    }
   ],
   "source": [
    "!pip install pandas numpy matplotlib seaborn scikit-learn nltk vaderSentiment"
   ]
  },
  {
   "cell_type": "code",
   "execution_count": 4,
   "id": "2731d9c6",
   "metadata": {},
   "outputs": [
    {
     "name": "stdout",
     "output_type": "stream",
     "text": [
      "done\n"
     ]
    },
    {
     "name": "stderr",
     "output_type": "stream",
     "text": [
      "[nltk_data] Downloading package stopwords to\n",
      "[nltk_data]     C:\\Users\\besid\\AppData\\Roaming\\nltk_data...\n",
      "[nltk_data]   Package stopwords is already up-to-date!\n"
     ]
    }
   ],
   "source": [
    "import pandas as pd\n",
    "import numpy as np\n",
    "import matplotlib.pyplot as plt\n",
    "import seaborn as sns\n",
    "from vaderSentiment.vaderSentiment import SentimentIntensityAnalyzer\n",
    "import nltk\n",
    "nltk.download('stopwords')\n",
    "from nltk.corpus import stopwords\n",
    "from sklearn.model_selection import train_test_split\n",
    "from sklearn.feature_extraction.text import CountVectorizer\n",
    "from sklearn.linear_model import LogisticRegression\n",
    "from sklearn.metrics import classification_report\n",
    "print('done')"
   ]
  },
  {
   "cell_type": "code",
   "execution_count": 33,
   "id": "645a611e",
   "metadata": {},
   "outputs": [],
   "source": [
    "# Load the prepared datasets\n",
    "business = pd.read_csv('C:/Users/besid/OneDrive/Desktop/on campus internship/machine learning/yelpproject/data/business_prepared.csv')\n",
    "review = pd.read_csv('C:/Users/besid/OneDrive/Desktop/on campus internship/machine learning/yelpproject/data/review_prepared.csv')\n",
    "user = pd.read_csv('C:/Users/besid/OneDrive/Desktop/on campus internship/machine learning/yelpproject/data/user_prepared.csv')\n"
   ]
  },
  {
   "cell_type": "markdown",
   "id": "bf8e9ed5",
   "metadata": {},
   "source": [
    "## Businesses Dataset"
   ]
  },
  {
   "cell_type": "code",
   "execution_count": 34,
   "id": "97f88e17",
   "metadata": {},
   "outputs": [
    {
     "name": "stdout",
     "output_type": "stream",
     "text": [
      "<class 'pandas.core.frame.DataFrame'>\n",
      "RangeIndex: 11360 entries, 0 to 11359\n",
      "Data columns (total 12 columns):\n",
      " #   Column                 Non-Null Count  Dtype  \n",
      "---  ------                 --------------  -----  \n",
      " 0   Unnamed: 0             11360 non-null  int64  \n",
      " 1   business_categories    11360 non-null  object \n",
      " 2   business_city          11360 non-null  object \n",
      " 3   business_full_address  11360 non-null  object \n",
      " 4   business_id            11360 non-null  object \n",
      " 5   business_latitude      11360 non-null  float64\n",
      " 6   business_longitude     11360 non-null  float64\n",
      " 7   business_name          11360 non-null  object \n",
      " 8   business_open          11360 non-null  bool   \n",
      " 9   business_review_count  11360 non-null  int64  \n",
      " 10  business_stars         11360 non-null  float64\n",
      " 11  business_state         11360 non-null  object \n",
      "dtypes: bool(1), float64(3), int64(2), object(6)\n",
      "memory usage: 987.5+ KB\n"
     ]
    }
   ],
   "source": [
    "\n",
    "# Display basic information about each dataset\n",
    "business.info()"
   ]
  },
  {
   "cell_type": "code",
   "execution_count": 35,
   "id": "59dc1342",
   "metadata": {},
   "outputs": [
    {
     "data": {
      "text/html": [
       "<div>\n",
       "<style scoped>\n",
       "    .dataframe tbody tr th:only-of-type {\n",
       "        vertical-align: middle;\n",
       "    }\n",
       "\n",
       "    .dataframe tbody tr th {\n",
       "        vertical-align: top;\n",
       "    }\n",
       "\n",
       "    .dataframe thead th {\n",
       "        text-align: right;\n",
       "    }\n",
       "</style>\n",
       "<table border=\"1\" class=\"dataframe\">\n",
       "  <thead>\n",
       "    <tr style=\"text-align: right;\">\n",
       "      <th></th>\n",
       "      <th>Unnamed: 0</th>\n",
       "      <th>business_categories</th>\n",
       "      <th>business_city</th>\n",
       "      <th>business_full_address</th>\n",
       "      <th>business_id</th>\n",
       "      <th>business_latitude</th>\n",
       "      <th>business_longitude</th>\n",
       "      <th>business_name</th>\n",
       "      <th>business_open</th>\n",
       "      <th>business_review_count</th>\n",
       "      <th>business_stars</th>\n",
       "      <th>business_state</th>\n",
       "    </tr>\n",
       "  </thead>\n",
       "  <tbody>\n",
       "    <tr>\n",
       "      <th>0</th>\n",
       "      <td>0</td>\n",
       "      <td>Accountants; Professional Services; Tax Servic...</td>\n",
       "      <td>Peoria</td>\n",
       "      <td>8466 W Peoria Ave\\nSte 6\\nPeoria, AZ 85345</td>\n",
       "      <td>rncjoVoEFUJGCUoC1JgnUA</td>\n",
       "      <td>33.581867</td>\n",
       "      <td>-112.241596</td>\n",
       "      <td>Peoria Income Tax Service</td>\n",
       "      <td>True</td>\n",
       "      <td>3</td>\n",
       "      <td>5.0</td>\n",
       "      <td>AZ</td>\n",
       "    </tr>\n",
       "    <tr>\n",
       "      <th>1</th>\n",
       "      <td>1</td>\n",
       "      <td>Sporting Goods; Bikes; Shopping</td>\n",
       "      <td>Phoenix</td>\n",
       "      <td>2149 W Wood Dr\\nPhoenix, AZ 85029</td>\n",
       "      <td>0FNFSzCFP_rGUoJx8W7tJg</td>\n",
       "      <td>33.604054</td>\n",
       "      <td>-112.105933</td>\n",
       "      <td>Bike Doctor</td>\n",
       "      <td>True</td>\n",
       "      <td>5</td>\n",
       "      <td>5.0</td>\n",
       "      <td>AZ</td>\n",
       "    </tr>\n",
       "    <tr>\n",
       "      <th>2</th>\n",
       "      <td>2</td>\n",
       "      <td>Food; Grocery</td>\n",
       "      <td>Phoenix</td>\n",
       "      <td>845 W Southern Ave\\nPhoenix, AZ 85041</td>\n",
       "      <td>usAsSV36QmUej8--yvN-dg</td>\n",
       "      <td>33.392210</td>\n",
       "      <td>-112.085377</td>\n",
       "      <td>Food City</td>\n",
       "      <td>True</td>\n",
       "      <td>5</td>\n",
       "      <td>3.5</td>\n",
       "      <td>AZ</td>\n",
       "    </tr>\n",
       "    <tr>\n",
       "      <th>3</th>\n",
       "      <td>3</td>\n",
       "      <td>Food; Bagels; Delis; Restaurants</td>\n",
       "      <td>Glendale Az</td>\n",
       "      <td>6520 W Happy Valley Rd\\nSte 101\\nGlendale Az, ...</td>\n",
       "      <td>PzOqRohWw7F7YEPBz6AubA</td>\n",
       "      <td>33.712797</td>\n",
       "      <td>-112.200264</td>\n",
       "      <td>Hot Bagels &amp; Deli</td>\n",
       "      <td>True</td>\n",
       "      <td>14</td>\n",
       "      <td>3.5</td>\n",
       "      <td>AZ</td>\n",
       "    </tr>\n",
       "    <tr>\n",
       "      <th>4</th>\n",
       "      <td>4</td>\n",
       "      <td>Women's Clothing; Fashion; Shopping</td>\n",
       "      <td>Glendale</td>\n",
       "      <td>The Americana at Brand\\n869 Americana Way\\nGle...</td>\n",
       "      <td>gtQzAiy7D-dPU8WzT3jX3Q</td>\n",
       "      <td>33.607766</td>\n",
       "      <td>-112.481632</td>\n",
       "      <td>Barney's New York Co-op</td>\n",
       "      <td>True</td>\n",
       "      <td>6</td>\n",
       "      <td>4.5</td>\n",
       "      <td>CA</td>\n",
       "    </tr>\n",
       "  </tbody>\n",
       "</table>\n",
       "</div>"
      ],
      "text/plain": [
       "   Unnamed: 0                                business_categories  \\\n",
       "0           0  Accountants; Professional Services; Tax Servic...   \n",
       "1           1                    Sporting Goods; Bikes; Shopping   \n",
       "2           2                                      Food; Grocery   \n",
       "3           3                   Food; Bagels; Delis; Restaurants   \n",
       "4           4                Women's Clothing; Fashion; Shopping   \n",
       "\n",
       "  business_city                              business_full_address  \\\n",
       "0        Peoria         8466 W Peoria Ave\\nSte 6\\nPeoria, AZ 85345   \n",
       "1       Phoenix                  2149 W Wood Dr\\nPhoenix, AZ 85029   \n",
       "2       Phoenix              845 W Southern Ave\\nPhoenix, AZ 85041   \n",
       "3   Glendale Az  6520 W Happy Valley Rd\\nSte 101\\nGlendale Az, ...   \n",
       "4      Glendale  The Americana at Brand\\n869 Americana Way\\nGle...   \n",
       "\n",
       "              business_id  business_latitude  business_longitude  \\\n",
       "0  rncjoVoEFUJGCUoC1JgnUA          33.581867         -112.241596   \n",
       "1  0FNFSzCFP_rGUoJx8W7tJg          33.604054         -112.105933   \n",
       "2  usAsSV36QmUej8--yvN-dg          33.392210         -112.085377   \n",
       "3  PzOqRohWw7F7YEPBz6AubA          33.712797         -112.200264   \n",
       "4  gtQzAiy7D-dPU8WzT3jX3Q          33.607766         -112.481632   \n",
       "\n",
       "               business_name  business_open  business_review_count  \\\n",
       "0  Peoria Income Tax Service           True                      3   \n",
       "1                Bike Doctor           True                      5   \n",
       "2                  Food City           True                      5   \n",
       "3          Hot Bagels & Deli           True                     14   \n",
       "4    Barney's New York Co-op           True                      6   \n",
       "\n",
       "   business_stars business_state  \n",
       "0             5.0             AZ  \n",
       "1             5.0             AZ  \n",
       "2             3.5             AZ  \n",
       "3             3.5             AZ  \n",
       "4             4.5             CA  "
      ]
     },
     "execution_count": 35,
     "metadata": {},
     "output_type": "execute_result"
    }
   ],
   "source": [
    "business.head()"
   ]
  },
  {
   "cell_type": "code",
   "execution_count": 36,
   "id": "eba44036",
   "metadata": {},
   "outputs": [
    {
     "data": {
      "text/plain": [
       "Index(['Unnamed: 0', 'business_categories', 'business_city',\n",
       "       'business_full_address', 'business_id', 'business_latitude',\n",
       "       'business_longitude', 'business_name', 'business_open',\n",
       "       'business_review_count', 'business_stars', 'business_state'],\n",
       "      dtype='object')"
      ]
     },
     "execution_count": 36,
     "metadata": {},
     "output_type": "execute_result"
    }
   ],
   "source": [
    "business.columns"
   ]
  },
  {
   "cell_type": "code",
   "execution_count": 37,
   "id": "c877fe31",
   "metadata": {},
   "outputs": [
    {
     "data": {
      "text/plain": [
       "business_categories\n",
       "Mexican; Restaurants                                                            528\n",
       "Pizza; Restaurants                                                              281\n",
       "Hotels & Travel; Event Planning & Services; Hotels                              227\n",
       "Food; Coffee & Tea                                                              225\n",
       "Restaurants                                                                     202\n",
       "                                                                               ... \n",
       "Bars; Food; Beer, Wine & Spirits; Wine Bars; Nightlife; Restaurants               1\n",
       "Computers; Shopping; Home & Garden; Appliances                                    1\n",
       "Bars; Music Venues; Arts & Entertainment; Dive Bars; Nightlife; Comedy Clubs      1\n",
       "Bridal; Fashion; Shopping                                                         1\n",
       "Cosmetology Schools; Specialty Schools; Education; Beauty & Spas                  1\n",
       "Name: count, Length: 2060, dtype: int64"
      ]
     },
     "execution_count": 37,
     "metadata": {},
     "output_type": "execute_result"
    }
   ],
   "source": [
    "business['business_categories'].value_counts()"
   ]
  },
  {
   "cell_type": "code",
   "execution_count": 38,
   "id": "968f8522",
   "metadata": {},
   "outputs": [
    {
     "data": {
      "text/plain": [
       "business_city\n",
       "Phoenix             4084\n",
       "Scottsdale          2009\n",
       "Tempe               1136\n",
       "Mesa                 885\n",
       "Chandler             855\n",
       "Glendale             591\n",
       "Gilbert              433\n",
       "Peoria               264\n",
       "Surprise             154\n",
       "Avondale             127\n",
       "Goodyear             124\n",
       "Queen Creek           77\n",
       "Cave Creek            62\n",
       "Paradise Valley       57\n",
       "Casa Grande           48\n",
       "Fountain Hills        47\n",
       "Apache Junction       45\n",
       "Anthem                34\n",
       "Maricopa              31\n",
       "Buckeye               30\n",
       "Sun City              27\n",
       "Wickenburg            27\n",
       "Litchfield Park       26\n",
       "Tolleson              22\n",
       "Laveen                21\n",
       "Carefree              19\n",
       "Gold Canyon           13\n",
       "El Mirage             11\n",
       "Gila Bend             10\n",
       "Florence              10\n",
       "Sun City West          8\n",
       "Fort McDowell          7\n",
       "San Tan Valley         6\n",
       "Youngtown              6\n",
       "Morristown             5\n",
       "Higley                 5\n",
       "Coolidge               5\n",
       "Guadalupe              4\n",
       "Sun Lakes              4\n",
       "Ahwatukee              4\n",
       "Tonopah                3\n",
       "Tortilla Flat          3\n",
       "Rio Verde              2\n",
       "Fountain Hls           2\n",
       "Wittmann               2\n",
       "Yuma                   1\n",
       "Goldfield              1\n",
       "Saguaro Lake           1\n",
       "Good Year              1\n",
       "Grand Junction         1\n",
       "Tonto Basin            1\n",
       "Sun City Anthem        1\n",
       "Tucson                 1\n",
       "Charleston             1\n",
       "North Scottsdale       1\n",
       "Glendale Az            1\n",
       "Pheonix                1\n",
       "Stanfield              1\n",
       "North Pinal            1\n",
       "Waddell                1\n",
       "Name: count, dtype: int64"
      ]
     },
     "execution_count": 38,
     "metadata": {},
     "output_type": "execute_result"
    }
   ],
   "source": [
    "# most reviews / busisness are based phoenix\n",
    "business['business_city'].value_counts()"
   ]
  },
  {
   "cell_type": "code",
   "execution_count": 39,
   "id": "27679735",
   "metadata": {},
   "outputs": [
    {
     "data": {
      "text/plain": [
       "business_open\n",
       "True     10145\n",
       "False     1215\n",
       "Name: count, dtype: int64"
      ]
     },
     "execution_count": 39,
     "metadata": {},
     "output_type": "execute_result"
    }
   ],
   "source": [
    "business['business_open'].value_counts()"
   ]
  },
  {
   "cell_type": "code",
   "execution_count": 40,
   "id": "da1bd763",
   "metadata": {},
   "outputs": [
    {
     "data": {
      "text/plain": [
       "business_review_count\n",
       "3      2447\n",
       "4      1662\n",
       "5      1016\n",
       "6       828\n",
       "7       567\n",
       "       ... \n",
       "200       1\n",
       "245       1\n",
       "549       1\n",
       "268       1\n",
       "239       1\n",
       "Name: count, Length: 293, dtype: int64"
      ]
     },
     "execution_count": 40,
     "metadata": {},
     "output_type": "execute_result"
    }
   ],
   "source": [
    "# 3rd data set or business has the most reviews / famous\n",
    "business['business_review_count'].value_counts()"
   ]
  },
  {
   "cell_type": "code",
   "execution_count": 41,
   "id": "646d24b0",
   "metadata": {},
   "outputs": [
    {
     "data": {
      "text/plain": [
       "business_stars\n",
       "4.0    2649\n",
       "3.5    2606\n",
       "4.5    1721\n",
       "3.0    1493\n",
       "5.0    1252\n",
       "2.5     981\n",
       "2.0     390\n",
       "1.5     164\n",
       "1.0     104\n",
       "Name: count, dtype: int64"
      ]
     },
     "execution_count": 41,
     "metadata": {},
     "output_type": "execute_result"
    }
   ],
   "source": [
    "business['business_stars'].value_counts()"
   ]
  },
  {
   "cell_type": "code",
   "execution_count": 42,
   "id": "27fcd3ff",
   "metadata": {},
   "outputs": [
    {
     "data": {
      "text/plain": [
       "business_state\n",
       "AZ    11357\n",
       "CA        1\n",
       "SC        1\n",
       "CO        1\n",
       "Name: count, dtype: int64"
      ]
     },
     "execution_count": 42,
     "metadata": {},
     "output_type": "execute_result"
    }
   ],
   "source": [
    "business['business_state'].value_counts()\n",
    "# AZ: Arizona\n",
    "# CA: California\n",
    "# SC: South Carolina\n",
    "# CO: Colorado"
   ]
  },
  {
   "cell_type": "markdown",
   "id": "98f4a390",
   "metadata": {},
   "source": [
    "## Reviews Dataset"
   ]
  },
  {
   "cell_type": "code",
   "execution_count": 45,
   "id": "0dce770a",
   "metadata": {},
   "outputs": [
    {
     "name": "stdout",
     "output_type": "stream",
     "text": [
      "<class 'pandas.core.frame.DataFrame'>\n",
      "RangeIndex: 229130 entries, 0 to 229129\n",
      "Data columns (total 27 columns):\n",
      " #   Column                  Non-Null Count   Dtype  \n",
      "---  ------                  --------------   -----  \n",
      " 0   Unnamed: 0              229130 non-null  int64  \n",
      " 1   business_categories     229130 non-null  object \n",
      " 2   business_city           229130 non-null  object \n",
      " 3   business_full_address   229130 non-null  object \n",
      " 4   business_id             229130 non-null  object \n",
      " 5   business_latitude       229130 non-null  float64\n",
      " 6   business_longitude      229130 non-null  float64\n",
      " 7   business_name           229130 non-null  object \n",
      " 8   business_open           229130 non-null  bool   \n",
      " 9   business_review_count   229130 non-null  int64  \n",
      " 10  business_stars          229130 non-null  float64\n",
      " 11  business_state          229130 non-null  object \n",
      " 12  cool                    229130 non-null  int64  \n",
      " 13  date                    229130 non-null  object \n",
      " 14  funny                   229130 non-null  int64  \n",
      " 15  review_id               229130 non-null  object \n",
      " 16  reviewer_average_stars  229130 non-null  float64\n",
      " 17  reviewer_blank          229130 non-null  bool   \n",
      " 18  reviewer_cool           229130 non-null  int64  \n",
      " 19  reviewer_funny          229130 non-null  int64  \n",
      " 20  reviewer_name           215170 non-null  object \n",
      " 21  reviewer_review_count   229130 non-null  int64  \n",
      " 22  reviewer_useful         229130 non-null  int64  \n",
      " 23  stars                   229130 non-null  int64  \n",
      " 24  text                    229124 non-null  object \n",
      " 25  useful                  229130 non-null  int64  \n",
      " 26  user_id                 229130 non-null  object \n",
      "dtypes: bool(2), float64(4), int64(10), object(11)\n",
      "memory usage: 44.1+ MB\n"
     ]
    }
   ],
   "source": [
    "review.info()"
   ]
  },
  {
   "cell_type": "code",
   "execution_count": 51,
   "id": "b655463a",
   "metadata": {},
   "outputs": [
    {
     "data": {
      "text/html": [
       "<div>\n",
       "<style scoped>\n",
       "    .dataframe tbody tr th:only-of-type {\n",
       "        vertical-align: middle;\n",
       "    }\n",
       "\n",
       "    .dataframe tbody tr th {\n",
       "        vertical-align: top;\n",
       "    }\n",
       "\n",
       "    .dataframe thead th {\n",
       "        text-align: right;\n",
       "    }\n",
       "</style>\n",
       "<table border=\"1\" class=\"dataframe\">\n",
       "  <thead>\n",
       "    <tr style=\"text-align: right;\">\n",
       "      <th></th>\n",
       "      <th>Unnamed: 0</th>\n",
       "      <th>business_categories</th>\n",
       "      <th>business_city</th>\n",
       "      <th>business_full_address</th>\n",
       "      <th>business_id</th>\n",
       "      <th>business_latitude</th>\n",
       "      <th>business_longitude</th>\n",
       "      <th>business_name</th>\n",
       "      <th>business_open</th>\n",
       "      <th>business_review_count</th>\n",
       "      <th>...</th>\n",
       "      <th>reviewer_blank</th>\n",
       "      <th>reviewer_cool</th>\n",
       "      <th>reviewer_funny</th>\n",
       "      <th>reviewer_name</th>\n",
       "      <th>reviewer_review_count</th>\n",
       "      <th>reviewer_useful</th>\n",
       "      <th>stars</th>\n",
       "      <th>text</th>\n",
       "      <th>useful</th>\n",
       "      <th>user_id</th>\n",
       "    </tr>\n",
       "  </thead>\n",
       "  <tbody>\n",
       "    <tr>\n",
       "      <th>0</th>\n",
       "      <td>0</td>\n",
       "      <td>Breakfast &amp; Brunch; Restaurants</td>\n",
       "      <td>Phoenix</td>\n",
       "      <td>6106 S 32nd St\\nPhoenix, AZ 85042</td>\n",
       "      <td>9yKzy9PApeiPPOUJEtnvkg</td>\n",
       "      <td>33.390792</td>\n",
       "      <td>-112.012504</td>\n",
       "      <td>Morning Glory Cafe</td>\n",
       "      <td>True</td>\n",
       "      <td>116</td>\n",
       "      <td>...</td>\n",
       "      <td>False</td>\n",
       "      <td>322</td>\n",
       "      <td>331</td>\n",
       "      <td>Jason</td>\n",
       "      <td>376</td>\n",
       "      <td>1034</td>\n",
       "      <td>5</td>\n",
       "      <td>My wife took me here on my birthday for breakf...</td>\n",
       "      <td>5</td>\n",
       "      <td>rLtl8ZkDX5vH5nAx9C3q5Q</td>\n",
       "    </tr>\n",
       "    <tr>\n",
       "      <th>1</th>\n",
       "      <td>1</td>\n",
       "      <td>Italian; Pizza; Restaurants</td>\n",
       "      <td>Phoenix</td>\n",
       "      <td>4848 E Chandler Blvd\\nPhoenix, AZ 85044</td>\n",
       "      <td>ZRJwVLyzEJq1VAihDhYiow</td>\n",
       "      <td>33.305607</td>\n",
       "      <td>-111.978758</td>\n",
       "      <td>Spinato's Pizzeria</td>\n",
       "      <td>True</td>\n",
       "      <td>102</td>\n",
       "      <td>...</td>\n",
       "      <td>False</td>\n",
       "      <td>0</td>\n",
       "      <td>2</td>\n",
       "      <td>Paul</td>\n",
       "      <td>2</td>\n",
       "      <td>0</td>\n",
       "      <td>5</td>\n",
       "      <td>I have no idea why some people give bad review...</td>\n",
       "      <td>0</td>\n",
       "      <td>0a2KyEL0d3Yb1V6aivbIuQ</td>\n",
       "    </tr>\n",
       "    <tr>\n",
       "      <th>2</th>\n",
       "      <td>2</td>\n",
       "      <td>Middle Eastern; Restaurants</td>\n",
       "      <td>Tempe</td>\n",
       "      <td>1513 E  Apache Blvd\\nTempe, AZ 85281</td>\n",
       "      <td>6oRAC4uyJCsJl1X0WZpVSA</td>\n",
       "      <td>33.414345</td>\n",
       "      <td>-111.913031</td>\n",
       "      <td>Haji-Baba</td>\n",
       "      <td>True</td>\n",
       "      <td>265</td>\n",
       "      <td>...</td>\n",
       "      <td>False</td>\n",
       "      <td>0</td>\n",
       "      <td>0</td>\n",
       "      <td>Nicole</td>\n",
       "      <td>3</td>\n",
       "      <td>3</td>\n",
       "      <td>4</td>\n",
       "      <td>love the gyro plate. Rice is so good and I als...</td>\n",
       "      <td>1</td>\n",
       "      <td>0hT2KtfLiobPvh6cDC8JQg</td>\n",
       "    </tr>\n",
       "    <tr>\n",
       "      <th>3</th>\n",
       "      <td>3</td>\n",
       "      <td>Active Life; Dog Parks; Parks</td>\n",
       "      <td>Scottsdale</td>\n",
       "      <td>5401 N Hayden Rd\\nScottsdale, AZ 85250</td>\n",
       "      <td>_1QQZuf4zZOyFCvXc0o6Vg</td>\n",
       "      <td>33.522945</td>\n",
       "      <td>-111.907886</td>\n",
       "      <td>Chaparral Dog Park</td>\n",
       "      <td>True</td>\n",
       "      <td>88</td>\n",
       "      <td>...</td>\n",
       "      <td>False</td>\n",
       "      <td>36</td>\n",
       "      <td>18</td>\n",
       "      <td>lindsey</td>\n",
       "      <td>31</td>\n",
       "      <td>75</td>\n",
       "      <td>5</td>\n",
       "      <td>Rosie, Dakota, and I LOVE Chaparral Dog Park!!...</td>\n",
       "      <td>2</td>\n",
       "      <td>uZetl9T0NcROGOyFfughhg</td>\n",
       "    </tr>\n",
       "    <tr>\n",
       "      <th>4</th>\n",
       "      <td>4</td>\n",
       "      <td>Tires; Automotive</td>\n",
       "      <td>Mesa</td>\n",
       "      <td>1357 S Power Road\\nMesa, AZ 85206</td>\n",
       "      <td>6ozycU1RpktNG2-1BroVtw</td>\n",
       "      <td>33.391027</td>\n",
       "      <td>-111.684482</td>\n",
       "      <td>Discount Tire</td>\n",
       "      <td>True</td>\n",
       "      <td>5</td>\n",
       "      <td>...</td>\n",
       "      <td>False</td>\n",
       "      <td>8</td>\n",
       "      <td>3</td>\n",
       "      <td>Roger</td>\n",
       "      <td>28</td>\n",
       "      <td>32</td>\n",
       "      <td>5</td>\n",
       "      <td>General Manager Scott Petello is a good egg!!!...</td>\n",
       "      <td>0</td>\n",
       "      <td>vYmM4KTsC8ZfQBg-j5MWkw</td>\n",
       "    </tr>\n",
       "  </tbody>\n",
       "</table>\n",
       "<p>5 rows × 27 columns</p>\n",
       "</div>"
      ],
      "text/plain": [
       "   Unnamed: 0              business_categories business_city  \\\n",
       "0           0  Breakfast & Brunch; Restaurants       Phoenix   \n",
       "1           1      Italian; Pizza; Restaurants       Phoenix   \n",
       "2           2      Middle Eastern; Restaurants         Tempe   \n",
       "3           3    Active Life; Dog Parks; Parks    Scottsdale   \n",
       "4           4                Tires; Automotive          Mesa   \n",
       "\n",
       "                     business_full_address             business_id  \\\n",
       "0        6106 S 32nd St\\nPhoenix, AZ 85042  9yKzy9PApeiPPOUJEtnvkg   \n",
       "1  4848 E Chandler Blvd\\nPhoenix, AZ 85044  ZRJwVLyzEJq1VAihDhYiow   \n",
       "2     1513 E  Apache Blvd\\nTempe, AZ 85281  6oRAC4uyJCsJl1X0WZpVSA   \n",
       "3   5401 N Hayden Rd\\nScottsdale, AZ 85250  _1QQZuf4zZOyFCvXc0o6Vg   \n",
       "4        1357 S Power Road\\nMesa, AZ 85206  6ozycU1RpktNG2-1BroVtw   \n",
       "\n",
       "   business_latitude  business_longitude       business_name  business_open  \\\n",
       "0          33.390792         -112.012504  Morning Glory Cafe           True   \n",
       "1          33.305607         -111.978758  Spinato's Pizzeria           True   \n",
       "2          33.414345         -111.913031           Haji-Baba           True   \n",
       "3          33.522945         -111.907886  Chaparral Dog Park           True   \n",
       "4          33.391027         -111.684482       Discount Tire           True   \n",
       "\n",
       "   business_review_count  ...  reviewer_blank reviewer_cool  reviewer_funny  \\\n",
       "0                    116  ...           False           322             331   \n",
       "1                    102  ...           False             0               2   \n",
       "2                    265  ...           False             0               0   \n",
       "3                     88  ...           False            36              18   \n",
       "4                      5  ...           False             8               3   \n",
       "\n",
       "  reviewer_name  reviewer_review_count reviewer_useful  stars  \\\n",
       "0         Jason                    376            1034      5   \n",
       "1          Paul                      2               0      5   \n",
       "2        Nicole                      3               3      4   \n",
       "3       lindsey                     31              75      5   \n",
       "4         Roger                     28              32      5   \n",
       "\n",
       "                                                text  useful  \\\n",
       "0  My wife took me here on my birthday for breakf...       5   \n",
       "1  I have no idea why some people give bad review...       0   \n",
       "2  love the gyro plate. Rice is so good and I als...       1   \n",
       "3  Rosie, Dakota, and I LOVE Chaparral Dog Park!!...       2   \n",
       "4  General Manager Scott Petello is a good egg!!!...       0   \n",
       "\n",
       "                  user_id  \n",
       "0  rLtl8ZkDX5vH5nAx9C3q5Q  \n",
       "1  0a2KyEL0d3Yb1V6aivbIuQ  \n",
       "2  0hT2KtfLiobPvh6cDC8JQg  \n",
       "3  uZetl9T0NcROGOyFfughhg  \n",
       "4  vYmM4KTsC8ZfQBg-j5MWkw  \n",
       "\n",
       "[5 rows x 27 columns]"
      ]
     },
     "execution_count": 51,
     "metadata": {},
     "output_type": "execute_result"
    }
   ],
   "source": [
    "review.head()"
   ]
  },
  {
   "cell_type": "code",
   "execution_count": 50,
   "id": "89c7b53e",
   "metadata": {},
   "outputs": [
    {
     "data": {
      "text/plain": [
       "Index(['Unnamed: 0', 'business_categories', 'business_city',\n",
       "       'business_full_address', 'business_id', 'business_latitude',\n",
       "       'business_longitude', 'business_name', 'business_open',\n",
       "       'business_review_count', 'business_stars', 'business_state', 'cool',\n",
       "       'date', 'funny', 'review_id', 'reviewer_average_stars',\n",
       "       'reviewer_blank', 'reviewer_cool', 'reviewer_funny', 'reviewer_name',\n",
       "       'reviewer_review_count', 'reviewer_useful', 'stars', 'text', 'useful',\n",
       "       'user_id'],\n",
       "      dtype='object')"
      ]
     },
     "execution_count": 50,
     "metadata": {},
     "output_type": "execute_result"
    }
   ],
   "source": [
    "review.columns"
   ]
  },
  {
   "cell_type": "code",
   "execution_count": 52,
   "id": "8d24c2b1",
   "metadata": {},
   "outputs": [
    {
     "data": {
      "text/plain": [
       "reviewer_average_stars\n",
       "0.00    13961\n",
       "4.00     9431\n",
       "5.00     8017\n",
       "3.00     4023\n",
       "3.67     4016\n",
       "        ...  \n",
       "1.61        1\n",
       "1.43        1\n",
       "1.36        1\n",
       "2.07        1\n",
       "1.82        1\n",
       "Name: count, Length: 331, dtype: int64"
      ]
     },
     "execution_count": 52,
     "metadata": {},
     "output_type": "execute_result"
    }
   ],
   "source": [
    "review['reviewer_average_stars'].value_counts()"
   ]
  },
  {
   "cell_type": "code",
   "execution_count": null,
   "id": "b65bcbbe",
   "metadata": {},
   "outputs": [],
   "source": [
    "# On Yelp, users can mark reviews as \"cool\" if they find them \n",
    "# particularly helpful, interesting, or well-written\n",
    "\n",
    "# 39,450 reviewers have received 0 \"cool\" votes"
   ]
  },
  {
   "cell_type": "code",
   "execution_count": 54,
   "id": "780ef3e8",
   "metadata": {},
   "outputs": [
    {
     "data": {
      "text/plain": [
       "reviewer_cool\n",
       "0       39248\n",
       "1       14963\n",
       "2       10764\n",
       "3        8291\n",
       "4        6574\n",
       "        ...  \n",
       "3703        1\n",
       "3902        1\n",
       "710         1\n",
       "2479        1\n",
       "662         1\n",
       "Name: count, Length: 1116, dtype: int64"
      ]
     },
     "execution_count": 54,
     "metadata": {},
     "output_type": "execute_result"
    }
   ],
   "source": [
    "review['reviewer_cool'].value_counts()"
   ]
  },
  {
   "cell_type": "code",
   "execution_count": 55,
   "id": "c5d4816c",
   "metadata": {},
   "outputs": [
    {
     "data": {
      "image/png": "[encoded data removed]",
      "text/plain": [
       "<Figure size 1200x600 with 1 Axes>"
      ]
     },
     "metadata": {},
     "output_type": "display_data"
    }
   ],
   "source": [
    "plt.figure(figsize=(12, 6))\n",
    "review['reviewer_cool'].hist(bins=50, log=True)\n",
    "plt.title('Distribution of \"Cool\" Votes per Reviewer')\n",
    "plt.xlabel('Number of \"Cool\" Votes')\n",
    "plt.ylabel('Number of Reviewers (log scale)')\n",
    "plt.show()"
   ]
  },
  {
   "cell_type": "code",
   "execution_count": 58,
   "id": "d1a4766f",
   "metadata": {},
   "outputs": [
    {
     "name": "stdout",
     "output_type": "stream",
     "text": [
      "Mean 'cool' votes per reviewer: 246.41569414742722\n"
     ]
    }
   ],
   "source": [
    "print(\"Mean 'cool' votes per reviewer:\", review['reviewer_cool'].mean())"
   ]
  },
  {
   "cell_type": "markdown",
   "id": "8e9cadd8",
   "metadata": {},
   "source": [
    "### Analyze if there's a correlation between \"cool\" votes and star ratings:"
   ]
  },
  {
   "cell_type": "code",
   "execution_count": 59,
   "id": "274d6f1e",
   "metadata": {},
   "outputs": [
    {
     "name": "stdout",
     "output_type": "stream",
     "text": [
      "Correlation between 'cool' votes and star rating: -0.004295222041795148\n"
     ]
    },
    {
     "data": {
      "image/png": "[encoded data removed]",
      "text/plain": [
       "<Figure size 1000x600 with 1 Axes>"
      ]
     },
     "metadata": {},
     "output_type": "display_data"
    }
   ],
   "source": [
    "correlation = review['reviewer_cool'].corr(review['stars'])\n",
    "print(f\"Correlation between 'cool' votes and star rating: {correlation}\")\n",
    "\n",
    "plt.figure(figsize=(10, 6))\n",
    "plt.scatter(review['reviewer_cool'], review['stars'], alpha=0.1)\n",
    "plt.title('Relationship between \"Cool\" Votes and Star Rating')\n",
    "plt.xlabel('Number of \"Cool\" Votes')\n",
    "plt.ylabel('Star Rating')\n",
    "plt.show()"
   ]
  },
  {
   "cell_type": "markdown",
   "id": "f412ca21",
   "metadata": {},
   "source": [
    "### we can see if reviewers with more \"cool\" votes tend to write longer reviews:"
   ]
  },
  {
   "cell_type": "code",
   "execution_count": 60,
   "id": "377fd893",
   "metadata": {},
   "outputs": [
    {
     "data": {
      "image/png": "[encoded data removed]",
      "text/plain": [
       "<Figure size 1000x600 with 1 Axes>"
      ]
     },
     "metadata": {},
     "output_type": "display_data"
    }
   ],
   "source": [
    "review['review_length'] = review['text'].str.len()\n",
    "plt.figure(figsize=(10, 6))\n",
    "plt.scatter(review['reviewer_cool'], review['review_length'], alpha=0.1)\n",
    "plt.title('Relationship between \"Cool\" Votes and Review Length')\n",
    "plt.xlabel('Number of \"Cool\" Votes')\n",
    "plt.ylabel('Review Length (characters)')\n",
    "plt.show()"
   ]
  },
  {
   "cell_type": "code",
   "execution_count": 61,
   "id": "555551ee",
   "metadata": {},
   "outputs": [],
   "source": [
    "# so from plot we can say 500 to 2000 length reviews (characters) \n",
    "# are more likely to get more cool votes"
   ]
  },
  {
   "cell_type": "code",
   "execution_count": 63,
   "id": "2e086c10",
   "metadata": {},
   "outputs": [
    {
     "data": {
      "text/plain": [
       "stars\n",
       "4    79705\n",
       "5    75912\n",
       "3    35268\n",
       "2    20897\n",
       "1    17348\n",
       "Name: count, dtype: int64"
      ]
     },
     "execution_count": 63,
     "metadata": {},
     "output_type": "execute_result"
    }
   ],
   "source": [
    "review['stars'].value_counts()"
   ]
  },
  {
   "cell_type": "code",
   "execution_count": 72,
   "id": "f5264cf7",
   "metadata": {},
   "outputs": [
    {
     "data": {
      "text/plain": [
       "'Nobuo shows his unique talents with everything on the menu. Carefully crafted features with much to drink. Start with the pork belly buns and a stout. Then go on until you can no longer.'"
      ]
     },
     "execution_count": 72,
     "metadata": {},
     "output_type": "execute_result"
    }
   ],
   "source": [
    "review['text'][9]"
   ]
  },
  {
   "cell_type": "code",
   "execution_count": 73,
   "id": "eb3e8e26",
   "metadata": {},
   "outputs": [
    {
     "data": {
      "text/plain": [
       "reviewer_blank\n",
       "False    215170\n",
       "True      13960\n",
       "Name: count, dtype: int64"
      ]
     },
     "execution_count": 73,
     "metadata": {},
     "output_type": "execute_result"
    }
   ],
   "source": [
    "review['reviewer_blank'].value_counts()"
   ]
  },
  {
   "cell_type": "markdown",
   "id": "71bc453b",
   "metadata": {},
   "source": [
    "## users dataset"
   ]
  },
  {
   "cell_type": "code",
   "execution_count": 74,
   "id": "ccd97794",
   "metadata": {},
   "outputs": [
    {
     "name": "stdout",
     "output_type": "stream",
     "text": [
      "<class 'pandas.core.frame.DataFrame'>\n",
      "RangeIndex: 43873 entries, 0 to 43872\n",
      "Data columns (total 8 columns):\n",
      " #   Column                  Non-Null Count  Dtype  \n",
      "---  ------                  --------------  -----  \n",
      " 0   Unnamed: 0              43873 non-null  int64  \n",
      " 1   reviewer_average_stars  43873 non-null  float64\n",
      " 2   reviewer_cool           43873 non-null  int64  \n",
      " 3   reviewer_funny          43873 non-null  int64  \n",
      " 4   reviewer_name           43873 non-null  object \n",
      " 5   reviewer_review_count   43873 non-null  int64  \n",
      " 6   reviewer_useful         43873 non-null  int64  \n",
      " 7   user_id                 43873 non-null  object \n",
      "dtypes: float64(1), int64(5), object(2)\n",
      "memory usage: 2.7+ MB\n"
     ]
    }
   ],
   "source": [
    "user.info()"
   ]
  },
  {
   "cell_type": "code",
   "execution_count": 75,
   "id": "f52bffc1",
   "metadata": {},
   "outputs": [
    {
     "data": {
      "text/html": [
       "<div>\n",
       "<style scoped>\n",
       "    .dataframe tbody tr th:only-of-type {\n",
       "        vertical-align: middle;\n",
       "    }\n",
       "\n",
       "    .dataframe tbody tr th {\n",
       "        vertical-align: top;\n",
       "    }\n",
       "\n",
       "    .dataframe thead th {\n",
       "        text-align: right;\n",
       "    }\n",
       "</style>\n",
       "<table border=\"1\" class=\"dataframe\">\n",
       "  <thead>\n",
       "    <tr style=\"text-align: right;\">\n",
       "      <th></th>\n",
       "      <th>Unnamed: 0</th>\n",
       "      <th>reviewer_average_stars</th>\n",
       "      <th>reviewer_cool</th>\n",
       "      <th>reviewer_funny</th>\n",
       "      <th>reviewer_name</th>\n",
       "      <th>reviewer_review_count</th>\n",
       "      <th>reviewer_useful</th>\n",
       "      <th>user_id</th>\n",
       "    </tr>\n",
       "  </thead>\n",
       "  <tbody>\n",
       "    <tr>\n",
       "      <th>0</th>\n",
       "      <td>0</td>\n",
       "      <td>5.0</td>\n",
       "      <td>0</td>\n",
       "      <td>0</td>\n",
       "      <td>Jim</td>\n",
       "      <td>6</td>\n",
       "      <td>7</td>\n",
       "      <td>CR2y7yEm4X035ZMzrTtN9Q</td>\n",
       "    </tr>\n",
       "    <tr>\n",
       "      <th>1</th>\n",
       "      <td>1</td>\n",
       "      <td>1.0</td>\n",
       "      <td>0</td>\n",
       "      <td>0</td>\n",
       "      <td>Kelle</td>\n",
       "      <td>2</td>\n",
       "      <td>1</td>\n",
       "      <td>_9GXoHhdxc30ujPaQwh6Ew</td>\n",
       "    </tr>\n",
       "    <tr>\n",
       "      <th>2</th>\n",
       "      <td>2</td>\n",
       "      <td>5.0</td>\n",
       "      <td>0</td>\n",
       "      <td>0</td>\n",
       "      <td>Stephanie</td>\n",
       "      <td>2</td>\n",
       "      <td>1</td>\n",
       "      <td>8mM-nqxjg6pT04kwcjMbsw</td>\n",
       "    </tr>\n",
       "    <tr>\n",
       "      <th>3</th>\n",
       "      <td>3</td>\n",
       "      <td>5.0</td>\n",
       "      <td>0</td>\n",
       "      <td>0</td>\n",
       "      <td>T</td>\n",
       "      <td>2</td>\n",
       "      <td>2</td>\n",
       "      <td>Ch6CdTR2IVaVANr-RglMOg</td>\n",
       "    </tr>\n",
       "    <tr>\n",
       "      <th>4</th>\n",
       "      <td>4</td>\n",
       "      <td>1.0</td>\n",
       "      <td>0</td>\n",
       "      <td>0</td>\n",
       "      <td>Beth</td>\n",
       "      <td>1</td>\n",
       "      <td>0</td>\n",
       "      <td>NZrLmHRyiHmyT1JrfzkCOA</td>\n",
       "    </tr>\n",
       "  </tbody>\n",
       "</table>\n",
       "</div>"
      ],
      "text/plain": [
       "   Unnamed: 0  reviewer_average_stars  reviewer_cool  reviewer_funny  \\\n",
       "0           0                     5.0              0               0   \n",
       "1           1                     1.0              0               0   \n",
       "2           2                     5.0              0               0   \n",
       "3           3                     5.0              0               0   \n",
       "4           4                     1.0              0               0   \n",
       "\n",
       "  reviewer_name  reviewer_review_count  reviewer_useful  \\\n",
       "0           Jim                      6                7   \n",
       "1         Kelle                      2                1   \n",
       "2     Stephanie                      2                1   \n",
       "3             T                      2                2   \n",
       "4          Beth                      1                0   \n",
       "\n",
       "                  user_id  \n",
       "0  CR2y7yEm4X035ZMzrTtN9Q  \n",
       "1  _9GXoHhdxc30ujPaQwh6Ew  \n",
       "2  8mM-nqxjg6pT04kwcjMbsw  \n",
       "3  Ch6CdTR2IVaVANr-RglMOg  \n",
       "4  NZrLmHRyiHmyT1JrfzkCOA  "
      ]
     },
     "execution_count": 75,
     "metadata": {},
     "output_type": "execute_result"
    }
   ],
   "source": [
    "user.head()"
   ]
  },
  {
   "cell_type": "code",
   "execution_count": 76,
   "id": "94c4d7bd",
   "metadata": {},
   "outputs": [],
   "source": [
    "# Similar to \"cool\", \n",
    "# users can mark reviews as \"funny\" if they find them humorous.\n",
    "# Users can mark reviews as \"useful\" if they find them particularly helpful or informative.\n",
    "\n",
    "# reviewer_review_count :\n",
    "# The total number of reviews this reviewer has written on Yelp.\n",
    "# indicator of how active or experienced the reviewer is on the platform."
   ]
  },
  {
   "cell_type": "markdown",
   "id": "d5c15023",
   "metadata": {},
   "source": [
    "# EDA and Data Cleaning"
   ]
  },
  {
   "cell_type": "markdown",
   "id": "a1bcc98d",
   "metadata": {},
   "source": [
    "### i have removed the following features from the datasets..\n",
    "\n",
    "     column_a - contains the index\n",
    "     business_blank - contains only the False boolean value of unknown       \n",
    "     business_neighborhoods - contains all missing values\n",
    "     business_type - contains only one value 'business'\n",
    "     reviewer_type - has only one value 'user' which is deemed unnecessary\n",
    "     type - contains only one value 'review' which is deemed unnecess      \n",
    "     business_location - contains already existing information on   \n",
    "     longitude/latitude)"
   ]
  },
  {
   "cell_type": "markdown",
   "id": "208ff7c5",
   "metadata": {},
   "source": [
    "## Missing values\n",
    "### Business Dataset\n",
    "    -All missing values have been removed on the business_categories column"
   ]
  },
  {
   "cell_type": "code",
   "execution_count": 78,
   "id": "99fac8e2",
   "metadata": {},
   "outputs": [
    {
     "name": "stdout",
     "output_type": "stream",
     "text": [
      "Number of missing values:  0\n",
      "Percent of missing values per feature: \n"
     ]
    },
    {
     "data": {
      "text/plain": [
       "Unnamed: 0               0.0\n",
       "business_categories      0.0\n",
       "business_city            0.0\n",
       "business_full_address    0.0\n",
       "business_id              0.0\n",
       "business_latitude        0.0\n",
       "business_longitude       0.0\n",
       "business_name            0.0\n",
       "business_open            0.0\n",
       "business_review_count    0.0\n",
       "business_stars           0.0\n",
       "business_state           0.0\n",
       "dtype: float64"
      ]
     },
     "execution_count": 78,
     "metadata": {},
     "output_type": "execute_result"
    }
   ],
   "source": [
    "#exploring the number of missing values per feature in percentage\n",
    "print('Number of missing values: ', business.isnull().values.sum())\n",
    "print('Percent of missing values per feature: ') \n",
    "business.isnull().sum() * 100 / len(business)"
   ]
  },
  {
   "cell_type": "code",
   "execution_count": 81,
   "id": "4aeb378e",
   "metadata": {},
   "outputs": [],
   "source": [
    "#removing all missing values in categories\n",
    "business.dropna(subset = ['business_categories'], inplace=True)"
   ]
  },
  {
   "cell_type": "code",
   "execution_count": 82,
   "id": "5dcc8363",
   "metadata": {},
   "outputs": [
    {
     "data": {
      "text/html": [
       "<div>\n",
       "<style scoped>\n",
       "    .dataframe tbody tr th:only-of-type {\n",
       "        vertical-align: middle;\n",
       "    }\n",
       "\n",
       "    .dataframe tbody tr th {\n",
       "        vertical-align: top;\n",
       "    }\n",
       "\n",
       "    .dataframe thead th {\n",
       "        text-align: right;\n",
       "    }\n",
       "</style>\n",
       "<table border=\"1\" class=\"dataframe\">\n",
       "  <thead>\n",
       "    <tr style=\"text-align: right;\">\n",
       "      <th></th>\n",
       "      <th>Unnamed: 0</th>\n",
       "      <th>business_categories</th>\n",
       "      <th>business_city</th>\n",
       "      <th>business_full_address</th>\n",
       "      <th>business_id</th>\n",
       "      <th>business_latitude</th>\n",
       "      <th>business_longitude</th>\n",
       "      <th>business_name</th>\n",
       "      <th>business_open</th>\n",
       "      <th>business_review_count</th>\n",
       "      <th>business_stars</th>\n",
       "      <th>business_state</th>\n",
       "    </tr>\n",
       "  </thead>\n",
       "  <tbody>\n",
       "    <tr>\n",
       "      <th>0</th>\n",
       "      <td>0</td>\n",
       "      <td>Accountants; Professional Services; Tax Servic...</td>\n",
       "      <td>Peoria</td>\n",
       "      <td>8466 W Peoria Ave\\nSte 6\\nPeoria, AZ 85345</td>\n",
       "      <td>rncjoVoEFUJGCUoC1JgnUA</td>\n",
       "      <td>33.581867</td>\n",
       "      <td>-112.241596</td>\n",
       "      <td>Peoria Income Tax Service</td>\n",
       "      <td>True</td>\n",
       "      <td>3</td>\n",
       "      <td>5.0</td>\n",
       "      <td>AZ</td>\n",
       "    </tr>\n",
       "    <tr>\n",
       "      <th>1</th>\n",
       "      <td>1</td>\n",
       "      <td>Sporting Goods; Bikes; Shopping</td>\n",
       "      <td>Phoenix</td>\n",
       "      <td>2149 W Wood Dr\\nPhoenix, AZ 85029</td>\n",
       "      <td>0FNFSzCFP_rGUoJx8W7tJg</td>\n",
       "      <td>33.604054</td>\n",
       "      <td>-112.105933</td>\n",
       "      <td>Bike Doctor</td>\n",
       "      <td>True</td>\n",
       "      <td>5</td>\n",
       "      <td>5.0</td>\n",
       "      <td>AZ</td>\n",
       "    </tr>\n",
       "    <tr>\n",
       "      <th>2</th>\n",
       "      <td>2</td>\n",
       "      <td>Food; Grocery</td>\n",
       "      <td>Phoenix</td>\n",
       "      <td>845 W Southern Ave\\nPhoenix, AZ 85041</td>\n",
       "      <td>usAsSV36QmUej8--yvN-dg</td>\n",
       "      <td>33.392210</td>\n",
       "      <td>-112.085377</td>\n",
       "      <td>Food City</td>\n",
       "      <td>True</td>\n",
       "      <td>5</td>\n",
       "      <td>3.5</td>\n",
       "      <td>AZ</td>\n",
       "    </tr>\n",
       "    <tr>\n",
       "      <th>3</th>\n",
       "      <td>3</td>\n",
       "      <td>Food; Bagels; Delis; Restaurants</td>\n",
       "      <td>Glendale Az</td>\n",
       "      <td>6520 W Happy Valley Rd\\nSte 101\\nGlendale Az, ...</td>\n",
       "      <td>PzOqRohWw7F7YEPBz6AubA</td>\n",
       "      <td>33.712797</td>\n",
       "      <td>-112.200264</td>\n",
       "      <td>Hot Bagels &amp; Deli</td>\n",
       "      <td>True</td>\n",
       "      <td>14</td>\n",
       "      <td>3.5</td>\n",
       "      <td>AZ</td>\n",
       "    </tr>\n",
       "    <tr>\n",
       "      <th>4</th>\n",
       "      <td>4</td>\n",
       "      <td>Women's Clothing; Fashion; Shopping</td>\n",
       "      <td>Glendale</td>\n",
       "      <td>The Americana at Brand\\n869 Americana Way\\nGle...</td>\n",
       "      <td>gtQzAiy7D-dPU8WzT3jX3Q</td>\n",
       "      <td>33.607766</td>\n",
       "      <td>-112.481632</td>\n",
       "      <td>Barney's New York Co-op</td>\n",
       "      <td>True</td>\n",
       "      <td>6</td>\n",
       "      <td>4.5</td>\n",
       "      <td>CA</td>\n",
       "    </tr>\n",
       "  </tbody>\n",
       "</table>\n",
       "</div>"
      ],
      "text/plain": [
       "   Unnamed: 0                                business_categories  \\\n",
       "0           0  Accountants; Professional Services; Tax Servic...   \n",
       "1           1                    Sporting Goods; Bikes; Shopping   \n",
       "2           2                                      Food; Grocery   \n",
       "3           3                   Food; Bagels; Delis; Restaurants   \n",
       "4           4                Women's Clothing; Fashion; Shopping   \n",
       "\n",
       "  business_city                              business_full_address  \\\n",
       "0        Peoria         8466 W Peoria Ave\\nSte 6\\nPeoria, AZ 85345   \n",
       "1       Phoenix                  2149 W Wood Dr\\nPhoenix, AZ 85029   \n",
       "2       Phoenix              845 W Southern Ave\\nPhoenix, AZ 85041   \n",
       "3   Glendale Az  6520 W Happy Valley Rd\\nSte 101\\nGlendale Az, ...   \n",
       "4      Glendale  The Americana at Brand\\n869 Americana Way\\nGle...   \n",
       "\n",
       "              business_id  business_latitude  business_longitude  \\\n",
       "0  rncjoVoEFUJGCUoC1JgnUA          33.581867         -112.241596   \n",
       "1  0FNFSzCFP_rGUoJx8W7tJg          33.604054         -112.105933   \n",
       "2  usAsSV36QmUej8--yvN-dg          33.392210         -112.085377   \n",
       "3  PzOqRohWw7F7YEPBz6AubA          33.712797         -112.200264   \n",
       "4  gtQzAiy7D-dPU8WzT3jX3Q          33.607766         -112.481632   \n",
       "\n",
       "               business_name  business_open  business_review_count  \\\n",
       "0  Peoria Income Tax Service           True                      3   \n",
       "1                Bike Doctor           True                      5   \n",
       "2                  Food City           True                      5   \n",
       "3          Hot Bagels & Deli           True                     14   \n",
       "4    Barney's New York Co-op           True                      6   \n",
       "\n",
       "   business_stars business_state  \n",
       "0             5.0             AZ  \n",
       "1             5.0             AZ  \n",
       "2             3.5             AZ  \n",
       "3             3.5             AZ  \n",
       "4             4.5             CA  "
      ]
     },
     "execution_count": 82,
     "metadata": {},
     "output_type": "execute_result"
    }
   ],
   "source": [
    "#resetting the index\n",
    "business.reset_index(drop=True, inplace=True)\n",
    "business.head()"
   ]
  },
  {
   "cell_type": "markdown",
   "id": "fca79bed",
   "metadata": {},
   "source": [
    "## Review Dataset"
   ]
  },
  {
   "cell_type": "code",
   "execution_count": 83,
   "id": "8132affd",
   "metadata": {},
   "outputs": [
    {
     "name": "stdout",
     "output_type": "stream",
     "text": [
      "Number of missing values:  13972\n",
      "Percent of missing values per feature: \n"
     ]
    },
    {
     "data": {
      "text/plain": [
       "Unnamed: 0                0.000000\n",
       "business_categories       0.000000\n",
       "business_city             0.000000\n",
       "business_full_address     0.000000\n",
       "business_id               0.000000\n",
       "business_latitude         0.000000\n",
       "business_longitude        0.000000\n",
       "business_name             0.000000\n",
       "business_open             0.000000\n",
       "business_review_count     0.000000\n",
       "business_stars            0.000000\n",
       "business_state            0.000000\n",
       "cool                      0.000000\n",
       "date                      0.000000\n",
       "funny                     0.000000\n",
       "review_id                 0.000000\n",
       "reviewer_average_stars    0.000000\n",
       "reviewer_blank            0.000000\n",
       "reviewer_cool             0.000000\n",
       "reviewer_funny            0.000000\n",
       "reviewer_name             6.092611\n",
       "reviewer_review_count     0.000000\n",
       "reviewer_useful           0.000000\n",
       "stars                     0.000000\n",
       "text                      0.002619\n",
       "useful                    0.000000\n",
       "user_id                   0.000000\n",
       "review_length             0.002619\n",
       "dtype: float64"
      ]
     },
     "execution_count": 83,
     "metadata": {},
     "output_type": "execute_result"
    }
   ],
   "source": [
    "#exploring the number of missing values per feature in percentage\n",
    "print('Number of missing values: ', review.isnull().values.sum())\n",
    "print('Percent of missing values per feature: ') \n",
    "review.isnull().sum() * 100 / len(review)"
   ]
  },
  {
   "cell_type": "code",
   "execution_count": 88,
   "id": "8ba50071",
   "metadata": {},
   "outputs": [],
   "source": [
    "#removing all missing values in categories\n",
    "review.dropna(subset = ['business_categories'], inplace=True)"
   ]
  },
  {
   "cell_type": "code",
   "execution_count": 89,
   "id": "bc0b844f",
   "metadata": {},
   "outputs": [
    {
     "data": {
      "image/png": "[encoded data removed]",
      "text/plain": [
       "<Figure size 1200x800 with 1 Axes>"
      ]
     },
     "metadata": {},
     "output_type": "display_data"
    }
   ],
   "source": [
    "# Create a boolean mask of missing values\n",
    "missing_mask = business.isnull()\n",
    "\n",
    "# Create a heatmap\n",
    "plt.figure(figsize=(12, 8))\n",
    "sns.heatmap(missing_mask, cbar=False, yticklabels=False, cmap='viridis')\n",
    "plt.title('Missing Value Matrix')\n",
    "plt.xlabel('Columns')\n",
    "plt.ylabel('Rows')\n",
    "plt.show()"
   ]
  },
  {
   "cell_type": "code",
   "execution_count": 90,
   "id": "6f10084e",
   "metadata": {},
   "outputs": [
    {
     "data": {
      "text/html": [
       "<div>\n",
       "<style scoped>\n",
       "    .dataframe tbody tr th:only-of-type {\n",
       "        vertical-align: middle;\n",
       "    }\n",
       "\n",
       "    .dataframe tbody tr th {\n",
       "        vertical-align: top;\n",
       "    }\n",
       "\n",
       "    .dataframe thead th {\n",
       "        text-align: right;\n",
       "    }\n",
       "</style>\n",
       "<table border=\"1\" class=\"dataframe\">\n",
       "  <thead>\n",
       "    <tr style=\"text-align: right;\">\n",
       "      <th></th>\n",
       "      <th>Unnamed: 0</th>\n",
       "      <th>business_categories</th>\n",
       "      <th>business_city</th>\n",
       "      <th>business_full_address</th>\n",
       "      <th>business_id</th>\n",
       "      <th>business_latitude</th>\n",
       "      <th>business_longitude</th>\n",
       "      <th>business_name</th>\n",
       "      <th>business_open</th>\n",
       "      <th>business_review_count</th>\n",
       "      <th>...</th>\n",
       "      <th>reviewer_cool</th>\n",
       "      <th>reviewer_funny</th>\n",
       "      <th>reviewer_name</th>\n",
       "      <th>reviewer_review_count</th>\n",
       "      <th>reviewer_useful</th>\n",
       "      <th>stars</th>\n",
       "      <th>text</th>\n",
       "      <th>useful</th>\n",
       "      <th>user_id</th>\n",
       "      <th>review_length</th>\n",
       "    </tr>\n",
       "  </thead>\n",
       "  <tbody>\n",
       "    <tr>\n",
       "      <th>0</th>\n",
       "      <td>0</td>\n",
       "      <td>Breakfast &amp; Brunch; Restaurants</td>\n",
       "      <td>Phoenix</td>\n",
       "      <td>6106 S 32nd St\\nPhoenix, AZ 85042</td>\n",
       "      <td>9yKzy9PApeiPPOUJEtnvkg</td>\n",
       "      <td>33.390792</td>\n",
       "      <td>-112.012504</td>\n",
       "      <td>Morning Glory Cafe</td>\n",
       "      <td>True</td>\n",
       "      <td>116</td>\n",
       "      <td>...</td>\n",
       "      <td>322</td>\n",
       "      <td>331</td>\n",
       "      <td>Jason</td>\n",
       "      <td>376</td>\n",
       "      <td>1034</td>\n",
       "      <td>5</td>\n",
       "      <td>My wife took me here on my birthday for breakf...</td>\n",
       "      <td>5</td>\n",
       "      <td>rLtl8ZkDX5vH5nAx9C3q5Q</td>\n",
       "      <td>889.0</td>\n",
       "    </tr>\n",
       "    <tr>\n",
       "      <th>1</th>\n",
       "      <td>1</td>\n",
       "      <td>Italian; Pizza; Restaurants</td>\n",
       "      <td>Phoenix</td>\n",
       "      <td>4848 E Chandler Blvd\\nPhoenix, AZ 85044</td>\n",
       "      <td>ZRJwVLyzEJq1VAihDhYiow</td>\n",
       "      <td>33.305607</td>\n",
       "      <td>-111.978758</td>\n",
       "      <td>Spinato's Pizzeria</td>\n",
       "      <td>True</td>\n",
       "      <td>102</td>\n",
       "      <td>...</td>\n",
       "      <td>0</td>\n",
       "      <td>2</td>\n",
       "      <td>Paul</td>\n",
       "      <td>2</td>\n",
       "      <td>0</td>\n",
       "      <td>5</td>\n",
       "      <td>I have no idea why some people give bad review...</td>\n",
       "      <td>0</td>\n",
       "      <td>0a2KyEL0d3Yb1V6aivbIuQ</td>\n",
       "      <td>1345.0</td>\n",
       "    </tr>\n",
       "    <tr>\n",
       "      <th>2</th>\n",
       "      <td>2</td>\n",
       "      <td>Middle Eastern; Restaurants</td>\n",
       "      <td>Tempe</td>\n",
       "      <td>1513 E  Apache Blvd\\nTempe, AZ 85281</td>\n",
       "      <td>6oRAC4uyJCsJl1X0WZpVSA</td>\n",
       "      <td>33.414345</td>\n",
       "      <td>-111.913031</td>\n",
       "      <td>Haji-Baba</td>\n",
       "      <td>True</td>\n",
       "      <td>265</td>\n",
       "      <td>...</td>\n",
       "      <td>0</td>\n",
       "      <td>0</td>\n",
       "      <td>Nicole</td>\n",
       "      <td>3</td>\n",
       "      <td>3</td>\n",
       "      <td>4</td>\n",
       "      <td>love the gyro plate. Rice is so good and I als...</td>\n",
       "      <td>1</td>\n",
       "      <td>0hT2KtfLiobPvh6cDC8JQg</td>\n",
       "      <td>76.0</td>\n",
       "    </tr>\n",
       "    <tr>\n",
       "      <th>3</th>\n",
       "      <td>3</td>\n",
       "      <td>Active Life; Dog Parks; Parks</td>\n",
       "      <td>Scottsdale</td>\n",
       "      <td>5401 N Hayden Rd\\nScottsdale, AZ 85250</td>\n",
       "      <td>_1QQZuf4zZOyFCvXc0o6Vg</td>\n",
       "      <td>33.522945</td>\n",
       "      <td>-111.907886</td>\n",
       "      <td>Chaparral Dog Park</td>\n",
       "      <td>True</td>\n",
       "      <td>88</td>\n",
       "      <td>...</td>\n",
       "      <td>36</td>\n",
       "      <td>18</td>\n",
       "      <td>lindsey</td>\n",
       "      <td>31</td>\n",
       "      <td>75</td>\n",
       "      <td>5</td>\n",
       "      <td>Rosie, Dakota, and I LOVE Chaparral Dog Park!!...</td>\n",
       "      <td>2</td>\n",
       "      <td>uZetl9T0NcROGOyFfughhg</td>\n",
       "      <td>419.0</td>\n",
       "    </tr>\n",
       "    <tr>\n",
       "      <th>4</th>\n",
       "      <td>4</td>\n",
       "      <td>Tires; Automotive</td>\n",
       "      <td>Mesa</td>\n",
       "      <td>1357 S Power Road\\nMesa, AZ 85206</td>\n",
       "      <td>6ozycU1RpktNG2-1BroVtw</td>\n",
       "      <td>33.391027</td>\n",
       "      <td>-111.684482</td>\n",
       "      <td>Discount Tire</td>\n",
       "      <td>True</td>\n",
       "      <td>5</td>\n",
       "      <td>...</td>\n",
       "      <td>8</td>\n",
       "      <td>3</td>\n",
       "      <td>Roger</td>\n",
       "      <td>28</td>\n",
       "      <td>32</td>\n",
       "      <td>5</td>\n",
       "      <td>General Manager Scott Petello is a good egg!!!...</td>\n",
       "      <td>0</td>\n",
       "      <td>vYmM4KTsC8ZfQBg-j5MWkw</td>\n",
       "      <td>469.0</td>\n",
       "    </tr>\n",
       "  </tbody>\n",
       "</table>\n",
       "<p>5 rows × 28 columns</p>\n",
       "</div>"
      ],
      "text/plain": [
       "   Unnamed: 0              business_categories business_city  \\\n",
       "0           0  Breakfast & Brunch; Restaurants       Phoenix   \n",
       "1           1      Italian; Pizza; Restaurants       Phoenix   \n",
       "2           2      Middle Eastern; Restaurants         Tempe   \n",
       "3           3    Active Life; Dog Parks; Parks    Scottsdale   \n",
       "4           4                Tires; Automotive          Mesa   \n",
       "\n",
       "                     business_full_address             business_id  \\\n",
       "0        6106 S 32nd St\\nPhoenix, AZ 85042  9yKzy9PApeiPPOUJEtnvkg   \n",
       "1  4848 E Chandler Blvd\\nPhoenix, AZ 85044  ZRJwVLyzEJq1VAihDhYiow   \n",
       "2     1513 E  Apache Blvd\\nTempe, AZ 85281  6oRAC4uyJCsJl1X0WZpVSA   \n",
       "3   5401 N Hayden Rd\\nScottsdale, AZ 85250  _1QQZuf4zZOyFCvXc0o6Vg   \n",
       "4        1357 S Power Road\\nMesa, AZ 85206  6ozycU1RpktNG2-1BroVtw   \n",
       "\n",
       "   business_latitude  business_longitude       business_name  business_open  \\\n",
       "0          33.390792         -112.012504  Morning Glory Cafe           True   \n",
       "1          33.305607         -111.978758  Spinato's Pizzeria           True   \n",
       "2          33.414345         -111.913031           Haji-Baba           True   \n",
       "3          33.522945         -111.907886  Chaparral Dog Park           True   \n",
       "4          33.391027         -111.684482       Discount Tire           True   \n",
       "\n",
       "   business_review_count  ...  reviewer_cool reviewer_funny  reviewer_name  \\\n",
       "0                    116  ...            322            331          Jason   \n",
       "1                    102  ...              0              2           Paul   \n",
       "2                    265  ...              0              0         Nicole   \n",
       "3                     88  ...             36             18        lindsey   \n",
       "4                      5  ...              8              3          Roger   \n",
       "\n",
       "  reviewer_review_count  reviewer_useful stars  \\\n",
       "0                   376             1034     5   \n",
       "1                     2                0     5   \n",
       "2                     3                3     4   \n",
       "3                    31               75     5   \n",
       "4                    28               32     5   \n",
       "\n",
       "                                                text  useful  \\\n",
       "0  My wife took me here on my birthday for breakf...       5   \n",
       "1  I have no idea why some people give bad review...       0   \n",
       "2  love the gyro plate. Rice is so good and I als...       1   \n",
       "3  Rosie, Dakota, and I LOVE Chaparral Dog Park!!...       2   \n",
       "4  General Manager Scott Petello is a good egg!!!...       0   \n",
       "\n",
       "                  user_id  review_length  \n",
       "0  rLtl8ZkDX5vH5nAx9C3q5Q          889.0  \n",
       "1  0a2KyEL0d3Yb1V6aivbIuQ         1345.0  \n",
       "2  0hT2KtfLiobPvh6cDC8JQg           76.0  \n",
       "3  uZetl9T0NcROGOyFfughhg          419.0  \n",
       "4  vYmM4KTsC8ZfQBg-j5MWkw          469.0  \n",
       "\n",
       "[5 rows x 28 columns]"
      ]
     },
     "execution_count": 90,
     "metadata": {},
     "output_type": "execute_result"
    }
   ],
   "source": [
    "#resetting the index\n",
    "review.reset_index(drop=True, inplace=True)\n",
    "review.head()"
   ]
  },
  {
   "cell_type": "markdown",
   "id": "9e507ff4",
   "metadata": {},
   "source": [
    "## User Dataset"
   ]
  },
  {
   "cell_type": "code",
   "execution_count": 91,
   "id": "8d53a0ff",
   "metadata": {},
   "outputs": [
    {
     "name": "stdout",
     "output_type": "stream",
     "text": [
      "Number of missing values:  0\n",
      "Percent of missing values per feature: \n"
     ]
    },
    {
     "data": {
      "text/plain": [
       "Unnamed: 0                0.0\n",
       "reviewer_average_stars    0.0\n",
       "reviewer_cool             0.0\n",
       "reviewer_funny            0.0\n",
       "reviewer_name             0.0\n",
       "reviewer_review_count     0.0\n",
       "reviewer_useful           0.0\n",
       "user_id                   0.0\n",
       "dtype: float64"
      ]
     },
     "execution_count": 91,
     "metadata": {},
     "output_type": "execute_result"
    }
   ],
   "source": [
    "#exploring the number of missing values per feature in percentage\n",
    "print('Number of missing values: ', user.isnull().values.sum())\n",
    "print('Percent of missing values per feature: ') \n",
    "user.isnull().sum() * 100 / len(user)"
   ]
  },
  {
   "cell_type": "code",
   "execution_count": 99,
   "id": "bb02a8b5",
   "metadata": {},
   "outputs": [
    {
     "name": "stdout",
     "output_type": "stream",
     "text": [
      "0\n"
     ]
    }
   ],
   "source": [
    "#checking for duplicate rows\n",
    "print(len(business) - len(business.drop_duplicates()))"
   ]
  },
  {
   "cell_type": "code",
   "execution_count": 100,
   "id": "5c67ea20",
   "metadata": {},
   "outputs": [
    {
     "data": {
      "text/plain": [
       "0"
      ]
     },
     "execution_count": 100,
     "metadata": {},
     "output_type": "execute_result"
    }
   ],
   "source": [
    "#checking for duplicate rows\n",
    "len(review) - len(review.drop_duplicates())"
   ]
  },
  {
   "cell_type": "code",
   "execution_count": 101,
   "id": "13aa4af6",
   "metadata": {},
   "outputs": [
    {
     "name": "stdout",
     "output_type": "stream",
     "text": [
      "0\n"
     ]
    }
   ],
   "source": [
    "#checking for duplicate rows\n",
    "print(len(user) - len(user.drop_duplicates()))"
   ]
  },
  {
   "cell_type": "markdown",
   "id": "fa1a79b5",
   "metadata": {},
   "source": [
    "There were no duplicate rows detected in the dataset"
   ]
  },
  {
   "cell_type": "markdown",
   "id": "cdb63198",
   "metadata": {},
   "source": [
    "## Removing unnecessary features\n",
    "### Business Dataset\n",
    "  -dropping unnecessary columns in the business dataset"
   ]
  },
  {
   "cell_type": "code",
   "execution_count": 105,
   "id": "7d9a51d9",
   "metadata": {},
   "outputs": [],
   "source": [
    "# business.drop(columns=['column_a', \n",
    "#                        'business_neighborhoods', \n",
    "#                        'business_location', \n",
    "#                        'business_type'], \n",
    "#               inplace=True)"
   ]
  },
  {
   "cell_type": "code",
   "execution_count": 106,
   "id": "689bd137",
   "metadata": {},
   "outputs": [
    {
     "data": {
      "text/html": [
       "<div>\n",
       "<style scoped>\n",
       "    .dataframe tbody tr th:only-of-type {\n",
       "        vertical-align: middle;\n",
       "    }\n",
       "\n",
       "    .dataframe tbody tr th {\n",
       "        vertical-align: top;\n",
       "    }\n",
       "\n",
       "    .dataframe thead th {\n",
       "        text-align: right;\n",
       "    }\n",
       "</style>\n",
       "<table border=\"1\" class=\"dataframe\">\n",
       "  <thead>\n",
       "    <tr style=\"text-align: right;\">\n",
       "      <th></th>\n",
       "      <th>Unnamed: 0</th>\n",
       "      <th>business_categories</th>\n",
       "      <th>business_city</th>\n",
       "      <th>business_full_address</th>\n",
       "      <th>business_id</th>\n",
       "      <th>business_latitude</th>\n",
       "      <th>business_longitude</th>\n",
       "      <th>business_name</th>\n",
       "      <th>business_open</th>\n",
       "      <th>business_review_count</th>\n",
       "      <th>business_stars</th>\n",
       "      <th>business_state</th>\n",
       "    </tr>\n",
       "  </thead>\n",
       "  <tbody>\n",
       "    <tr>\n",
       "      <th>0</th>\n",
       "      <td>0</td>\n",
       "      <td>Accountants; Professional Services; Tax Servic...</td>\n",
       "      <td>Peoria</td>\n",
       "      <td>8466 W Peoria Ave\\nSte 6\\nPeoria, AZ 85345</td>\n",
       "      <td>rncjoVoEFUJGCUoC1JgnUA</td>\n",
       "      <td>33.581867</td>\n",
       "      <td>-112.241596</td>\n",
       "      <td>Peoria Income Tax Service</td>\n",
       "      <td>True</td>\n",
       "      <td>3</td>\n",
       "      <td>5.0</td>\n",
       "      <td>AZ</td>\n",
       "    </tr>\n",
       "    <tr>\n",
       "      <th>1</th>\n",
       "      <td>1</td>\n",
       "      <td>Sporting Goods; Bikes; Shopping</td>\n",
       "      <td>Phoenix</td>\n",
       "      <td>2149 W Wood Dr\\nPhoenix, AZ 85029</td>\n",
       "      <td>0FNFSzCFP_rGUoJx8W7tJg</td>\n",
       "      <td>33.604054</td>\n",
       "      <td>-112.105933</td>\n",
       "      <td>Bike Doctor</td>\n",
       "      <td>True</td>\n",
       "      <td>5</td>\n",
       "      <td>5.0</td>\n",
       "      <td>AZ</td>\n",
       "    </tr>\n",
       "    <tr>\n",
       "      <th>2</th>\n",
       "      <td>2</td>\n",
       "      <td>Food; Grocery</td>\n",
       "      <td>Phoenix</td>\n",
       "      <td>845 W Southern Ave\\nPhoenix, AZ 85041</td>\n",
       "      <td>usAsSV36QmUej8--yvN-dg</td>\n",
       "      <td>33.392210</td>\n",
       "      <td>-112.085377</td>\n",
       "      <td>Food City</td>\n",
       "      <td>True</td>\n",
       "      <td>5</td>\n",
       "      <td>3.5</td>\n",
       "      <td>AZ</td>\n",
       "    </tr>\n",
       "    <tr>\n",
       "      <th>3</th>\n",
       "      <td>3</td>\n",
       "      <td>Food; Bagels; Delis; Restaurants</td>\n",
       "      <td>Glendale Az</td>\n",
       "      <td>6520 W Happy Valley Rd\\nSte 101\\nGlendale Az, ...</td>\n",
       "      <td>PzOqRohWw7F7YEPBz6AubA</td>\n",
       "      <td>33.712797</td>\n",
       "      <td>-112.200264</td>\n",
       "      <td>Hot Bagels &amp; Deli</td>\n",
       "      <td>True</td>\n",
       "      <td>14</td>\n",
       "      <td>3.5</td>\n",
       "      <td>AZ</td>\n",
       "    </tr>\n",
       "    <tr>\n",
       "      <th>4</th>\n",
       "      <td>4</td>\n",
       "      <td>Women's Clothing; Fashion; Shopping</td>\n",
       "      <td>Glendale</td>\n",
       "      <td>The Americana at Brand\\n869 Americana Way\\nGle...</td>\n",
       "      <td>gtQzAiy7D-dPU8WzT3jX3Q</td>\n",
       "      <td>33.607766</td>\n",
       "      <td>-112.481632</td>\n",
       "      <td>Barney's New York Co-op</td>\n",
       "      <td>True</td>\n",
       "      <td>6</td>\n",
       "      <td>4.5</td>\n",
       "      <td>CA</td>\n",
       "    </tr>\n",
       "  </tbody>\n",
       "</table>\n",
       "</div>"
      ],
      "text/plain": [
       "   Unnamed: 0                                business_categories  \\\n",
       "0           0  Accountants; Professional Services; Tax Servic...   \n",
       "1           1                    Sporting Goods; Bikes; Shopping   \n",
       "2           2                                      Food; Grocery   \n",
       "3           3                   Food; Bagels; Delis; Restaurants   \n",
       "4           4                Women's Clothing; Fashion; Shopping   \n",
       "\n",
       "  business_city                              business_full_address  \\\n",
       "0        Peoria         8466 W Peoria Ave\\nSte 6\\nPeoria, AZ 85345   \n",
       "1       Phoenix                  2149 W Wood Dr\\nPhoenix, AZ 85029   \n",
       "2       Phoenix              845 W Southern Ave\\nPhoenix, AZ 85041   \n",
       "3   Glendale Az  6520 W Happy Valley Rd\\nSte 101\\nGlendale Az, ...   \n",
       "4      Glendale  The Americana at Brand\\n869 Americana Way\\nGle...   \n",
       "\n",
       "              business_id  business_latitude  business_longitude  \\\n",
       "0  rncjoVoEFUJGCUoC1JgnUA          33.581867         -112.241596   \n",
       "1  0FNFSzCFP_rGUoJx8W7tJg          33.604054         -112.105933   \n",
       "2  usAsSV36QmUej8--yvN-dg          33.392210         -112.085377   \n",
       "3  PzOqRohWw7F7YEPBz6AubA          33.712797         -112.200264   \n",
       "4  gtQzAiy7D-dPU8WzT3jX3Q          33.607766         -112.481632   \n",
       "\n",
       "               business_name  business_open  business_review_count  \\\n",
       "0  Peoria Income Tax Service           True                      3   \n",
       "1                Bike Doctor           True                      5   \n",
       "2                  Food City           True                      5   \n",
       "3          Hot Bagels & Deli           True                     14   \n",
       "4    Barney's New York Co-op           True                      6   \n",
       "\n",
       "   business_stars business_state  \n",
       "0             5.0             AZ  \n",
       "1             5.0             AZ  \n",
       "2             3.5             AZ  \n",
       "3             3.5             AZ  \n",
       "4             4.5             CA  "
      ]
     },
     "execution_count": 106,
     "metadata": {},
     "output_type": "execute_result"
    }
   ],
   "source": [
    "#resetting the index\n",
    "business.reset_index(drop=True, inplace=True)\n",
    "business.head()"
   ]
  },
  {
   "cell_type": "code",
   "execution_count": 107,
   "id": "a665b897",
   "metadata": {},
   "outputs": [
    {
     "name": "stdout",
     "output_type": "stream",
     "text": [
      "Number of missing values:  0\n",
      "Data lenght:  11360\n"
     ]
    }
   ],
   "source": [
    "print('Number of missing values: ', business.isnull().values.sum())\n",
    "print('Data lenght: ', len(business))"
   ]
  },
  {
   "cell_type": "markdown",
   "id": "4634b4cc",
   "metadata": {},
   "source": [
    "## Review Dataset"
   ]
  },
  {
   "cell_type": "code",
   "execution_count": 111,
   "id": "61d0c8d5",
   "metadata": {},
   "outputs": [],
   "source": [
    "\n",
    "#dropping unnecessary columns in the review dataset\n",
    "\n",
    "# review.drop(columns=['column_a', \n",
    "#                      'business_blank', \n",
    "#                      'business_neighborhoods',\n",
    "#                      'business_type',\n",
    "#                      'reviewer_type', \n",
    "#                      'type', \n",
    "#                      'business_location'], \n",
    "#             inplace=True)"
   ]
  },
  {
   "cell_type": "code",
   "execution_count": 112,
   "id": "3ca538a4",
   "metadata": {},
   "outputs": [
    {
     "data": {
      "text/html": [
       "<div>\n",
       "<style scoped>\n",
       "    .dataframe tbody tr th:only-of-type {\n",
       "        vertical-align: middle;\n",
       "    }\n",
       "\n",
       "    .dataframe tbody tr th {\n",
       "        vertical-align: top;\n",
       "    }\n",
       "\n",
       "    .dataframe thead th {\n",
       "        text-align: right;\n",
       "    }\n",
       "</style>\n",
       "<table border=\"1\" class=\"dataframe\">\n",
       "  <thead>\n",
       "    <tr style=\"text-align: right;\">\n",
       "      <th></th>\n",
       "      <th>Unnamed: 0</th>\n",
       "      <th>business_categories</th>\n",
       "      <th>business_city</th>\n",
       "      <th>business_full_address</th>\n",
       "      <th>business_id</th>\n",
       "      <th>business_latitude</th>\n",
       "      <th>business_longitude</th>\n",
       "      <th>business_name</th>\n",
       "      <th>business_open</th>\n",
       "      <th>business_review_count</th>\n",
       "      <th>...</th>\n",
       "      <th>reviewer_cool</th>\n",
       "      <th>reviewer_funny</th>\n",
       "      <th>reviewer_name</th>\n",
       "      <th>reviewer_review_count</th>\n",
       "      <th>reviewer_useful</th>\n",
       "      <th>stars</th>\n",
       "      <th>text</th>\n",
       "      <th>useful</th>\n",
       "      <th>user_id</th>\n",
       "      <th>review_length</th>\n",
       "    </tr>\n",
       "  </thead>\n",
       "  <tbody>\n",
       "    <tr>\n",
       "      <th>0</th>\n",
       "      <td>0</td>\n",
       "      <td>Breakfast &amp; Brunch; Restaurants</td>\n",
       "      <td>Phoenix</td>\n",
       "      <td>6106 S 32nd St\\nPhoenix, AZ 85042</td>\n",
       "      <td>9yKzy9PApeiPPOUJEtnvkg</td>\n",
       "      <td>33.390792</td>\n",
       "      <td>-112.012504</td>\n",
       "      <td>Morning Glory Cafe</td>\n",
       "      <td>True</td>\n",
       "      <td>116</td>\n",
       "      <td>...</td>\n",
       "      <td>322</td>\n",
       "      <td>331</td>\n",
       "      <td>Jason</td>\n",
       "      <td>376</td>\n",
       "      <td>1034</td>\n",
       "      <td>5</td>\n",
       "      <td>My wife took me here on my birthday for breakf...</td>\n",
       "      <td>5</td>\n",
       "      <td>rLtl8ZkDX5vH5nAx9C3q5Q</td>\n",
       "      <td>889.0</td>\n",
       "    </tr>\n",
       "    <tr>\n",
       "      <th>1</th>\n",
       "      <td>1</td>\n",
       "      <td>Italian; Pizza; Restaurants</td>\n",
       "      <td>Phoenix</td>\n",
       "      <td>4848 E Chandler Blvd\\nPhoenix, AZ 85044</td>\n",
       "      <td>ZRJwVLyzEJq1VAihDhYiow</td>\n",
       "      <td>33.305607</td>\n",
       "      <td>-111.978758</td>\n",
       "      <td>Spinato's Pizzeria</td>\n",
       "      <td>True</td>\n",
       "      <td>102</td>\n",
       "      <td>...</td>\n",
       "      <td>0</td>\n",
       "      <td>2</td>\n",
       "      <td>Paul</td>\n",
       "      <td>2</td>\n",
       "      <td>0</td>\n",
       "      <td>5</td>\n",
       "      <td>I have no idea why some people give bad review...</td>\n",
       "      <td>0</td>\n",
       "      <td>0a2KyEL0d3Yb1V6aivbIuQ</td>\n",
       "      <td>1345.0</td>\n",
       "    </tr>\n",
       "    <tr>\n",
       "      <th>2</th>\n",
       "      <td>2</td>\n",
       "      <td>Middle Eastern; Restaurants</td>\n",
       "      <td>Tempe</td>\n",
       "      <td>1513 E  Apache Blvd\\nTempe, AZ 85281</td>\n",
       "      <td>6oRAC4uyJCsJl1X0WZpVSA</td>\n",
       "      <td>33.414345</td>\n",
       "      <td>-111.913031</td>\n",
       "      <td>Haji-Baba</td>\n",
       "      <td>True</td>\n",
       "      <td>265</td>\n",
       "      <td>...</td>\n",
       "      <td>0</td>\n",
       "      <td>0</td>\n",
       "      <td>Nicole</td>\n",
       "      <td>3</td>\n",
       "      <td>3</td>\n",
       "      <td>4</td>\n",
       "      <td>love the gyro plate. Rice is so good and I als...</td>\n",
       "      <td>1</td>\n",
       "      <td>0hT2KtfLiobPvh6cDC8JQg</td>\n",
       "      <td>76.0</td>\n",
       "    </tr>\n",
       "    <tr>\n",
       "      <th>3</th>\n",
       "      <td>3</td>\n",
       "      <td>Active Life; Dog Parks; Parks</td>\n",
       "      <td>Scottsdale</td>\n",
       "      <td>5401 N Hayden Rd\\nScottsdale, AZ 85250</td>\n",
       "      <td>_1QQZuf4zZOyFCvXc0o6Vg</td>\n",
       "      <td>33.522945</td>\n",
       "      <td>-111.907886</td>\n",
       "      <td>Chaparral Dog Park</td>\n",
       "      <td>True</td>\n",
       "      <td>88</td>\n",
       "      <td>...</td>\n",
       "      <td>36</td>\n",
       "      <td>18</td>\n",
       "      <td>lindsey</td>\n",
       "      <td>31</td>\n",
       "      <td>75</td>\n",
       "      <td>5</td>\n",
       "      <td>Rosie, Dakota, and I LOVE Chaparral Dog Park!!...</td>\n",
       "      <td>2</td>\n",
       "      <td>uZetl9T0NcROGOyFfughhg</td>\n",
       "      <td>419.0</td>\n",
       "    </tr>\n",
       "    <tr>\n",
       "      <th>4</th>\n",
       "      <td>4</td>\n",
       "      <td>Tires; Automotive</td>\n",
       "      <td>Mesa</td>\n",
       "      <td>1357 S Power Road\\nMesa, AZ 85206</td>\n",
       "      <td>6ozycU1RpktNG2-1BroVtw</td>\n",
       "      <td>33.391027</td>\n",
       "      <td>-111.684482</td>\n",
       "      <td>Discount Tire</td>\n",
       "      <td>True</td>\n",
       "      <td>5</td>\n",
       "      <td>...</td>\n",
       "      <td>8</td>\n",
       "      <td>3</td>\n",
       "      <td>Roger</td>\n",
       "      <td>28</td>\n",
       "      <td>32</td>\n",
       "      <td>5</td>\n",
       "      <td>General Manager Scott Petello is a good egg!!!...</td>\n",
       "      <td>0</td>\n",
       "      <td>vYmM4KTsC8ZfQBg-j5MWkw</td>\n",
       "      <td>469.0</td>\n",
       "    </tr>\n",
       "  </tbody>\n",
       "</table>\n",
       "<p>5 rows × 28 columns</p>\n",
       "</div>"
      ],
      "text/plain": [
       "   Unnamed: 0              business_categories business_city  \\\n",
       "0           0  Breakfast & Brunch; Restaurants       Phoenix   \n",
       "1           1      Italian; Pizza; Restaurants       Phoenix   \n",
       "2           2      Middle Eastern; Restaurants         Tempe   \n",
       "3           3    Active Life; Dog Parks; Parks    Scottsdale   \n",
       "4           4                Tires; Automotive          Mesa   \n",
       "\n",
       "                     business_full_address             business_id  \\\n",
       "0        6106 S 32nd St\\nPhoenix, AZ 85042  9yKzy9PApeiPPOUJEtnvkg   \n",
       "1  4848 E Chandler Blvd\\nPhoenix, AZ 85044  ZRJwVLyzEJq1VAihDhYiow   \n",
       "2     1513 E  Apache Blvd\\nTempe, AZ 85281  6oRAC4uyJCsJl1X0WZpVSA   \n",
       "3   5401 N Hayden Rd\\nScottsdale, AZ 85250  _1QQZuf4zZOyFCvXc0o6Vg   \n",
       "4        1357 S Power Road\\nMesa, AZ 85206  6ozycU1RpktNG2-1BroVtw   \n",
       "\n",
       "   business_latitude  business_longitude       business_name  business_open  \\\n",
       "0          33.390792         -112.012504  Morning Glory Cafe           True   \n",
       "1          33.305607         -111.978758  Spinato's Pizzeria           True   \n",
       "2          33.414345         -111.913031           Haji-Baba           True   \n",
       "3          33.522945         -111.907886  Chaparral Dog Park           True   \n",
       "4          33.391027         -111.684482       Discount Tire           True   \n",
       "\n",
       "   business_review_count  ...  reviewer_cool reviewer_funny  reviewer_name  \\\n",
       "0                    116  ...            322            331          Jason   \n",
       "1                    102  ...              0              2           Paul   \n",
       "2                    265  ...              0              0         Nicole   \n",
       "3                     88  ...             36             18        lindsey   \n",
       "4                      5  ...              8              3          Roger   \n",
       "\n",
       "  reviewer_review_count  reviewer_useful stars  \\\n",
       "0                   376             1034     5   \n",
       "1                     2                0     5   \n",
       "2                     3                3     4   \n",
       "3                    31               75     5   \n",
       "4                    28               32     5   \n",
       "\n",
       "                                                text  useful  \\\n",
       "0  My wife took me here on my birthday for breakf...       5   \n",
       "1  I have no idea why some people give bad review...       0   \n",
       "2  love the gyro plate. Rice is so good and I als...       1   \n",
       "3  Rosie, Dakota, and I LOVE Chaparral Dog Park!!...       2   \n",
       "4  General Manager Scott Petello is a good egg!!!...       0   \n",
       "\n",
       "                  user_id  review_length  \n",
       "0  rLtl8ZkDX5vH5nAx9C3q5Q          889.0  \n",
       "1  0a2KyEL0d3Yb1V6aivbIuQ         1345.0  \n",
       "2  0hT2KtfLiobPvh6cDC8JQg           76.0  \n",
       "3  uZetl9T0NcROGOyFfughhg          419.0  \n",
       "4  vYmM4KTsC8ZfQBg-j5MWkw          469.0  \n",
       "\n",
       "[5 rows x 28 columns]"
      ]
     },
     "execution_count": 112,
     "metadata": {},
     "output_type": "execute_result"
    }
   ],
   "source": [
    "#resetting the index in the review dataset\n",
    "review.reset_index(drop=True, inplace=True)\n",
    "review.head()"
   ]
  },
  {
   "cell_type": "code",
   "execution_count": 113,
   "id": "34bb750d",
   "metadata": {},
   "outputs": [
    {
     "name": "stdout",
     "output_type": "stream",
     "text": [
      "Number of missing values:  13972\n",
      "Data lenght:  229130\n"
     ]
    }
   ],
   "source": [
    "print('Number of missing values: ', review.isnull().values.sum())\n",
    "print('Data lenght: ', len(review))"
   ]
  },
  {
   "cell_type": "markdown",
   "id": "cb5eceb1",
   "metadata": {},
   "source": [
    "## User Dataset"
   ]
  },
  {
   "cell_type": "code",
   "execution_count": 115,
   "id": "66705d67",
   "metadata": {},
   "outputs": [
    {
     "data": {
      "text/html": [
       "<div>\n",
       "<style scoped>\n",
       "    .dataframe tbody tr th:only-of-type {\n",
       "        vertical-align: middle;\n",
       "    }\n",
       "\n",
       "    .dataframe tbody tr th {\n",
       "        vertical-align: top;\n",
       "    }\n",
       "\n",
       "    .dataframe thead th {\n",
       "        text-align: right;\n",
       "    }\n",
       "</style>\n",
       "<table border=\"1\" class=\"dataframe\">\n",
       "  <thead>\n",
       "    <tr style=\"text-align: right;\">\n",
       "      <th></th>\n",
       "      <th>Unnamed: 0</th>\n",
       "      <th>reviewer_average_stars</th>\n",
       "      <th>reviewer_cool</th>\n",
       "      <th>reviewer_funny</th>\n",
       "      <th>reviewer_name</th>\n",
       "      <th>reviewer_review_count</th>\n",
       "      <th>reviewer_useful</th>\n",
       "      <th>user_id</th>\n",
       "    </tr>\n",
       "  </thead>\n",
       "  <tbody>\n",
       "    <tr>\n",
       "      <th>0</th>\n",
       "      <td>0</td>\n",
       "      <td>5.0</td>\n",
       "      <td>0</td>\n",
       "      <td>0</td>\n",
       "      <td>Jim</td>\n",
       "      <td>6</td>\n",
       "      <td>7</td>\n",
       "      <td>CR2y7yEm4X035ZMzrTtN9Q</td>\n",
       "    </tr>\n",
       "    <tr>\n",
       "      <th>1</th>\n",
       "      <td>1</td>\n",
       "      <td>1.0</td>\n",
       "      <td>0</td>\n",
       "      <td>0</td>\n",
       "      <td>Kelle</td>\n",
       "      <td>2</td>\n",
       "      <td>1</td>\n",
       "      <td>_9GXoHhdxc30ujPaQwh6Ew</td>\n",
       "    </tr>\n",
       "    <tr>\n",
       "      <th>2</th>\n",
       "      <td>2</td>\n",
       "      <td>5.0</td>\n",
       "      <td>0</td>\n",
       "      <td>0</td>\n",
       "      <td>Stephanie</td>\n",
       "      <td>2</td>\n",
       "      <td>1</td>\n",
       "      <td>8mM-nqxjg6pT04kwcjMbsw</td>\n",
       "    </tr>\n",
       "    <tr>\n",
       "      <th>3</th>\n",
       "      <td>3</td>\n",
       "      <td>5.0</td>\n",
       "      <td>0</td>\n",
       "      <td>0</td>\n",
       "      <td>T</td>\n",
       "      <td>2</td>\n",
       "      <td>2</td>\n",
       "      <td>Ch6CdTR2IVaVANr-RglMOg</td>\n",
       "    </tr>\n",
       "    <tr>\n",
       "      <th>4</th>\n",
       "      <td>4</td>\n",
       "      <td>1.0</td>\n",
       "      <td>0</td>\n",
       "      <td>0</td>\n",
       "      <td>Beth</td>\n",
       "      <td>1</td>\n",
       "      <td>0</td>\n",
       "      <td>NZrLmHRyiHmyT1JrfzkCOA</td>\n",
       "    </tr>\n",
       "  </tbody>\n",
       "</table>\n",
       "</div>"
      ],
      "text/plain": [
       "   Unnamed: 0  reviewer_average_stars  reviewer_cool  reviewer_funny  \\\n",
       "0           0                     5.0              0               0   \n",
       "1           1                     1.0              0               0   \n",
       "2           2                     5.0              0               0   \n",
       "3           3                     5.0              0               0   \n",
       "4           4                     1.0              0               0   \n",
       "\n",
       "  reviewer_name  reviewer_review_count  reviewer_useful  \\\n",
       "0           Jim                      6                7   \n",
       "1         Kelle                      2                1   \n",
       "2     Stephanie                      2                1   \n",
       "3             T                      2                2   \n",
       "4          Beth                      1                0   \n",
       "\n",
       "                  user_id  \n",
       "0  CR2y7yEm4X035ZMzrTtN9Q  \n",
       "1  _9GXoHhdxc30ujPaQwh6Ew  \n",
       "2  8mM-nqxjg6pT04kwcjMbsw  \n",
       "3  Ch6CdTR2IVaVANr-RglMOg  \n",
       "4  NZrLmHRyiHmyT1JrfzkCOA  "
      ]
     },
     "execution_count": 115,
     "metadata": {},
     "output_type": "execute_result"
    }
   ],
   "source": [
    "#dropping unnecessary columns in the user dataset\n",
    "# user.drop(columns=['column_a', 'reviewer_type'], inplace=True)\n",
    "\n",
    "#resetting the index in the user dataset\n",
    "user.reset_index(drop=True, inplace=True)\n",
    "user.head()"
   ]
  },
  {
   "cell_type": "code",
   "execution_count": 116,
   "id": "f2aa01c8",
   "metadata": {},
   "outputs": [
    {
     "name": "stdout",
     "output_type": "stream",
     "text": [
      "Number of missing values are:  0\n",
      "Data lenght:  43873\n"
     ]
    }
   ],
   "source": [
    "print('Number of missing values are: ', user.isnull().values.sum())\n",
    "print('Data lenght: ', len(user))"
   ]
  },
  {
   "cell_type": "markdown",
   "id": "3950e9e6",
   "metadata": {},
   "source": [
    "## Updating the data for further analysis"
   ]
  },
  {
   "cell_type": "code",
   "execution_count": 119,
   "id": "08cb3bdb",
   "metadata": {},
   "outputs": [],
   "source": [
    "# Set the base path\n",
    "base_path = 'C:/Users/besid/OneDrive/Desktop/on campus internship/machine learning/yelpproject/data/'\n",
    "\n",
    "# Business dataset\n",
    "business.to_csv(base_path + 'business_prepared.csv', index=False)\n",
    "\n",
    "# Review dataset\n",
    "review.to_csv(base_path + 'review_prepared.csv', index=False)\n",
    "\n",
    "# User dataset\n",
    "user.to_csv(base_path + 'user_prepared.csv', index=False)"
   ]
  },
  {
   "cell_type": "code",
   "execution_count": null,
   "id": "d06b4280",
   "metadata": {},
   "outputs": [],
   "source": []
  }
 ],
 "metadata": {
  "kernelspec": {
   "display_name": "Python 3 (ipykernel)",
   "language": "python",
   "name": "python3"
  },
  "language_info": {
   "codemirror_mode": {
    "name": "ipython",
    "version": 3
   },
   "file_extension": ".py",
   "mimetype": "text/x-python",
   "name": "python",
   "nbconvert_exporter": "python",
   "pygments_lexer": "ipython3",
   "version": "3.11.5"
  },
  "varInspector": {
   "cols": {
    "lenName": 16,
    "lenType": 16,
    "lenVar": 40
   },
   "kernels_config": {
    "python": {
     "delete_cmd_postfix": "",
     "delete_cmd_prefix": "del ",
     "library": "var_list.py",
     "varRefreshCmd": "print(var_dic_list())"
    },
    "r": {
     "delete_cmd_postfix": ") ",
     "delete_cmd_prefix": "rm(",
     "library": "var_list.r",
     "varRefreshCmd": "cat(var_dic_list()) "
    }
   },
   "types_to_exclude": [
    "module",
    "function",
    "builtin_function_or_method",
    "instance",
    "_Feature"
   ],
   "window_display": false
  }
 },
 "nbformat": 4,
 "nbformat_minor": 5
}
