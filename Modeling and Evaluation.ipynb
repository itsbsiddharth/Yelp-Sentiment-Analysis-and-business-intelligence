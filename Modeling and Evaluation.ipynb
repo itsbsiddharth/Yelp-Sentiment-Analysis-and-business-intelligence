{
 "cells": [
  {
   "cell_type": "markdown",
   "metadata": {},
   "source": [
    "# Modeling and Evaluation of Sentiment Prediction\n",
    "\n",
    "This stage of the project includes preparing text for machine learning algorithms, splitting the dataset into train and test set, and then performing predictions and evaluations using different classifiers. Best models will be then tested again.\n",
    "\n",
    "Contents of this notebook:\n",
    "\n",
    "<ul>\n",
    "    <li>1. Imports</li>\n",
    "    <li>2. Data</li>\n",
    "    <li>3. Preparing Text</li>\n",
    "        <ul>\n",
    "            <li>3.1 Removing Missing values</li>\n",
    "            <li>3.2 Creating three categories of labels from ratings</li>\n",
    "            <li>3.3 Train/Test Split</li>\n",
    "            <li>3.4 Vectorizing the text</li>\n",
    "            <li>problem faced and how i solved it<li>\n",
    "         <ul>\n",
    "    <li>4. Classification</li>\n",
    "        <ul>\n",
    "            <li>4.1 Further splitting data into a train and validation set</li>\n",
    "            <li>4.2 Logistic Regression</li>\n",
    "            <li>4.3 Multinomial Naive Bayes</li>\n",
    "            <li>4.4 Random Forest</li>\n",
    "            <li>4.5 Decision Tree</li>\n",
    "            <li>4.6 K Neighbors</li>\n",
    "            <li>4.7 AdaBoost</li>\n",
    "            <li>4.8 XGBoost</li>\n",
    "        </ul>\n",
    "    <li>5. Evaluation</li>\n",
    "        <ul>\n",
    "            <li>5.1 Comparing scores from all models</li>\n",
    "            <li>5.2 Fitting the best model with test data</li>\n",
    "            <li>5.3 Additional model metrics and tuning</li>\n",
    "        </ul>\n",
    "</ul>"
   ]
  },
  {
   "cell_type": "markdown",
   "metadata": {},
   "source": [
    "# 1. Imports"
   ]
  },
  {
   "cell_type": "code",
   "execution_count": 1,
   "metadata": {
    "execution": {
     "iopub.execute_input": "2022-09-20T05:24:32.001342Z",
     "iopub.status.busy": "2022-09-20T05:24:32.000870Z",
     "iopub.status.idle": "2022-09-20T05:24:34.181186Z",
     "shell.execute_reply": "2022-09-20T05:24:34.179957Z",
     "shell.execute_reply.started": "2022-09-20T05:24:32.001238Z"
    }
   },
   "outputs": [
    {
     "name": "stdout",
     "output_type": "stream",
     "text": [
      "Requirement already satisfied: xgboost in c:\\users\\besid\\anaconda3\\lib\\site-packages (2.1.0)\n",
      "Requirement already satisfied: numpy in c:\\users\\besid\\anaconda3\\lib\\site-packages (from xgboost) (1.24.3)\n",
      "Requirement already satisfied: scipy in c:\\users\\besid\\anaconda3\\lib\\site-packages (from xgboost) (1.11.1)\n",
      "Requirement already satisfied: yellowbrick in c:\\users\\besid\\anaconda3\\lib\\site-packages (1.5)\n",
      "Requirement already satisfied: matplotlib!=3.0.0,>=2.0.2 in c:\\users\\besid\\anaconda3\\lib\\site-packages (from yellowbrick) (3.7.2)\n",
      "Requirement already satisfied: scipy>=1.0.0 in c:\\users\\besid\\anaconda3\\lib\\site-packages (from yellowbrick) (1.11.1)\n",
      "Requirement already satisfied: scikit-learn>=1.0.0 in c:\\users\\besid\\anaconda3\\lib\\site-packages (from yellowbrick) (1.3.0)\n",
      "Requirement already satisfied: numpy>=1.16.0 in c:\\users\\besid\\anaconda3\\lib\\site-packages (from yellowbrick) (1.24.3)\n",
      "Requirement already satisfied: cycler>=0.10.0 in c:\\users\\besid\\anaconda3\\lib\\site-packages (from yellowbrick) (0.11.0)\n",
      "Requirement already satisfied: contourpy>=1.0.1 in c:\\users\\besid\\anaconda3\\lib\\site-packages (from matplotlib!=3.0.0,>=2.0.2->yellowbrick) (1.0.5)\n",
      "Requirement already satisfied: fonttools>=4.22.0 in c:\\users\\besid\\anaconda3\\lib\\site-packages (from matplotlib!=3.0.0,>=2.0.2->yellowbrick) (4.25.0)\n",
      "Requirement already satisfied: kiwisolver>=1.0.1 in c:\\users\\besid\\anaconda3\\lib\\site-packages (from matplotlib!=3.0.0,>=2.0.2->yellowbrick) (1.4.4)\n",
      "Requirement already satisfied: packaging>=20.0 in c:\\users\\besid\\anaconda3\\lib\\site-packages (from matplotlib!=3.0.0,>=2.0.2->yellowbrick) (23.1)\n",
      "Requirement already satisfied: pillow>=6.2.0 in c:\\users\\besid\\anaconda3\\lib\\site-packages (from matplotlib!=3.0.0,>=2.0.2->yellowbrick) (9.4.0)\n",
      "Requirement already satisfied: pyparsing<3.1,>=2.3.1 in c:\\users\\besid\\anaconda3\\lib\\site-packages (from matplotlib!=3.0.0,>=2.0.2->yellowbrick) (3.0.9)\n",
      "Requirement already satisfied: python-dateutil>=2.7 in c:\\users\\besid\\anaconda3\\lib\\site-packages (from matplotlib!=3.0.0,>=2.0.2->yellowbrick) (2.8.2)\n",
      "Requirement already satisfied: joblib>=1.1.1 in c:\\users\\besid\\anaconda3\\lib\\site-packages (from scikit-learn>=1.0.0->yellowbrick) (1.2.0)\n",
      "Requirement already satisfied: threadpoolctl>=2.0.0 in c:\\users\\besid\\anaconda3\\lib\\site-packages (from scikit-learn>=1.0.0->yellowbrick) (2.2.0)\n",
      "Requirement already satisfied: six>=1.5 in c:\\users\\besid\\anaconda3\\lib\\site-packages (from python-dateutil>=2.7->matplotlib!=3.0.0,>=2.0.2->yellowbrick) (1.16.0)\n"
     ]
    }
   ],
   "source": [
    "#basic libraries for linear algebra and data processing\n",
    "import numpy as np\n",
    "import pandas as pd\n",
    "\n",
    "#visualization\n",
    "import matplotlib.pyplot as plt\n",
    "import seaborn as sns\n",
    "\n",
    "!pip install xgboost\n",
    "!pip install yellowbrick\n",
    "#data preparation tools\n",
    "from sklearn.model_selection import train_test_split, StratifiedKFold\n",
    "from sklearn.feature_extraction.text import TfidfVectorizer\n",
    "from sklearn.preprocessing import StandardScaler\n",
    "import nltk\n",
    "from nltk.corpus import stopwords\n",
    "\n",
    "import pickle\n",
    "\n",
    "#classification class\n",
    "from Classification_py import Classification\n",
    "\n",
    "#time and warnings\n",
    "import time\n",
    "import warnings\n",
    "\n",
    "#settings\n",
    "warnings.filterwarnings(\"ignore\")\n",
    "%matplotlib inline\n",
    "sns.set_context('poster', font_scale=0.5)"
   ]
  },
  {
   "cell_type": "markdown",
   "metadata": {},
   "source": [
    "# 2. Data"
   ]
  },
  {
   "cell_type": "code",
   "execution_count": 2,
   "metadata": {
    "execution": {
     "iopub.execute_input": "2022-09-20T05:24:34.183564Z",
     "iopub.status.busy": "2022-09-20T05:24:34.183209Z",
     "iopub.status.idle": "2022-09-20T05:24:40.576374Z",
     "shell.execute_reply": "2022-09-20T05:24:40.575231Z",
     "shell.execute_reply.started": "2022-09-20T05:24:34.183533Z"
    }
   },
   "outputs": [],
   "source": [
    "#loading the review dataset\n",
    "file_path = r\"C:\\Users\\besid\\OneDrive\\Desktop\\on campus internship\\machine learning\\yelpproject\\data\\review_prepared.csv\"\n",
    "review = pd.read_csv(file_path)"
   ]
  },
  {
   "cell_type": "code",
   "execution_count": 3,
   "metadata": {
    "execution": {
     "iopub.execute_input": "2022-09-20T05:24:40.578191Z",
     "iopub.status.busy": "2022-09-20T05:24:40.577806Z",
     "iopub.status.idle": "2022-09-20T05:24:40.620022Z",
     "shell.execute_reply": "2022-09-20T05:24:40.619008Z",
     "shell.execute_reply.started": "2022-09-20T05:24:40.578152Z"
    }
   },
   "outputs": [],
   "source": [
    "#filtering out the stars and text columns\n",
    "reviews = review[['text', 'stars']].reset_index().drop(columns='index')"
   ]
  },
  {
   "cell_type": "code",
   "execution_count": 4,
   "metadata": {
    "execution": {
     "iopub.execute_input": "2022-09-20T05:24:40.622967Z",
     "iopub.status.busy": "2022-09-20T05:24:40.622596Z",
     "iopub.status.idle": "2022-09-20T05:24:40.640766Z",
     "shell.execute_reply": "2022-09-20T05:24:40.639598Z",
     "shell.execute_reply.started": "2022-09-20T05:24:40.622934Z"
    }
   },
   "outputs": [
    {
     "name": "stdout",
     "output_type": "stream",
     "text": [
      "(229130, 2)\n"
     ]
    },
    {
     "data": {
      "text/html": [
       "<div>\n",
       "<style scoped>\n",
       "    .dataframe tbody tr th:only-of-type {\n",
       "        vertical-align: middle;\n",
       "    }\n",
       "\n",
       "    .dataframe tbody tr th {\n",
       "        vertical-align: top;\n",
       "    }\n",
       "\n",
       "    .dataframe thead th {\n",
       "        text-align: right;\n",
       "    }\n",
       "</style>\n",
       "<table border=\"1\" class=\"dataframe\">\n",
       "  <thead>\n",
       "    <tr style=\"text-align: right;\">\n",
       "      <th></th>\n",
       "      <th>text</th>\n",
       "      <th>stars</th>\n",
       "    </tr>\n",
       "  </thead>\n",
       "  <tbody>\n",
       "    <tr>\n",
       "      <th>0</th>\n",
       "      <td>My wife took me here on my birthday for breakf...</td>\n",
       "      <td>5</td>\n",
       "    </tr>\n",
       "    <tr>\n",
       "      <th>1</th>\n",
       "      <td>I have no idea why some people give bad review...</td>\n",
       "      <td>5</td>\n",
       "    </tr>\n",
       "    <tr>\n",
       "      <th>2</th>\n",
       "      <td>love the gyro plate. Rice is so good and I als...</td>\n",
       "      <td>4</td>\n",
       "    </tr>\n",
       "    <tr>\n",
       "      <th>3</th>\n",
       "      <td>Rosie, Dakota, and I LOVE Chaparral Dog Park!!...</td>\n",
       "      <td>5</td>\n",
       "    </tr>\n",
       "    <tr>\n",
       "      <th>4</th>\n",
       "      <td>General Manager Scott Petello is a good egg!!!...</td>\n",
       "      <td>5</td>\n",
       "    </tr>\n",
       "  </tbody>\n",
       "</table>\n",
       "</div>"
      ],
      "text/plain": [
       "                                                text  stars\n",
       "0  My wife took me here on my birthday for breakf...      5\n",
       "1  I have no idea why some people give bad review...      5\n",
       "2  love the gyro plate. Rice is so good and I als...      4\n",
       "3  Rosie, Dakota, and I LOVE Chaparral Dog Park!!...      5\n",
       "4  General Manager Scott Petello is a good egg!!!...      5"
      ]
     },
     "execution_count": 4,
     "metadata": {},
     "output_type": "execute_result"
    }
   ],
   "source": [
    "print(reviews.shape)\n",
    "reviews.head()"
   ]
  },
  {
   "cell_type": "markdown",
   "metadata": {},
   "source": [
    "# 3. Preparing Text"
   ]
  },
  {
   "cell_type": "markdown",
   "metadata": {},
   "source": [
    "## 3.1 Removing Missing values\n",
    "\n",
    "Checking if there are missing values I didn't catch the first time"
   ]
  },
  {
   "cell_type": "code",
   "execution_count": 5,
   "metadata": {
    "execution": {
     "iopub.execute_input": "2022-09-20T05:24:40.642391Z",
     "iopub.status.busy": "2022-09-20T05:24:40.642047Z",
     "iopub.status.idle": "2022-09-20T05:24:40.681324Z",
     "shell.execute_reply": "2022-09-20T05:24:40.680070Z",
     "shell.execute_reply.started": "2022-09-20T05:24:40.642362Z"
    }
   },
   "outputs": [
    {
     "data": {
      "text/plain": [
       "text     6\n",
       "stars    0\n",
       "dtype: int64"
      ]
     },
     "execution_count": 5,
     "metadata": {},
     "output_type": "execute_result"
    }
   ],
   "source": [
    "reviews.isnull().sum()"
   ]
  },
  {
   "cell_type": "code",
   "execution_count": 6,
   "metadata": {
    "execution": {
     "iopub.execute_input": "2022-09-20T05:24:40.683056Z",
     "iopub.status.busy": "2022-09-20T05:24:40.682733Z",
     "iopub.status.idle": "2022-09-20T05:24:40.735429Z",
     "shell.execute_reply": "2022-09-20T05:24:40.734359Z",
     "shell.execute_reply.started": "2022-09-20T05:24:40.683028Z"
    }
   },
   "outputs": [
    {
     "name": "stdout",
     "output_type": "stream",
     "text": [
      "(229124, 2)\n"
     ]
    }
   ],
   "source": [
    "reviews.dropna(inplace = True)\n",
    "print(reviews.shape)"
   ]
  },
  {
   "cell_type": "markdown",
   "metadata": {},
   "source": [
    "## 3.2 Creating three categories of labels from ratings\n",
    "\n",
    "Creating lables of positive, negative, and neutral for their corresponding ratings."
   ]
  },
  {
   "cell_type": "code",
   "execution_count": 7,
   "metadata": {
    "execution": {
     "iopub.execute_input": "2022-09-20T05:24:40.736947Z",
     "iopub.status.busy": "2022-09-20T05:24:40.736608Z",
     "iopub.status.idle": "2022-09-20T05:24:40.752085Z",
     "shell.execute_reply": "2022-09-20T05:24:40.751039Z",
     "shell.execute_reply.started": "2022-09-20T05:24:40.736917Z"
    }
   },
   "outputs": [
    {
     "data": {
      "text/plain": [
       "stars\n",
       "4    79702\n",
       "5    75911\n",
       "3    35266\n",
       "2    20897\n",
       "1    17348\n",
       "Name: count, dtype: int64"
      ]
     },
     "execution_count": 7,
     "metadata": {},
     "output_type": "execute_result"
    }
   ],
   "source": [
    "reviews['stars'].value_counts()"
   ]
  },
  {
   "cell_type": "code",
   "execution_count": 8,
   "metadata": {
    "execution": {
     "iopub.execute_input": "2022-09-20T05:24:40.753828Z",
     "iopub.status.busy": "2022-09-20T05:24:40.753458Z",
     "iopub.status.idle": "2022-09-20T05:24:40.816269Z",
     "shell.execute_reply": "2022-09-20T05:24:40.815108Z",
     "shell.execute_reply.started": "2022-09-20T05:24:40.753798Z"
    }
   },
   "outputs": [
    {
     "data": {
      "text/html": [
       "<div>\n",
       "<style scoped>\n",
       "    .dataframe tbody tr th:only-of-type {\n",
       "        vertical-align: middle;\n",
       "    }\n",
       "\n",
       "    .dataframe tbody tr th {\n",
       "        vertical-align: top;\n",
       "    }\n",
       "\n",
       "    .dataframe thead th {\n",
       "        text-align: right;\n",
       "    }\n",
       "</style>\n",
       "<table border=\"1\" class=\"dataframe\">\n",
       "  <thead>\n",
       "    <tr style=\"text-align: right;\">\n",
       "      <th></th>\n",
       "      <th>text</th>\n",
       "      <th>stars</th>\n",
       "      <th>label</th>\n",
       "    </tr>\n",
       "  </thead>\n",
       "  <tbody>\n",
       "    <tr>\n",
       "      <th>0</th>\n",
       "      <td>My wife took me here on my birthday for breakf...</td>\n",
       "      <td>5</td>\n",
       "      <td>positive</td>\n",
       "    </tr>\n",
       "    <tr>\n",
       "      <th>1</th>\n",
       "      <td>I have no idea why some people give bad review...</td>\n",
       "      <td>5</td>\n",
       "      <td>positive</td>\n",
       "    </tr>\n",
       "    <tr>\n",
       "      <th>2</th>\n",
       "      <td>love the gyro plate. Rice is so good and I als...</td>\n",
       "      <td>4</td>\n",
       "      <td>positive</td>\n",
       "    </tr>\n",
       "    <tr>\n",
       "      <th>3</th>\n",
       "      <td>Rosie, Dakota, and I LOVE Chaparral Dog Park!!...</td>\n",
       "      <td>5</td>\n",
       "      <td>positive</td>\n",
       "    </tr>\n",
       "    <tr>\n",
       "      <th>4</th>\n",
       "      <td>General Manager Scott Petello is a good egg!!!...</td>\n",
       "      <td>5</td>\n",
       "      <td>positive</td>\n",
       "    </tr>\n",
       "  </tbody>\n",
       "</table>\n",
       "</div>"
      ],
      "text/plain": [
       "                                                text  stars     label\n",
       "0  My wife took me here on my birthday for breakf...      5  positive\n",
       "1  I have no idea why some people give bad review...      5  positive\n",
       "2  love the gyro plate. Rice is so good and I als...      4  positive\n",
       "3  Rosie, Dakota, and I LOVE Chaparral Dog Park!!...      5  positive\n",
       "4  General Manager Scott Petello is a good egg!!!...      5  positive"
      ]
     },
     "execution_count": 8,
     "metadata": {},
     "output_type": "execute_result"
    }
   ],
   "source": [
    "#creating labels from stars\n",
    "reviews['label'] = reviews['stars'].apply(lambda s: 'positive' if s >= 4 else ('negative' if s <= 2 else 'neutral'))\n",
    "\n",
    "reviews.head()"
   ]
  },
  {
   "cell_type": "code",
   "execution_count": 9,
   "metadata": {
    "execution": {
     "iopub.execute_input": "2022-09-20T05:24:40.818531Z",
     "iopub.status.busy": "2022-09-20T05:24:40.817748Z",
     "iopub.status.idle": "2022-09-20T05:24:40.836587Z",
     "shell.execute_reply": "2022-09-20T05:24:40.835696Z",
     "shell.execute_reply.started": "2022-09-20T05:24:40.818489Z"
    }
   },
   "outputs": [
    {
     "data": {
      "text/plain": [
       "label\n",
       "positive    155613\n",
       "negative     38245\n",
       "neutral      35266\n",
       "Name: count, dtype: int64"
      ]
     },
     "execution_count": 9,
     "metadata": {},
     "output_type": "execute_result"
    }
   ],
   "source": [
    "reviews['label'].value_counts()"
   ]
  },
  {
   "cell_type": "markdown",
   "metadata": {},
   "source": [
    "## 3.3 Train/Test Split"
   ]
  },
  {
   "cell_type": "code",
   "execution_count": 10,
   "metadata": {
    "execution": {
     "iopub.execute_input": "2022-09-20T05:24:40.842060Z",
     "iopub.status.busy": "2022-09-20T05:24:40.841666Z",
     "iopub.status.idle": "2022-09-20T05:24:40.849101Z",
     "shell.execute_reply": "2022-09-20T05:24:40.848078Z",
     "shell.execute_reply.started": "2022-09-20T05:24:40.842018Z"
    }
   },
   "outputs": [],
   "source": [
    "X = reviews['text']\n",
    "y = reviews['label']"
   ]
  },
  {
   "cell_type": "code",
   "execution_count": 11,
   "metadata": {
    "execution": {
     "iopub.execute_input": "2022-09-20T05:24:40.850888Z",
     "iopub.status.busy": "2022-09-20T05:24:40.850506Z",
     "iopub.status.idle": "2022-09-20T05:24:40.906361Z",
     "shell.execute_reply": "2022-09-20T05:24:40.905394Z",
     "shell.execute_reply.started": "2022-09-20T05:24:40.850830Z"
    }
   },
   "outputs": [],
   "source": [
    "X_train, X_test, y_train, y_test = train_test_split(X, y, test_size = 0.33, random_state = 42)"
   ]
  },
  {
   "cell_type": "code",
   "execution_count": 12,
   "metadata": {
    "execution": {
     "iopub.execute_input": "2022-09-20T05:24:40.908106Z",
     "iopub.status.busy": "2022-09-20T05:24:40.907746Z",
     "iopub.status.idle": "2022-09-20T05:24:40.914747Z",
     "shell.execute_reply": "2022-09-20T05:24:40.913500Z",
     "shell.execute_reply.started": "2022-09-20T05:24:40.908075Z"
    }
   },
   "outputs": [
    {
     "name": "stdout",
     "output_type": "stream",
     "text": [
      "Shape of the X train set:  (153513,)\n",
      "Shape of the X test set:  (75611,)\n",
      "Shape of the y train set:  (153513,)\n",
      "Shape of the y test set:  (75611,)\n"
     ]
    }
   ],
   "source": [
    "print('Shape of the X train set: ', X_train.shape)\n",
    "print('Shape of the X test set: ', X_test.shape)\n",
    "print('Shape of the y train set: ', y_train.shape)\n",
    "print('Shape of the y test set: ', y_test.shape)"
   ]
  },
  {
   "cell_type": "code",
   "execution_count": 13,
   "metadata": {
    "execution": {
     "iopub.execute_input": "2022-09-20T05:24:40.917209Z",
     "iopub.status.busy": "2022-09-20T05:24:40.916280Z",
     "iopub.status.idle": "2022-09-20T05:24:40.979809Z",
     "shell.execute_reply": "2022-09-20T05:24:40.978430Z",
     "shell.execute_reply.started": "2022-09-20T05:24:40.917165Z"
    }
   },
   "outputs": [],
   "source": [
    "from sklearn.preprocessing import LabelEncoder\n",
    "label_encoder = LabelEncoder()\n",
    "\n",
    "y_train = label_encoder.fit_transform(y_train)\n",
    "y_test = label_encoder.fit_transform(y_test)"
   ]
  },
  {
   "cell_type": "markdown",
   "metadata": {},
   "source": [
    "## 3.4 Vectorizing the text"
   ]
  },
  {
   "cell_type": "code",
   "execution_count": 14,
   "metadata": {
    "execution": {
     "iopub.execute_input": "2022-09-20T05:24:40.993944Z",
     "iopub.status.busy": "2022-09-20T05:24:40.993517Z",
     "iopub.status.idle": "2022-09-20T05:24:41.000671Z",
     "shell.execute_reply": "2022-09-20T05:24:40.999430Z",
     "shell.execute_reply.started": "2022-09-20T05:24:40.993910Z"
    }
   },
   "outputs": [
    {
     "name": "stdout",
     "output_type": "stream",
     "text": [
      "<class 'nltk.corpus.reader.wordlist.WordListCorpusReader'>\n"
     ]
    }
   ],
   "source": [
    "print(type(stopwords))"
   ]
  },
  {
   "cell_type": "markdown",
   "metadata": {},
   "source": [
    "## problem faced and how i solved it \n",
    "stopwords = set(stopwords.words('english'))\n",
    "\n",
    "This line assumes that stopwords is the NLTK stopwords object, which has a words() method.\n",
    "\n",
    "However, if stopwords is already a set (as indicated by <class 'set'>), it doesn't have a words() method. Sets in Python don't have this method.\n",
    "So when you try to call stopwords.words('english'), Python raises an AttributeError because you're trying to call a method that doesn't exist for set objects."
   ]
  },
  {
   "cell_type": "code",
   "execution_count": 15,
   "metadata": {},
   "outputs": [
    {
     "name": "stderr",
     "output_type": "stream",
     "text": [
      "[nltk_data] Downloading package stopwords to\n",
      "[nltk_data]     C:\\Users\\besid\\AppData\\Roaming\\nltk_data...\n",
      "[nltk_data]   Package stopwords is already up-to-date!\n"
     ]
    }
   ],
   "source": [
    "import nltk\n",
    "from nltk.corpus import stopwords as nltk_stopwords  # Import with a different name\n",
    "\n",
    "# Download stopwords data (if not already downloaded)\n",
    "nltk.download('stopwords')\n",
    "\n",
    "# Create the stopwords set\n",
    "stopwords_set = set(nltk_stopwords.words('english'))"
   ]
  },
  {
   "cell_type": "code",
   "execution_count": 18,
   "metadata": {},
   "outputs": [],
   "source": [
    "# Convert your set of stopwords to a list\n",
    "custom_stopwords = list(stopwords_set)"
   ]
  },
  {
   "cell_type": "code",
   "execution_count": 19,
   "metadata": {},
   "outputs": [],
   "source": [
    "#building the vectorizer\n",
    "vectorizer = TfidfVectorizer(lowercase = True, \n",
    "                             stop_words = custom_stopwords, \n",
    "                             ngram_range = (1,2), \n",
    "                             min_df = 0.01)"
   ]
  },
  {
   "cell_type": "code",
   "execution_count": 20,
   "metadata": {
    "scrolled": true
   },
   "outputs": [
    {
     "name": "stdout",
     "output_type": "stream",
     "text": [
      "Shape of X_train vectorized:  (153513,)\n"
     ]
    }
   ],
   "source": [
    "#vectorizing the training set\n",
    "X_train_vect = vectorizer.fit_transform(X_train)\n",
    "print('Shape of X_train vectorized: ',X_train.shape)"
   ]
  },
  {
   "cell_type": "markdown",
   "metadata": {},
   "source": [
    "## Learning from TfidfVectorizer Stopwords Issue\n",
    "\n",
    "### Problem:\n",
    "I encountered an error when trying to use a set of stopwords with TfidfVectorizer.\n",
    "\n",
    "### What I Learned:\n",
    "1. TfidfVectorizer's `stop_words` parameter is picky about input types.\n",
    "2. It accepts 'english' (str), None, or a list of words, but not a set.\n",
    "3. Error messages can give clues about what's wrong and how to fix it.\n",
    "\n",
    "### How I Solved It:\n",
    "1. I converted my set of stopwords to a list.\n",
    "2. Updated my code to use this list:\n",
    "   ```python\n",
    "   custom_stopwords = list(stopwords_set)\n",
    "   vectorizer = TfidfVectorizer(stop_words=custom_stopwords)"
   ]
  },
  {
   "cell_type": "code",
   "execution_count": 21,
   "metadata": {},
   "outputs": [
    {
     "name": "stdout",
     "output_type": "stream",
     "text": [
      "Shape of X_test vectorized:  (75611,)\n"
     ]
    }
   ],
   "source": [
    "#vectorizing the test set\n",
    "X_test_vect = vectorizer.fit_transform(X_test)\n",
    "print('Shape of X_test vectorized: ',X_test.shape)"
   ]
  },
  {
   "cell_type": "markdown",
   "metadata": {},
   "source": [
    "## 3.5 Feature Scaling"
   ]
  },
  {
   "cell_type": "code",
   "execution_count": 22,
   "metadata": {
    "execution": {
     "iopub.execute_input": "2022-09-20T05:25:31.379277Z",
     "iopub.status.busy": "2022-09-20T05:25:31.378958Z",
     "iopub.status.idle": "2022-09-20T05:25:31.383981Z",
     "shell.execute_reply": "2022-09-20T05:25:31.382472Z",
     "shell.execute_reply.started": "2022-09-20T05:25:31.379248Z"
    }
   },
   "outputs": [],
   "source": [
    "#initializing StandardScaler\n",
    "scaler = StandardScaler(with_mean = False)\n",
    "\n",
    "# StandardScaler is normalizing your data. \n",
    "# It's making sure all your features are on a similar scale.\n",
    "# Why do this? Because some machine learning algorithms perform better \n",
    "# or converge faster when features are on a similar scale.\n",
    "\n",
    "# It calculates the mean and standard deviation for each feature.\n",
    "# Then it transforms each data point: (x - mean) / standard deviation\n",
    "\n",
    "# with_mean=False parameter is used because we\n",
    "# likely have sparse data (common in text analysis)."
   ]
  },
  {
   "cell_type": "code",
   "execution_count": 23,
   "metadata": {
    "execution": {
     "iopub.execute_input": "2022-09-20T05:25:31.385773Z",
     "iopub.status.busy": "2022-09-20T05:25:31.385386Z",
     "iopub.status.idle": "2022-09-20T05:25:31.587464Z",
     "shell.execute_reply": "2022-09-20T05:25:31.586411Z",
     "shell.execute_reply.started": "2022-09-20T05:25:31.385742Z"
    }
   },
   "outputs": [],
   "source": [
    "#scaling X_train_vect\n",
    "X_train_scaled = scaler.fit_transform(X_train_vect)"
   ]
  },
  {
   "cell_type": "code",
   "execution_count": 24,
   "metadata": {
    "execution": {
     "iopub.execute_input": "2022-09-20T05:25:31.589174Z",
     "iopub.status.busy": "2022-09-20T05:25:31.588751Z",
     "iopub.status.idle": "2022-09-20T05:25:31.686451Z",
     "shell.execute_reply": "2022-09-20T05:25:31.685423Z",
     "shell.execute_reply.started": "2022-09-20T05:25:31.589144Z"
    }
   },
   "outputs": [],
   "source": [
    "#scaling X_test_vect\n",
    "X_test_scaled = scaler.fit_transform(X_test_vect)"
   ]
  },
  {
   "cell_type": "code",
   "execution_count": 25,
   "metadata": {
    "execution": {
     "iopub.execute_input": "2022-09-20T05:25:31.688235Z",
     "iopub.status.busy": "2022-09-20T05:25:31.687763Z",
     "iopub.status.idle": "2022-09-20T05:25:31.694580Z",
     "shell.execute_reply": "2022-09-20T05:25:31.693330Z",
     "shell.execute_reply.started": "2022-09-20T05:25:31.688193Z"
    }
   },
   "outputs": [
    {
     "name": "stdout",
     "output_type": "stream",
     "text": [
      "(153513, 1095)\n",
      "(153513,)\n",
      "Number of samples in y_train: 153513\n"
     ]
    }
   ],
   "source": [
    "print(X_train_scaled.shape)\n",
    "print(y_train.shape)\n",
    "print(f\"Number of samples in y_train: {len(y_train)}\")"
   ]
  },
  {
   "cell_type": "markdown",
   "metadata": {},
   "source": [
    "# 4. Classifcation"
   ]
  },
  {
   "cell_type": "markdown",
   "metadata": {},
   "source": [
    "## 4.1 Further splitting data into a train and validation set\n",
    "\n",
    "For better model performance, I decided to use GridSearch to find the best parameters for each model used, as well as Stratified k-fold Cross Validation, as my dataset is rather imbalanced.\n"
   ]
  },
  {
   "cell_type": "code",
   "execution_count": 26,
   "metadata": {},
   "outputs": [],
   "source": [
    "# GridSearchCV is a method provided by Scikit-learn to perform hyperparameter tuning. It systematically works through multiple combinations of parameter values, cross-validating as it goes to determine which combination gives the best performance.\n",
    "# Hyperparameters: These are the parameters that are set before the learning process begins (e.g., learning rate, number of trees in a random forest).\n",
    "# Example: Imagine you're using a Support Vector Machine (SVM) and want to find the best values for the parameters C and kernel. GridSearchCV will try different combinations of these parameters (e.g., C=0.1, kernel='linear', C=1, kernel='rbf', etc.) and find the combination that results in the best model performance.\n",
    "# Stratified K-Fold Cross Validation is an improved version of K-Fold Cross Validation. It ensures that each fold (subset of data) has the same proportion of class labels as the original dataset. This is particularly important for imbalanced datasets, where one class might be underrepresented.\n",
    "\n",
    "# In a classification problem, your target variable (the label you want to predict) can have different categories or classes.\n",
    "# Class 'A' could represent non-spam (ham) emails.\n",
    "# Class 'B' could represent spam emails.\n",
    "# Imagine you have a dataset with 1000 samples:\n",
    "# 900 of these samples are non-spam emails (Class 'A').\n",
    "# 100 of these samples are spam emails (Class 'B').\n",
    "# This means your dataset is imbalanced because the majority of the samples belong to Class 'A' (non-spam), and only a small portion belong to Class 'B' (spam).\n",
    "\n",
    "# Importance of Stratified K-Fold Cross Validation\n",
    "# When you split your data into training and validation sets (or folds in cross-validation), you want to ensure that each set has a similar distribution of classes as the original dataset. This helps in evaluating the model's performance more accurately.\n",
    "\n",
    "# Without Stratification\n",
    "# If you split the data randomly without stratification, you might end up with folds that do not represent the true distribution of classes.\n",
    "# One fold might have 95 non-spam emails (Class 'A') and only 5 spam emails (Class 'B').\n",
    "# Another fold might have 85 non-spam emails (Class 'A') and 15 spam emails (Class 'B').\n",
    "# This inconsistency can lead to misleading performance metrics, as some folds may not contain enough samples of the minority class (Class 'B'), making it hard to evaluate how well the model performs on that class.\n",
    "\n",
    "# With Stratification\n",
    "# Stratified K-Fold Cross Validation ensures that each fold has a similar class distribution to the original dataset. \n",
    "# For example:\n",
    "# Each fold will have around 90 non-spam emails (Class 'A') and 10 spam emails (Class 'B').\n",
    "\n"
   ]
  },
  {
   "cell_type": "code",
   "execution_count": 27,
   "metadata": {},
   "outputs": [
    {
     "name": "stdout",
     "output_type": "stream",
     "text": [
      "Number of samples in X_train_scaled: 153513\n",
      "Number of samples in y_train: 153513\n"
     ]
    }
   ],
   "source": [
    "# Check lengths using shape attribute for sparse matrix\n",
    "print(f\"Number of samples in X_train_scaled: {X_train_scaled.shape[0]}\")\n",
    "print(f\"Number of samples in y_train: {len(y_train)}\")\n",
    "\n",
    "# If lengths are inconsistent, find the issue in the preprocessing steps\n"
   ]
  },
  {
   "cell_type": "code",
   "execution_count": 28,
   "metadata": {
    "execution": {
     "iopub.execute_input": "2022-09-20T05:25:31.696349Z",
     "iopub.status.busy": "2022-09-20T05:25:31.695947Z",
     "iopub.status.idle": "2022-09-20T05:25:31.744926Z",
     "shell.execute_reply": "2022-09-20T05:25:31.743622Z",
     "shell.execute_reply.started": "2022-09-20T05:25:31.696318Z"
    }
   },
   "outputs": [],
   "source": [
    "#splitting the train dataset into a train and validation dataset\n",
    "X_train, X_val, y_train, y_val = train_test_split(X_train_scaled, y_train, \n",
    "                                                  test_size = 0.3, random_state = 42)"
   ]
  },
  {
   "cell_type": "code",
   "execution_count": 29,
   "metadata": {
    "execution": {
     "iopub.execute_input": "2022-09-20T05:25:31.747708Z",
     "iopub.status.busy": "2022-09-20T05:25:31.746685Z",
     "iopub.status.idle": "2022-09-20T05:25:31.753065Z",
     "shell.execute_reply": "2022-09-20T05:25:31.751913Z",
     "shell.execute_reply.started": "2022-09-20T05:25:31.747665Z"
    }
   },
   "outputs": [],
   "source": [
    "#initializing the Stratified K-fold CV\n",
    "skf = StratifiedKFold(n_splits = 5, random_state = 42, shuffle = True)"
   ]
  },
  {
   "cell_type": "markdown",
   "metadata": {},
   "source": [
    "## 4.2 Logistic Regression"
   ]
  },
  {
   "cell_type": "code",
   "execution_count": 30,
   "metadata": {
    "execution": {
     "iopub.execute_input": "2022-09-20T05:25:31.754685Z",
     "iopub.status.busy": "2022-09-20T05:25:31.754298Z",
     "iopub.status.idle": "2022-09-20T05:25:31.764750Z",
     "shell.execute_reply": "2022-09-20T05:25:31.763555Z",
     "shell.execute_reply.started": "2022-09-20T05:25:31.754646Z"
    }
   },
   "outputs": [],
   "source": [
    "#establishing parameters for GridSearch\n",
    "parameters = {'penalty':['l1','l2'],\n",
    "              'C':[0.01,0.05,0.5,5]}"
   ]
  },
  {
   "cell_type": "code",
   "execution_count": 31,
   "metadata": {
    "execution": {
     "iopub.execute_input": "2022-09-20T05:25:31.766702Z",
     "iopub.status.busy": "2022-09-20T05:25:31.766192Z",
     "iopub.status.idle": "2022-09-20T05:25:31.776508Z",
     "shell.execute_reply": "2022-09-20T05:25:31.775449Z",
     "shell.execute_reply.started": "2022-09-20T05:25:31.766609Z"
    }
   },
   "outputs": [],
   "source": [
    "#fitting the model\n",
    "log_reg = Classification('Logistic Regression', X_train, X_val, y_train, y_val)"
   ]
  },
  {
   "cell_type": "code",
   "execution_count": 32,
   "metadata": {
    "execution": {
     "iopub.execute_input": "2022-09-20T05:25:31.778024Z",
     "iopub.status.busy": "2022-09-20T05:25:31.777698Z",
     "iopub.status.idle": "2022-09-20T05:26:30.747285Z",
     "shell.execute_reply": "2022-09-20T05:26:30.745975Z",
     "shell.execute_reply.started": "2022-09-20T05:25:31.777996Z"
    }
   },
   "outputs": [
    {
     "data": {
      "text/html": [
       "<div>\n",
       "<style scoped>\n",
       "    .dataframe tbody tr th:only-of-type {\n",
       "        vertical-align: middle;\n",
       "    }\n",
       "\n",
       "    .dataframe tbody tr th {\n",
       "        vertical-align: top;\n",
       "    }\n",
       "\n",
       "    .dataframe thead th {\n",
       "        text-align: right;\n",
       "    }\n",
       "</style>\n",
       "<table border=\"1\" class=\"dataframe\">\n",
       "  <thead>\n",
       "    <tr style=\"text-align: right;\">\n",
       "      <th></th>\n",
       "      <th>Model Name</th>\n",
       "      <th>Train Accuracy</th>\n",
       "      <th>Validation Accuracy</th>\n",
       "      <th>Accuracy Difference</th>\n",
       "    </tr>\n",
       "  </thead>\n",
       "  <tbody>\n",
       "    <tr>\n",
       "      <th>0</th>\n",
       "      <td>Logistic Regression</td>\n",
       "      <td>0.801329</td>\n",
       "      <td>0.788683</td>\n",
       "      <td>0.012646</td>\n",
       "    </tr>\n",
       "  </tbody>\n",
       "</table>\n",
       "</div>"
      ],
      "text/plain": [
       "            Model Name  Train Accuracy  Validation Accuracy  \\\n",
       "0  Logistic Regression        0.801329             0.788683   \n",
       "\n",
       "   Accuracy Difference  \n",
       "0             0.012646  "
      ]
     },
     "metadata": {},
     "output_type": "display_data"
    },
    {
     "name": "stdout",
     "output_type": "stream",
     "text": [
      "The best hyperparameters are:  {'C': 0.01, 'penalty': 'l2'} \n",
      "\n",
      "CPU times: total: 7.69 s\n",
      "Wall time: 1min 10s\n"
     ]
    },
    {
     "data": {
      "text/html": [
       "<div>\n",
       "<style scoped>\n",
       "    .dataframe tbody tr th:only-of-type {\n",
       "        vertical-align: middle;\n",
       "    }\n",
       "\n",
       "    .dataframe tbody tr th {\n",
       "        vertical-align: top;\n",
       "    }\n",
       "\n",
       "    .dataframe thead th {\n",
       "        text-align: right;\n",
       "    }\n",
       "</style>\n",
       "<table border=\"1\" class=\"dataframe\">\n",
       "  <thead>\n",
       "    <tr style=\"text-align: right;\">\n",
       "      <th></th>\n",
       "      <th>0</th>\n",
       "      <th>1</th>\n",
       "      <th>2</th>\n",
       "      <th>accuracy</th>\n",
       "      <th>macro avg</th>\n",
       "    </tr>\n",
       "  </thead>\n",
       "  <tbody>\n",
       "    <tr>\n",
       "      <th>precision</th>\n",
       "      <td>0.694542</td>\n",
       "      <td>0.512260</td>\n",
       "      <td>0.838515</td>\n",
       "      <td>0.788683</td>\n",
       "      <td>0.681772</td>\n",
       "    </tr>\n",
       "    <tr>\n",
       "      <th>recall</th>\n",
       "      <td>0.678042</td>\n",
       "      <td>0.268962</td>\n",
       "      <td>0.934322</td>\n",
       "      <td>0.788683</td>\n",
       "      <td>0.627108</td>\n",
       "    </tr>\n",
       "    <tr>\n",
       "      <th>f1-score</th>\n",
       "      <td>0.686192</td>\n",
       "      <td>0.352725</td>\n",
       "      <td>0.883830</td>\n",
       "      <td>0.788683</td>\n",
       "      <td>0.640916</td>\n",
       "    </tr>\n",
       "  </tbody>\n",
       "</table>\n",
       "</div>"
      ],
      "text/plain": [
       "                  0         1         2  accuracy  macro avg\n",
       "precision  0.694542  0.512260  0.838515  0.788683   0.681772\n",
       "recall     0.678042  0.268962  0.934322  0.788683   0.627108\n",
       "f1-score   0.686192  0.352725  0.883830  0.788683   0.640916"
      ]
     },
     "execution_count": 32,
     "metadata": {},
     "output_type": "execute_result"
    }
   ],
   "source": [
    "%%time\n",
    "\n",
    "#getting scores\n",
    "log_reg.get_scores(parameters, skf)"
   ]
  },
  {
   "cell_type": "markdown",
   "metadata": {},
   "source": [
    "## 4.3 Multinomial Naive Bayes"
   ]
  },
  {
   "cell_type": "code",
   "execution_count": 33,
   "metadata": {
    "execution": {
     "iopub.execute_input": "2022-09-20T05:26:30.749208Z",
     "iopub.status.busy": "2022-09-20T05:26:30.748879Z",
     "iopub.status.idle": "2022-09-20T05:26:30.755172Z",
     "shell.execute_reply": "2022-09-20T05:26:30.753742Z",
     "shell.execute_reply.started": "2022-09-20T05:26:30.749175Z"
    }
   },
   "outputs": [],
   "source": [
    "#establishing parameters for GridSearch\n",
    "parameters = {'alpha': [0.001, 0.01, 0.5, 1.0]}"
   ]
  },
  {
   "cell_type": "code",
   "execution_count": 34,
   "metadata": {
    "execution": {
     "iopub.execute_input": "2022-09-20T05:26:30.762409Z",
     "iopub.status.busy": "2022-09-20T05:26:30.762057Z",
     "iopub.status.idle": "2022-09-20T05:26:30.769032Z",
     "shell.execute_reply": "2022-09-20T05:26:30.767700Z",
     "shell.execute_reply.started": "2022-09-20T05:26:30.762378Z"
    }
   },
   "outputs": [],
   "source": [
    "#fitting the model\n",
    "mnb = Classification('Multinomial Naive Bayes', X_train, X_val, y_train, y_val)"
   ]
  },
  {
   "cell_type": "code",
   "execution_count": 35,
   "metadata": {
    "execution": {
     "iopub.execute_input": "2022-09-20T05:26:30.772947Z",
     "iopub.status.busy": "2022-09-20T05:26:30.772554Z",
     "iopub.status.idle": "2022-09-20T05:26:31.904990Z",
     "shell.execute_reply": "2022-09-20T05:26:31.903706Z",
     "shell.execute_reply.started": "2022-09-20T05:26:30.772913Z"
    }
   },
   "outputs": [
    {
     "data": {
      "text/html": [
       "<div>\n",
       "<style scoped>\n",
       "    .dataframe tbody tr th:only-of-type {\n",
       "        vertical-align: middle;\n",
       "    }\n",
       "\n",
       "    .dataframe tbody tr th {\n",
       "        vertical-align: top;\n",
       "    }\n",
       "\n",
       "    .dataframe thead th {\n",
       "        text-align: right;\n",
       "    }\n",
       "</style>\n",
       "<table border=\"1\" class=\"dataframe\">\n",
       "  <thead>\n",
       "    <tr style=\"text-align: right;\">\n",
       "      <th></th>\n",
       "      <th>Model Name</th>\n",
       "      <th>Train Accuracy</th>\n",
       "      <th>Validation Accuracy</th>\n",
       "      <th>Accuracy Difference</th>\n",
       "    </tr>\n",
       "  </thead>\n",
       "  <tbody>\n",
       "    <tr>\n",
       "      <th>0</th>\n",
       "      <td>Multinomial Naive Bayes</td>\n",
       "      <td>0.696545</td>\n",
       "      <td>0.687671</td>\n",
       "      <td>0.008874</td>\n",
       "    </tr>\n",
       "  </tbody>\n",
       "</table>\n",
       "</div>"
      ],
      "text/plain": [
       "                Model Name  Train Accuracy  Validation Accuracy  \\\n",
       "0  Multinomial Naive Bayes        0.696545             0.687671   \n",
       "\n",
       "   Accuracy Difference  \n",
       "0             0.008874  "
      ]
     },
     "metadata": {},
     "output_type": "display_data"
    },
    {
     "name": "stdout",
     "output_type": "stream",
     "text": [
      "The best hyperparameters are:  {'alpha': 0.001} \n",
      "\n",
      "CPU times: total: 109 ms\n",
      "Wall time: 1.85 s\n"
     ]
    },
    {
     "data": {
      "text/html": [
       "<div>\n",
       "<style scoped>\n",
       "    .dataframe tbody tr th:only-of-type {\n",
       "        vertical-align: middle;\n",
       "    }\n",
       "\n",
       "    .dataframe tbody tr th {\n",
       "        vertical-align: top;\n",
       "    }\n",
       "\n",
       "    .dataframe thead th {\n",
       "        text-align: right;\n",
       "    }\n",
       "</style>\n",
       "<table border=\"1\" class=\"dataframe\">\n",
       "  <thead>\n",
       "    <tr style=\"text-align: right;\">\n",
       "      <th></th>\n",
       "      <th>0</th>\n",
       "      <th>1</th>\n",
       "      <th>2</th>\n",
       "      <th>accuracy</th>\n",
       "      <th>macro avg</th>\n",
       "    </tr>\n",
       "  </thead>\n",
       "  <tbody>\n",
       "    <tr>\n",
       "      <th>precision</th>\n",
       "      <td>0.526862</td>\n",
       "      <td>0.346822</td>\n",
       "      <td>0.910156</td>\n",
       "      <td>0.687671</td>\n",
       "      <td>0.594613</td>\n",
       "    </tr>\n",
       "    <tr>\n",
       "      <th>recall</th>\n",
       "      <td>0.673185</td>\n",
       "      <td>0.561293</td>\n",
       "      <td>0.720061</td>\n",
       "      <td>0.687671</td>\n",
       "      <td>0.651513</td>\n",
       "    </tr>\n",
       "    <tr>\n",
       "      <th>f1-score</th>\n",
       "      <td>0.591103</td>\n",
       "      <td>0.428732</td>\n",
       "      <td>0.804025</td>\n",
       "      <td>0.687671</td>\n",
       "      <td>0.607953</td>\n",
       "    </tr>\n",
       "  </tbody>\n",
       "</table>\n",
       "</div>"
      ],
      "text/plain": [
       "                  0         1         2  accuracy  macro avg\n",
       "precision  0.526862  0.346822  0.910156  0.687671   0.594613\n",
       "recall     0.673185  0.561293  0.720061  0.687671   0.651513\n",
       "f1-score   0.591103  0.428732  0.804025  0.687671   0.607953"
      ]
     },
     "execution_count": 35,
     "metadata": {},
     "output_type": "execute_result"
    }
   ],
   "source": [
    "%%time\n",
    "\n",
    "#getting scores\n",
    "mnb.get_scores(parameters, skf)"
   ]
  },
  {
   "cell_type": "markdown",
   "metadata": {},
   "source": [
    "## 4.4 Random Forest"
   ]
  },
  {
   "cell_type": "code",
   "execution_count": 36,
   "metadata": {
    "execution": {
     "iopub.execute_input": "2022-09-20T05:26:31.907411Z",
     "iopub.status.busy": "2022-09-20T05:26:31.906746Z",
     "iopub.status.idle": "2022-09-20T05:26:31.913382Z",
     "shell.execute_reply": "2022-09-20T05:26:31.912205Z",
     "shell.execute_reply.started": "2022-09-20T05:26:31.907364Z"
    }
   },
   "outputs": [],
   "source": [
    "#establishing parameters for GridSearch\n",
    "parameters = {'min_samples_leaf':[1,3,15,50],\n",
    "          'max_depth':[5,10,15,20]}"
   ]
  },
  {
   "cell_type": "code",
   "execution_count": 37,
   "metadata": {
    "execution": {
     "iopub.execute_input": "2022-09-20T05:26:31.915811Z",
     "iopub.status.busy": "2022-09-20T05:26:31.915091Z",
     "iopub.status.idle": "2022-09-20T05:26:31.924674Z",
     "shell.execute_reply": "2022-09-20T05:26:31.923570Z",
     "shell.execute_reply.started": "2022-09-20T05:26:31.915768Z"
    }
   },
   "outputs": [],
   "source": [
    "#fitting the model\n",
    "rf = Classification('Random Forest', X_train, X_val, y_train, y_val)"
   ]
  },
  {
   "cell_type": "code",
   "execution_count": 39,
   "metadata": {},
   "outputs": [],
   "source": [
    "# %%time\n",
    "\n",
    "# #getting scores\n",
    "# rf.get_scores(parameters, skf)"
   ]
  },
  {
   "cell_type": "markdown",
   "metadata": {},
   "source": [
    "Out[1]:\n",
    "| Model Name    | Train Accuracy | Validation Accuracy | Accuracy Difference |\n",
    "|---------------|----------------|---------------------|---------------------|\n",
    "| Random Forest | 0.760727       | 0.717962            | 0.042766            |\n",
    "\n",
    "The best hyperparameters are:  {'max_depth': 20, 'min_samples_leaf': 1}\n",
    "\n",
    "CPU times: user 3min 36s, sys: 500 ms, total: 3min 36s\n",
    "Wall time: 4min 23s\n",
    "\n",
    "|            | 0       | 1       | 2       | accuracy | macro avg |\n",
    "|------------|---------|---------|---------|----------|-----------|\n",
    "| precision  | 0.789629| 0.523810| 0.714804| 0.717962 | 0.676081  |\n",
    "| recall     | 0.245833| 0.012315| 0.994087| 0.717962 | 0.417412  |\n",
    "| f1-score   | 0.374937| 0.024063| 0.831624| 0.717962 | 0.410208  |"
   ]
  },
  {
   "cell_type": "markdown",
   "metadata": {},
   "source": [
    "## 4.5 Decision Tree"
   ]
  },
  {
   "cell_type": "code",
   "execution_count": 40,
   "metadata": {},
   "outputs": [],
   "source": [
    "#establishing parameters for GridSearch\n",
    "parameters = {'min_samples_leaf':[3,15,50,100],\n",
    "              'max_depth':[3,5,7,10]}"
   ]
  },
  {
   "cell_type": "code",
   "execution_count": 41,
   "metadata": {},
   "outputs": [],
   "source": [
    "#fitting the model\n",
    "tree = Classification('Decision Tree', X_train, X_val, y_train, y_val)"
   ]
  },
  {
   "cell_type": "code",
   "execution_count": null,
   "metadata": {},
   "outputs": [],
   "source": [
    "# %%time\n",
    "# \n",
    "# #getting scores\n",
    "# tree.get_scores(parameters, skf)"
   ]
  },
  {
   "cell_type": "markdown",
   "metadata": {},
   "source": [
    "Out[2]:\n",
    "| Model Name    | Train Accuracy | Validation Accuracy | Accuracy Difference |\n",
    "|---------------|----------------|---------------------|---------------------|\n",
    "| Decision Tree | 0.711174       | 0.708625            | 0.002549            |\n",
    "\n",
    "The best hyperparameters are:  {'max_depth': 10, 'min_samples_leaf': 100}\n",
    "\n",
    "CPU times: user 3min 9s, sys: 122 ms, total: 3min 9s\n",
    "Wall time: 5min 27s\n",
    "\n",
    "|            | 0       | 1       | 2       | accuracy | macro avg |\n",
    "|------------|---------|---------|---------|----------|-----------|\n",
    "| precision  | 0.694600| 0.400000| 0.720327| 0.708625 | 0.604976  |\n",
    "| recall     | 0.195826| 0.084523| 0.976030| 0.708625 | 0.418793  |\n",
    "| f1-score   | 0.305519| 0.139556| 0.828907| 0.708625 | 0.424661  |"
   ]
  },
  {
   "cell_type": "markdown",
   "metadata": {},
   "source": [
    "## 4.6 K Neighbors "
   ]
  },
  {
   "cell_type": "code",
   "execution_count": 42,
   "metadata": {
    "execution": {
     "iopub.execute_input": "2022-09-20T05:36:22.762823Z",
     "iopub.status.busy": "2022-09-20T05:36:22.761941Z",
     "iopub.status.idle": "2022-09-20T05:36:22.768856Z",
     "shell.execute_reply": "2022-09-20T05:36:22.767620Z",
     "shell.execute_reply.started": "2022-09-20T05:36:22.762774Z"
    }
   },
   "outputs": [],
   "source": [
    "#establishing parameters for GridSearch\n",
    "parameters = {'n_neighbors':[5,10,50,150,300]}"
   ]
  },
  {
   "cell_type": "code",
   "execution_count": 43,
   "metadata": {
    "execution": {
     "iopub.execute_input": "2022-09-20T05:36:22.770921Z",
     "iopub.status.busy": "2022-09-20T05:36:22.770539Z",
     "iopub.status.idle": "2022-09-20T05:36:22.784395Z",
     "shell.execute_reply": "2022-09-20T05:36:22.783356Z",
     "shell.execute_reply.started": "2022-09-20T05:36:22.770890Z"
    }
   },
   "outputs": [],
   "source": [
    "#fitting the model\n",
    "knn = Classification('KNN', X_train, X_val, y_train, y_val)"
   ]
  },
  {
   "cell_type": "code",
   "execution_count": 45,
   "metadata": {},
   "outputs": [],
   "source": [
    "# %%time\n",
    "\n",
    "# #getting scores\n",
    "# knn.get_scores(parameters, skf)"
   ]
  },
  {
   "cell_type": "markdown",
   "metadata": {},
   "source": [
    "Out[3]:\n",
    "| Model Name | Train Accuracy | Validation Accuracy | Accuracy Difference |\n",
    "|------------|----------------|---------------------|---------------------|\n",
    "| KNN        | 0.680715       | 0.680636            | 0.00008             |\n",
    "\n",
    "The best hyperparameters are:  {'n_neighbors': 150}\n",
    "\n",
    "CPU times: user 44min 6s, sys: 11min 51s, total: 55min 57s\n",
    "Wall time: 2h 59min 58s\n",
    "\n",
    "|            | 0       | 1   | 2       | accuracy | macro avg |\n",
    "|------------|---------|-----|---------|----------|-----------|\n",
    "| precision  | 0.755319| 0.0 | 0.680483| 0.680636 | 0.478601  |\n",
    "| recall     | 0.009319| 0.0 | 0.999553| 0.680636 | 0.336290  |\n",
    "| f1-score   | 0.018410| 0.0 | 0.809719| 0.680636 | 0.276043  |"
   ]
  },
  {
   "cell_type": "code",
   "execution_count": 46,
   "metadata": {},
   "outputs": [
    {
     "name": "stdout",
     "output_type": "stream",
     "text": [
      "im gonna win\n"
     ]
    }
   ],
   "source": [
    "print('im gonna win')"
   ]
  },
  {
   "cell_type": "markdown",
   "metadata": {},
   "source": [
    "## 4.7 AdaBoost"
   ]
  },
  {
   "cell_type": "code",
   "execution_count": 47,
   "metadata": {
    "execution": {
     "iopub.execute_input": "2022-09-20T08:36:21.820670Z",
     "iopub.status.busy": "2022-09-20T08:36:21.820038Z",
     "iopub.status.idle": "2022-09-20T08:36:21.830550Z",
     "shell.execute_reply": "2022-09-20T08:36:21.829585Z",
     "shell.execute_reply.started": "2022-09-20T08:36:21.820615Z"
    }
   },
   "outputs": [],
   "source": [
    "#establishing parameters for GridSearch\n",
    "parameters = {'learning_rate':[0.1,1,10]}"
   ]
  },
  {
   "cell_type": "code",
   "execution_count": 48,
   "metadata": {
    "execution": {
     "iopub.execute_input": "2022-09-20T08:36:21.832763Z",
     "iopub.status.busy": "2022-09-20T08:36:21.831996Z",
     "iopub.status.idle": "2022-09-20T08:36:21.848689Z",
     "shell.execute_reply": "2022-09-20T08:36:21.847613Z",
     "shell.execute_reply.started": "2022-09-20T08:36:21.832726Z"
    }
   },
   "outputs": [],
   "source": [
    "#fitting the model\n",
    "ada = Classification('AdaBoost', X_train, X_val, y_train, y_val)"
   ]
  },
  {
   "cell_type": "code",
   "execution_count": 49,
   "metadata": {
    "execution": {
     "iopub.execute_input": "2022-09-20T08:36:21.850829Z",
     "iopub.status.busy": "2022-09-20T08:36:21.850243Z",
     "iopub.status.idle": "2022-09-20T08:41:27.081117Z",
     "shell.execute_reply": "2022-09-20T08:41:27.079609Z",
     "shell.execute_reply.started": "2022-09-20T08:36:21.850796Z"
    }
   },
   "outputs": [],
   "source": [
    "# %%time\n",
    "\n",
    "# #getting scores\n",
    "# ada.get_scores(parameters, skf)"
   ]
  },
  {
   "cell_type": "markdown",
   "metadata": {},
   "source": [
    "Out[4]:\n",
    "| Model Name | Train Accuracy | Validation Accuracy | Accuracy Difference |\n",
    "|------------|----------------|---------------------|---------------------|\n",
    "| AdaBoost   | 0.690552       | 0.690515            | 0.000036            |\n",
    "\n",
    "The best hyperparameters are:  {'learning_rate': 1}\n",
    "\n",
    "CPU times: user 1min 56s, sys: 2.36 s, total: 1min 59s\n",
    "Wall time: 5min 5s\n",
    "\n",
    "|            | 0       | 1       | 2       | accuracy | macro avg |\n",
    "|------------|---------|---------|---------|----------|-----------|\n",
    "| precision  | 0.868885| 0.454880| 0.691333| 0.690515 | 0.671699  |\n",
    "| recall     | 0.058275| 0.034565| 0.994279| 0.690515 | 0.362373  |\n",
    "| f1-score   | 0.109225| 0.064248| 0.815583| 0.690515 | 0.329685  |"
   ]
  },
  {
   "cell_type": "markdown",
   "metadata": {},
   "source": [
    "## 4.8 XGBoost"
   ]
  },
  {
   "cell_type": "code",
   "execution_count": 50,
   "metadata": {
    "execution": {
     "iopub.execute_input": "2022-09-20T08:41:27.084531Z",
     "iopub.status.busy": "2022-09-20T08:41:27.084156Z",
     "iopub.status.idle": "2022-09-20T08:41:27.091516Z",
     "shell.execute_reply": "2022-09-20T08:41:27.090239Z",
     "shell.execute_reply.started": "2022-09-20T08:41:27.084497Z"
    }
   },
   "outputs": [],
   "source": [
    "#establishing parameters for GridSearch\n",
    "parameters = {'eta':[0.001,0.005,0.1,0.5],\n",
    "              'min_child_weight':[1,5,10]}"
   ]
  },
  {
   "cell_type": "code",
   "execution_count": 51,
   "metadata": {
    "execution": {
     "iopub.execute_input": "2022-09-20T08:41:27.093495Z",
     "iopub.status.busy": "2022-09-20T08:41:27.093086Z",
     "iopub.status.idle": "2022-09-20T08:41:27.107458Z",
     "shell.execute_reply": "2022-09-20T08:41:27.106002Z",
     "shell.execute_reply.started": "2022-09-20T08:41:27.093453Z"
    }
   },
   "outputs": [],
   "source": [
    "#fitting the model\n",
    "xgb = Classification('XGBoost', X_train, X_val, y_train, y_val)"
   ]
  },
  {
   "cell_type": "code",
   "execution_count": 52,
   "metadata": {
    "execution": {
     "iopub.execute_input": "2022-09-20T08:41:27.109849Z",
     "iopub.status.busy": "2022-09-20T08:41:27.109393Z",
     "iopub.status.idle": "2022-09-20T12:12:09.739262Z",
     "shell.execute_reply": "2022-09-20T12:12:09.735686Z",
     "shell.execute_reply.started": "2022-09-20T08:41:27.109814Z"
    }
   },
   "outputs": [],
   "source": [
    "# %%time\n",
    "\n",
    "# #getting scores\n",
    "# xgb.get_scores(parameters, skf)"
   ]
  },
  {
   "cell_type": "markdown",
   "metadata": {
    "execution": {
     "iopub.execute_input": "2022-09-20T12:12:09.746743Z",
     "iopub.status.busy": "2022-09-20T12:12:09.746156Z",
     "iopub.status.idle": "2022-09-20T12:12:09.765906Z",
     "shell.execute_reply": "2022-09-20T12:12:09.764809Z",
     "shell.execute_reply.started": "2022-09-20T12:12:09.746697Z"
    }
   },
   "source": [
    "Out[5]:\n",
    "| Model Name | Train Accuracy | Validation Accuracy | Accuracy Difference |\n",
    "|------------|----------------|---------------------|---------------------|\n",
    "| XGBoost    | 0.825757       | 0.775546            | 0.050211            |\n",
    "\n",
    "The best hyperparameters are:  {'eta': 0.001, 'min_child_weight': 10}\n",
    "\n",
    "CPU times: user 33min 30s, sys: 1.38 s, total: 33min 32s\n",
    "Wall time: 3h 30min 42s\n",
    "\n",
    "|            | 0       | 1       | 2       | accuracy | macro avg |\n",
    "|------------|---------|---------|---------|----------|-----------|\n",
    "| precision  | 0.717170| 0.508607| 0.807231| 0.775546 | 0.677669  |\n",
    "| recall     | 0.564116| 0.219144| 0.954105| 0.775546 | 0.579122  |\n",
    "| f1-score   | 0.631502| 0.306308| 0.874544| 0.775546 | 0.604118  |"
   ]
  },
  {
   "cell_type": "markdown",
   "metadata": {},
   "source": [
    "# 5. Evaluation"
   ]
  },
  {
   "cell_type": "markdown",
   "metadata": {},
   "source": [
    "## 5.1 Comparing scores from all models"
   ]
  },
  {
   "cell_type": "code",
   "execution_count": 53,
   "metadata": {
    "execution": {
     "iopub.execute_input": "2022-09-20T12:12:09.768736Z",
     "iopub.status.busy": "2022-09-20T12:12:09.767477Z",
     "iopub.status.idle": "2022-09-20T12:12:09.783806Z",
     "shell.execute_reply": "2022-09-20T12:12:09.782655Z",
     "shell.execute_reply.started": "2022-09-20T12:12:09.768687Z"
    }
   },
   "outputs": [],
   "source": [
    "models = pd.concat([log_reg.scores_table,\n",
    "                    mnb.scores_table,\n",
    "                    rf.scores_table,\n",
    "                    tree.scores_table,\n",
    "                    knn.scores_table,\n",
    "                    ada.scores_table,\n",
    "                    xgb.scores_table],\n",
    "                    axis=0)"
   ]
  },
  {
   "cell_type": "code",
   "execution_count": 54,
   "metadata": {
    "execution": {
     "iopub.execute_input": "2022-09-20T12:12:09.785974Z",
     "iopub.status.busy": "2022-09-20T12:12:09.785521Z",
     "iopub.status.idle": "2022-09-20T12:12:09.803938Z",
     "shell.execute_reply": "2022-09-20T12:12:09.802592Z",
     "shell.execute_reply.started": "2022-09-20T12:12:09.785941Z"
    }
   },
   "outputs": [
    {
     "data": {
      "text/html": [
       "<div>\n",
       "<style scoped>\n",
       "    .dataframe tbody tr th:only-of-type {\n",
       "        vertical-align: middle;\n",
       "    }\n",
       "\n",
       "    .dataframe tbody tr th {\n",
       "        vertical-align: top;\n",
       "    }\n",
       "\n",
       "    .dataframe thead th {\n",
       "        text-align: right;\n",
       "    }\n",
       "</style>\n",
       "<table border=\"1\" class=\"dataframe\">\n",
       "  <thead>\n",
       "    <tr style=\"text-align: right;\">\n",
       "      <th></th>\n",
       "      <th>Model Name</th>\n",
       "      <th>Train Accuracy</th>\n",
       "      <th>Validation Accuracy</th>\n",
       "      <th>Accuracy Difference</th>\n",
       "    </tr>\n",
       "  </thead>\n",
       "  <tbody>\n",
       "    <tr>\n",
       "      <th>0</th>\n",
       "      <td>Logistic Regression</td>\n",
       "      <td>0.801329</td>\n",
       "      <td>0.788683</td>\n",
       "      <td>0.012646</td>\n",
       "    </tr>\n",
       "    <tr>\n",
       "      <th>0</th>\n",
       "      <td>Multinomial Naive Bayes</td>\n",
       "      <td>0.696545</td>\n",
       "      <td>0.687671</td>\n",
       "      <td>0.008874</td>\n",
       "    </tr>\n",
       "  </tbody>\n",
       "</table>\n",
       "</div>"
      ],
      "text/plain": [
       "                Model Name  Train Accuracy  Validation Accuracy  \\\n",
       "0      Logistic Regression        0.801329             0.788683   \n",
       "0  Multinomial Naive Bayes        0.696545             0.687671   \n",
       "\n",
       "   Accuracy Difference  \n",
       "0             0.012646  \n",
       "0             0.008874  "
      ]
     },
     "execution_count": 54,
     "metadata": {},
     "output_type": "execute_result"
    }
   ],
   "source": [
    "models"
   ]
  },
  {
   "cell_type": "code",
   "execution_count": 55,
   "metadata": {
    "execution": {
     "iopub.execute_input": "2022-09-20T12:37:09.098227Z",
     "iopub.status.busy": "2022-09-20T12:37:09.097564Z",
     "iopub.status.idle": "2022-09-20T12:37:09.120238Z",
     "shell.execute_reply": "2022-09-20T12:37:09.119247Z",
     "shell.execute_reply.started": "2022-09-20T12:37:09.098088Z"
    }
   },
   "outputs": [],
   "source": [
    "#saving models results as a csv\n",
    "models.to_csv('./models_results.csv',index=False)"
   ]
  },
  {
   "cell_type": "code",
   "execution_count": 56,
   "metadata": {
    "execution": {
     "iopub.execute_input": "2022-09-20T12:37:21.047502Z",
     "iopub.status.busy": "2022-09-20T12:37:21.047033Z",
     "iopub.status.idle": "2022-09-20T12:37:23.228537Z",
     "shell.execute_reply": "2022-09-20T12:37:23.227385Z",
     "shell.execute_reply.started": "2022-09-20T12:37:21.047463Z"
    }
   },
   "outputs": [],
   "source": [
    "#saving all models to a pickle\n",
    "for model in [log_reg, mnb, rf, tree, knn, ada, xgb]:\n",
    "    pickle.dump(model, open(f'./{model.model_type}.pkl', 'wb'))"
   ]
  },
  {
   "cell_type": "markdown",
   "metadata": {},
   "source": [
    "## 5.2 Fitting the best model with test data"
   ]
  },
  {
   "cell_type": "markdown",
   "metadata": {},
   "source": [
    "## 5.3 Further model metrics and tuning"
   ]
  },
  {
   "cell_type": "code",
   "execution_count": 64,
   "metadata": {
    "execution": {
     "iopub.execute_input": "2022-09-20T12:38:18.146742Z",
     "iopub.status.busy": "2022-09-20T12:38:18.146285Z",
     "iopub.status.idle": "2022-09-20T12:38:18.160989Z",
     "shell.execute_reply": "2022-09-20T12:38:18.159541Z",
     "shell.execute_reply.started": "2022-09-20T12:38:18.146704Z"
    }
   },
   "outputs": [
    {
     "name": "stdout",
     "output_type": "stream",
     "text": [
      "<class 'Classification_py.Classification'>\n"
     ]
    }
   ],
   "source": [
    "print(type(xgb))"
   ]
  },
  {
   "cell_type": "code",
   "execution_count": 65,
   "metadata": {},
   "outputs": [
    {
     "name": "stdout",
     "output_type": "stream",
     "text": [
      "['__class__', '__delattr__', '__dict__', '__dir__', '__doc__', '__eq__', '__format__', '__ge__', '__getattribute__', '__getstate__', '__gt__', '__hash__', '__init__', '__init_subclass__', '__le__', '__lt__', '__module__', '__ne__', '__new__', '__reduce__', '__reduce_ex__', '__repr__', '__setattr__', '__sizeof__', '__slotnames__', '__str__', '__subclasshook__', '__weakref__', 'conf_matrix', 'feature_importances', 'get_feature_importances', 'get_scores', 'get_test_scores', 'model_type', 'name', 'scores', 'scores_table', 'technique', 'test_conf_matrix', 'x_train', 'x_val', 'y_train', 'y_val']\n"
     ]
    }
   ],
   "source": [
    "print(dir(xgb))"
   ]
  },
  {
   "cell_type": "code",
   "execution_count": 58,
   "metadata": {
    "execution": {
     "iopub.execute_input": "2022-09-20T12:40:00.478377Z",
     "iopub.status.busy": "2022-09-20T12:40:00.477818Z",
     "iopub.status.idle": "2022-09-20T12:40:00.496804Z",
     "shell.execute_reply": "2022-09-20T12:40:00.495540Z",
     "shell.execute_reply.started": "2022-09-20T12:40:00.478332Z"
    }
   },
   "outputs": [
    {
     "data": {
      "text/html": [
       "<div>\n",
       "<style scoped>\n",
       "    .dataframe tbody tr th:only-of-type {\n",
       "        vertical-align: middle;\n",
       "    }\n",
       "\n",
       "    .dataframe tbody tr th {\n",
       "        vertical-align: top;\n",
       "    }\n",
       "\n",
       "    .dataframe thead th {\n",
       "        text-align: right;\n",
       "    }\n",
       "</style>\n",
       "<table border=\"1\" class=\"dataframe\">\n",
       "  <thead>\n",
       "    <tr style=\"text-align: right;\">\n",
       "      <th></th>\n",
       "      <th>0</th>\n",
       "      <th>1</th>\n",
       "      <th>2</th>\n",
       "      <th>accuracy</th>\n",
       "      <th>macro avg</th>\n",
       "    </tr>\n",
       "  </thead>\n",
       "  <tbody>\n",
       "    <tr>\n",
       "      <th>precision</th>\n",
       "      <td>0.694542</td>\n",
       "      <td>0.512260</td>\n",
       "      <td>0.838515</td>\n",
       "      <td>0.788683</td>\n",
       "      <td>0.681772</td>\n",
       "    </tr>\n",
       "    <tr>\n",
       "      <th>recall</th>\n",
       "      <td>0.678042</td>\n",
       "      <td>0.268962</td>\n",
       "      <td>0.934322</td>\n",
       "      <td>0.788683</td>\n",
       "      <td>0.627108</td>\n",
       "    </tr>\n",
       "    <tr>\n",
       "      <th>f1-score</th>\n",
       "      <td>0.686192</td>\n",
       "      <td>0.352725</td>\n",
       "      <td>0.883830</td>\n",
       "      <td>0.788683</td>\n",
       "      <td>0.640916</td>\n",
       "    </tr>\n",
       "  </tbody>\n",
       "</table>\n",
       "</div>"
      ],
      "text/plain": [
       "                  0         1         2  accuracy  macro avg\n",
       "precision  0.694542  0.512260  0.838515  0.788683   0.681772\n",
       "recall     0.678042  0.268962  0.934322  0.788683   0.627108\n",
       "f1-score   0.686192  0.352725  0.883830  0.788683   0.640916"
      ]
     },
     "execution_count": 58,
     "metadata": {},
     "output_type": "execute_result"
    }
   ],
   "source": [
    "log_reg.classification_report"
   ]
  },
  {
   "cell_type": "code",
   "execution_count": null,
   "metadata": {},
   "outputs": [],
   "source": []
  },
  {
   "cell_type": "code",
   "execution_count": null,
   "metadata": {},
   "outputs": [],
   "source": []
  }
 ],
 "metadata": {
  "kernelspec": {
   "display_name": "Python 3 (ipykernel)",
   "language": "python",
   "name": "python3"
  },
  "language_info": {
   "codemirror_mode": {
    "name": "ipython",
    "version": 3
   },
   "file_extension": ".py",
   "mimetype": "text/x-python",
   "name": "python",
   "nbconvert_exporter": "python",
   "pygments_lexer": "ipython3",
   "version": "3.11.5"
  },
  "varInspector": {
   "cols": {
    "lenName": 16,
    "lenType": 16,
    "lenVar": 40
   },
   "kernels_config": {
    "python": {
     "delete_cmd_postfix": "",
     "delete_cmd_prefix": "del ",
     "library": "var_list.py",
     "varRefreshCmd": "print(var_dic_list())"
    },
    "r": {
     "delete_cmd_postfix": ") ",
     "delete_cmd_prefix": "rm(",
     "library": "var_list.r",
     "varRefreshCmd": "cat(var_dic_list()) "
    }
   },
   "types_to_exclude": [
    "module",
    "function",
    "builtin_function_or_method",
    "instance",
    "_Feature"
   ],
   "window_display": false
  }
 },
 "nbformat": 4,
 "nbformat_minor": 4
}
